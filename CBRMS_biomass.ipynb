{
 "cells": [
  {
   "cell_type": "markdown",
   "metadata": {},
   "source": [
    "# Library and Setup"
   ]
  },
  {
   "cell_type": "code",
   "execution_count": 28,
   "metadata": {},
   "outputs": [],
   "source": [
    "import pandas as pd # Data management tools\n",
    "import numpy as np # Mathematical operations\n",
    "import psycopg2 # Access to SQL\n",
    "import re # Regex and other lookup tools"
   ]
  },
  {
   "cell_type": "code",
   "execution_count": 29,
   "metadata": {},
   "outputs": [],
   "source": [
    "def fetch_table_to_df(conn, query):\n",
    "    \"\"\"\"Extracts entire table(s) from an SQL database. \n",
    "    \n",
    "    conn: Should be a connect function from psycopg2.\n",
    "    query: Tables to be extracted from the database.\n",
    "\n",
    "    \"\"\"\n",
    "    cur = conn.cursor()\n",
    "    cur.execute(query)\n",
    "    rows = cur.fetchall()\n",
    "    column_names = [desc[0] for desc in cur.description]\n",
    "    df = pd.DataFrame(rows, columns=column_names).replace({np.nan}, None)\n",
    "    cur.close()\n",
    "    return df"
   ]
  },
  {
   "cell_type": "code",
   "execution_count": 30,
   "metadata": {},
   "outputs": [],
   "source": [
    "conn = psycopg2.connect(\n",
    "    database=\"testing\",\n",
    "    user=\"postgres\",\n",
    "    password=\"postgres\",\n",
    "    host=\"localhost\",\n",
    "    port=\"5432\"\n",
    ")"
   ]
  },
  {
   "cell_type": "code",
   "execution_count": 31,
   "metadata": {},
   "outputs": [],
   "source": [
    "tables = \"tree_monitorings\", \"measurement_informations\", \"biomass_formulas\", \"tree_biomasses\", 'taxonomies' \n",
    "for table in tables:\n",
    "    table_name = f\"{table}\"\n",
    "    globals()[table_name] = fetch_table_to_df(conn, f\"SELECT * FROM {table}\")"
   ]
  },
  {
   "cell_type": "code",
   "execution_count": 32,
   "metadata": {},
   "outputs": [],
   "source": [
    "conn.close()"
   ]
  },
  {
   "cell_type": "markdown",
   "metadata": {},
   "source": [
    "# Preparation"
   ]
  },
  {
   "cell_type": "markdown",
   "metadata": {},
   "source": [
    "Python supports $pow()$, only need to remove $ sign from the equation"
   ]
  },
  {
   "cell_type": "code",
   "execution_count": 33,
   "metadata": {},
   "outputs": [],
   "source": [
    "#replacements = {'pow' : '', ',' : '**'}\n",
    "#biomass_formulas['formula_python'] = biomass_formulas['formula'].replace(replacements, regex = True).str.replace('$','')\n",
    "\n",
    "biomass_formulas['formula_python'] = biomass_formulas['formula'].str.replace('$','') #Simpler, pow() exists in python as well"
   ]
  },
  {
   "cell_type": "markdown",
   "metadata": {},
   "source": [
    "Changing data types for superfluous operations"
   ]
  },
  {
   "cell_type": "code",
   "execution_count": 34,
   "metadata": {},
   "outputs": [],
   "source": [
    "tree_monitorings[['tree_height', 'tree_dbh']] = tree_monitorings[['tree_height', 'tree_dbh']].astype('float')\n",
    "taxonomies['taxonomy_id'] = taxonomies['taxonomy_id'].astype('int')\n",
    "taxonomies['wood_density'] = taxonomies['wood_density'].astype('float')\n",
    "tree_monitorings['taxonomy_id'] = tree_monitorings['taxonomy_id'].astype('int')"
   ]
  },
  {
   "cell_type": "markdown",
   "metadata": {},
   "source": [
    "Current data shows combination of hasHeight+noDBH, noHeight+noDBH, hasHeight+hasDBH but no noHeight+hasDBH"
   ]
  },
  {
   "cell_type": "code",
   "execution_count": 35,
   "metadata": {},
   "outputs": [
    {
     "data": {
      "text/plain": [
       "tree_height  tree_dbh\n",
       "True         False       6301\n",
       "False        False       4193\n",
       "True         True        3234\n",
       "Name: count, dtype: int64"
      ]
     },
     "execution_count": 35,
     "metadata": {},
     "output_type": "execute_result"
    }
   ],
   "source": [
    "tree_monitorings[['tree_height','tree_dbh']].notna().value_counts()"
   ]
  },
  {
   "cell_type": "markdown",
   "metadata": {},
   "source": [
    "Standardizing tree_species names (unfinished, need to deal with NAs)"
   ]
  },
  {
   "cell_type": "code",
   "execution_count": 36,
   "metadata": {},
   "outputs": [],
   "source": [
    "tree_species = ['Suren', 'Kopi Liberika', 'Citrus', 'Casuarina','Other', 'Meranti','Soursop','Gaharu','Mango','Rosewood','Orange','Tengkurung','Durian','Cajuput','Jackfruit','Rambutan','Clove','Coffee', 'Lamtoro','Meranti Bakau', 'Meranti Bunga', 'Asam Gelugur','Avocado','Cempedak', 'Asam', 'Tampui', 'Sirsak', 'Kuras','Bitterbean','Mentangor']"
   ]
  },
  {
   "cell_type": "code",
   "execution_count": 37,
   "metadata": {},
   "outputs": [],
   "source": [
    "\n",
    "#x = [next(iter(x), np.nan) \n",
    "#          for x in map(lambda x: difflib.get_close_matches(x, tree_species, cutoff = 0.7), tree_monitorings['tree_species']) if x]"
   ]
  },
  {
   "cell_type": "markdown",
   "metadata": {},
   "source": [
    "Adding column of biomass_formula_id for simpler referencing in upcoming operations"
   ]
  },
  {
   "cell_type": "code",
   "execution_count": 38,
   "metadata": {},
   "outputs": [],
   "source": [
    "dbh_exist = tree_monitorings['tree_dbh'].notna()\n",
    "height_exist = tree_monitorings['tree_height'].notna()\n",
    "\n",
    "trees_wood_density = [taxonomies.loc[taxonomies['taxonomy_id'] == tax_id, 'wood_density'].values[0] \n",
    "                if tax_id in taxonomies['taxonomy_id'].values else None\n",
    "                for tax_id in tree_monitorings['taxonomy_id']]"
   ]
  },
  {
   "cell_type": "code",
   "execution_count": 39,
   "metadata": {},
   "outputs": [],
   "source": [
    "for index, (dbh, height, wood) in enumerate(zip(dbh_exist, height_exist, trees_wood_density)):\n",
    "    if dbh == 1 and height == 1:\n",
    "        if (wood != wood or wood == None):\n",
    "            tree_monitorings.loc[index, 'biomass_formulas_id'] = 7\n",
    "        else:\n",
    "            tree_monitorings.loc[index, 'biomass_formulas_id'] = 3\n",
    "    elif (dbh == 1 and height == 0):\n",
    "        tree_monitorings.loc[index, 'biomass_formulas_id'] = 5\n",
    "    elif (dbh == 0 and height == 1):\n",
    "        tree_monitorings.loc[index, 'biomass_formulas_id'] = 4\n",
    "    else:\n",
    "        tree_monitorings.loc[index, 'biomass_formulas_id'] = None"
   ]
  },
  {
   "cell_type": "code",
   "execution_count": 40,
   "metadata": {},
   "outputs": [
    {
     "data": {
      "text/plain": [
       "biomass_formulas_id\n",
       "4.0    6301\n",
       "NaN    4193\n",
       "7.0    3178\n",
       "3.0      56\n",
       "Name: count, dtype: int64"
      ]
     },
     "execution_count": 40,
     "metadata": {},
     "output_type": "execute_result"
    }
   ],
   "source": [
    "tree_monitorings.biomass_formulas_id.value_counts(dropna= False)"
   ]
  },
  {
   "cell_type": "markdown",
   "metadata": {},
   "source": [
    "Filtering data from measurement_information which also exist in tree_monitorings"
   ]
  },
  {
   "cell_type": "code",
   "execution_count": 41,
   "metadata": {},
   "outputs": [],
   "source": [
    "type1_measurement = measurement_informations[(measurement_informations['monitoring_id'].isin(tree_monitorings['id'])== True) & measurement_informations['monitoring_type'] == 1]"
   ]
  },
  {
   "cell_type": "markdown",
   "metadata": {},
   "source": [
    "Calculation of biomass, still unoptimized"
   ]
  },
  {
   "cell_type": "code",
   "execution_count": 42,
   "metadata": {},
   "outputs": [],
   "source": [
    "taxonomy_dict = taxonomies.set_index('taxonomy_id')['wood_density'].to_dict() #Set wood identity for referral from taxonomy_id\n",
    "\n",
    "biomass_index = [] #empty list for storing valid biomass ids\n",
    "result = [] #empty list for storing results\n",
    "for index_used in type1_measurement['monitoring_id']:\n",
    "    tree_dbh     = tree_monitorings.loc[tree_monitorings['id'] == index_used,'tree_dbh'].values[0]\n",
    "    tree_height  = tree_monitorings.loc[tree_monitorings['id'] == index_used,'tree_height'].values[0]\n",
    "    biomass_id   = tree_monitorings.loc[tree_monitorings['id'] == index_used,'biomass_formulas_id'].values[0]\n",
    "    tax_id       = tree_monitorings.loc[tree_monitorings['id'] == index_used,'taxonomy_id'].values[0]\n",
    "    wood_density = taxonomy_dict.get(tax_id)\n",
    "    if (biomass_id != biomass_id or biomass_id == None):\n",
    "        continue\n",
    "    else:\n",
    "        biomass_form = biomass_formulas.loc[biomass_formulas['id'] == biomass_id, 'formula_python']\n",
    "        for biomass in biomass_form:\n",
    "            biomass_result = round(eval(biomass),3)\n",
    "            result.append(biomass_result)\n",
    "            biomass_index.append(index_used)"
   ]
  },
  {
   "cell_type": "markdown",
   "metadata": {},
   "source": [
    "# Creating Biomass Table/Dataframe"
   ]
  },
  {
   "cell_type": "code",
   "execution_count": 43,
   "metadata": {},
   "outputs": [],
   "source": [
    "tree_biomasses_python = type1_measurement[type1_measurement['monitoring_id'].isin(biomass_index) == True]"
   ]
  },
  {
   "cell_type": "code",
   "execution_count": 44,
   "metadata": {},
   "outputs": [],
   "source": [
    "tree_biomasses_python = tree_biomasses_python.drop(['id','timenow','start', 'end','username','notes','_xform_id','_xform_id_string','monitoring_order','month_monitoring','phase'], axis = 1)\n"
   ]
  },
  {
   "cell_type": "code",
   "execution_count": 45,
   "metadata": {},
   "outputs": [],
   "source": [
    "tree_biomasses_python['result'] = result"
   ]
  },
  {
   "cell_type": "code",
   "execution_count": 46,
   "metadata": {},
   "outputs": [],
   "source": [
    "tree_biomasses_python['taxonomy_id'] = [tree_monitorings.loc[tree_monitorings['id'] == mon_id, 'taxonomy_id'].values[0] \n",
    "                if mon_id in tree_monitorings['id'].values else None\n",
    "                for mon_id in tree_biomasses_python['monitoring_id']]"
   ]
  },
  {
   "cell_type": "code",
   "execution_count": 47,
   "metadata": {},
   "outputs": [],
   "source": [
    "tree_biomasses_python['tree_species'] = [tree_monitorings.loc[tree_monitorings['id'] == mon_id, 'tree_species'].values[0] \n",
    "                if mon_id in tree_monitorings['id'].values else None\n",
    "                for mon_id in tree_biomasses_python['monitoring_id']]"
   ]
  },
  {
   "cell_type": "code",
   "execution_count": 48,
   "metadata": {},
   "outputs": [],
   "source": [
    "tree_biomasses_python['tree_id'] = [tree_monitorings.loc[tree_monitorings['id'] == mon_id, 'tree_id'].values[0] \n",
    "                if mon_id in tree_monitorings['id'].values else None\n",
    "                for mon_id in tree_biomasses_python['monitoring_id']]"
   ]
  },
  {
   "cell_type": "code",
   "execution_count": 49,
   "metadata": {},
   "outputs": [],
   "source": [
    "tree_biomasses_python['submission_time'] = [tree_monitorings.loc[tree_monitorings['id'] == mon_id, 'submission_time'].values[0] \n",
    "                if mon_id in tree_monitorings['id'].values else None\n",
    "                for mon_id in tree_biomasses_python['monitoring_id']]"
   ]
  },
  {
   "cell_type": "code",
   "execution_count": 50,
   "metadata": {},
   "outputs": [],
   "source": [
    "import datetime\n",
    "tree_biomasses_python['updated_at'] = datetime.datetime.now().strftime('%Y-%m-%d %H:%M:%S')\n"
   ]
  },
  {
   "cell_type": "code",
   "execution_count": 51,
   "metadata": {},
   "outputs": [],
   "source": [
    "carbon = []\n",
    "for res in result:\n",
    "    if (res != res or res == None):\n",
    "        continue\n",
    "    else:\n",
    "        carbon.append(res * 0.5 * 3.67) # biomass * 0.5 * 3.67\n",
    "tree_biomasses_python['carbon'] = carbon"
   ]
  },
  {
   "cell_type": "code",
   "execution_count": 52,
   "metadata": {},
   "outputs": [],
   "source": [
    "tree_biomasses_python['id'] = range(1,len(tree_biomasses_python)+1)"
   ]
  },
  {
   "cell_type": "code",
   "execution_count": 53,
   "metadata": {},
   "outputs": [
    {
     "data": {
      "text/html": [
       "<div>\n",
       "<style scoped>\n",
       "    .dataframe tbody tr th:only-of-type {\n",
       "        vertical-align: middle;\n",
       "    }\n",
       "\n",
       "    .dataframe tbody tr th {\n",
       "        vertical-align: top;\n",
       "    }\n",
       "\n",
       "    .dataframe thead th {\n",
       "        text-align: right;\n",
       "    }\n",
       "</style>\n",
       "<table border=\"1\" class=\"dataframe\">\n",
       "  <thead>\n",
       "    <tr style=\"text-align: right;\">\n",
       "      <th></th>\n",
       "      <th>id</th>\n",
       "      <th>monitoring_id</th>\n",
       "      <th>tree_id</th>\n",
       "      <th>tree_species</th>\n",
       "      <th>taxonomy_id</th>\n",
       "      <th>result</th>\n",
       "      <th>carbon</th>\n",
       "      <th>date_monitoring</th>\n",
       "      <th>submission_time</th>\n",
       "      <th>created_at</th>\n",
       "      <th>updated_at</th>\n",
       "    </tr>\n",
       "  </thead>\n",
       "  <tbody>\n",
       "    <tr>\n",
       "      <th>1653</th>\n",
       "      <td>1</td>\n",
       "      <td>62</td>\n",
       "      <td>AA01T0180</td>\n",
       "      <td>Meranti</td>\n",
       "      <td>5</td>\n",
       "      <td>0.000</td>\n",
       "      <td>0.000000</td>\n",
       "      <td>2018-04-23</td>\n",
       "      <td>2019-03-29 14:36:00</td>\n",
       "      <td>2021-08-01 20:19:02</td>\n",
       "      <td>2024-11-14 11:27:14</td>\n",
       "    </tr>\n",
       "    <tr>\n",
       "      <th>1686</th>\n",
       "      <td>2</td>\n",
       "      <td>1</td>\n",
       "      <td>AA01T0001</td>\n",
       "      <td>Gaharu</td>\n",
       "      <td>4</td>\n",
       "      <td>0.031</td>\n",
       "      <td>0.056885</td>\n",
       "      <td>2018-02-21</td>\n",
       "      <td>2019-03-29 14:02:38</td>\n",
       "      <td>2021-08-01 20:19:01</td>\n",
       "      <td>2024-11-14 11:27:14</td>\n",
       "    </tr>\n",
       "    <tr>\n",
       "      <th>1793</th>\n",
       "      <td>3</td>\n",
       "      <td>30838</td>\n",
       "      <td>BB-01-0-0024</td>\n",
       "      <td>Suren</td>\n",
       "      <td>64</td>\n",
       "      <td>0.295</td>\n",
       "      <td>0.541325</td>\n",
       "      <td>2024-08-15</td>\n",
       "      <td>2024-09-11 00:00:00</td>\n",
       "      <td>2024-09-11 18:13:55</td>\n",
       "      <td>2024-11-14 11:27:14</td>\n",
       "    </tr>\n",
       "    <tr>\n",
       "      <th>1794</th>\n",
       "      <td>4</td>\n",
       "      <td>30839</td>\n",
       "      <td>BB-01-0-0026</td>\n",
       "      <td>Suren</td>\n",
       "      <td>64</td>\n",
       "      <td>0.144</td>\n",
       "      <td>0.264240</td>\n",
       "      <td>2024-08-15</td>\n",
       "      <td>2024-09-11 00:00:00</td>\n",
       "      <td>2024-09-11 18:13:55</td>\n",
       "      <td>2024-11-14 11:27:14</td>\n",
       "    </tr>\n",
       "    <tr>\n",
       "      <th>1795</th>\n",
       "      <td>5</td>\n",
       "      <td>30840</td>\n",
       "      <td>BB-01-0-0027</td>\n",
       "      <td>Suren</td>\n",
       "      <td>64</td>\n",
       "      <td>0.329</td>\n",
       "      <td>0.603715</td>\n",
       "      <td>2024-08-15</td>\n",
       "      <td>2024-09-11 00:00:00</td>\n",
       "      <td>2024-09-11 18:13:55</td>\n",
       "      <td>2024-11-14 11:27:14</td>\n",
       "    </tr>\n",
       "    <tr>\n",
       "      <th>...</th>\n",
       "      <td>...</td>\n",
       "      <td>...</td>\n",
       "      <td>...</td>\n",
       "      <td>...</td>\n",
       "      <td>...</td>\n",
       "      <td>...</td>\n",
       "      <td>...</td>\n",
       "      <td>...</td>\n",
       "      <td>...</td>\n",
       "      <td>...</td>\n",
       "      <td>...</td>\n",
       "    </tr>\n",
       "    <tr>\n",
       "      <th>18791</th>\n",
       "      <td>10581</td>\n",
       "      <td>36980</td>\n",
       "      <td>CL-10-0-1843</td>\n",
       "      <td>suren</td>\n",
       "      <td>64</td>\n",
       "      <td>0.473</td>\n",
       "      <td>0.867955</td>\n",
       "      <td>2023-08-21</td>\n",
       "      <td>2024-09-11 00:00:00</td>\n",
       "      <td>2024-09-11 21:22:56</td>\n",
       "      <td>2024-11-14 11:27:14</td>\n",
       "    </tr>\n",
       "    <tr>\n",
       "      <th>18792</th>\n",
       "      <td>10582</td>\n",
       "      <td>36981</td>\n",
       "      <td>CL-10-0-1844</td>\n",
       "      <td>suren</td>\n",
       "      <td>64</td>\n",
       "      <td>0.577</td>\n",
       "      <td>1.058795</td>\n",
       "      <td>2023-08-21</td>\n",
       "      <td>2024-09-11 00:00:00</td>\n",
       "      <td>2024-09-11 21:22:56</td>\n",
       "      <td>2024-11-14 11:27:14</td>\n",
       "    </tr>\n",
       "    <tr>\n",
       "      <th>18793</th>\n",
       "      <td>10583</td>\n",
       "      <td>36982</td>\n",
       "      <td>CL-10-0-1845</td>\n",
       "      <td>suren</td>\n",
       "      <td>64</td>\n",
       "      <td>0.944</td>\n",
       "      <td>1.732240</td>\n",
       "      <td>2023-08-21</td>\n",
       "      <td>2024-09-11 00:00:00</td>\n",
       "      <td>2024-09-11 21:22:56</td>\n",
       "      <td>2024-11-14 11:27:14</td>\n",
       "    </tr>\n",
       "    <tr>\n",
       "      <th>18794</th>\n",
       "      <td>10584</td>\n",
       "      <td>36983</td>\n",
       "      <td>CL-10-0-1846</td>\n",
       "      <td>suren</td>\n",
       "      <td>64</td>\n",
       "      <td>0.225</td>\n",
       "      <td>0.412875</td>\n",
       "      <td>2023-08-21</td>\n",
       "      <td>2024-09-11 00:00:00</td>\n",
       "      <td>2024-09-11 21:22:56</td>\n",
       "      <td>2024-11-14 11:27:14</td>\n",
       "    </tr>\n",
       "    <tr>\n",
       "      <th>18795</th>\n",
       "      <td>10585</td>\n",
       "      <td>36984</td>\n",
       "      <td>CL-10-0-1847</td>\n",
       "      <td>suren</td>\n",
       "      <td>64</td>\n",
       "      <td>0.277</td>\n",
       "      <td>0.508295</td>\n",
       "      <td>2023-08-21</td>\n",
       "      <td>2024-09-11 00:00:00</td>\n",
       "      <td>2024-09-11 21:22:56</td>\n",
       "      <td>2024-11-14 11:27:14</td>\n",
       "    </tr>\n",
       "  </tbody>\n",
       "</table>\n",
       "<p>10585 rows × 11 columns</p>\n",
       "</div>"
      ],
      "text/plain": [
       "          id  monitoring_id       tree_id tree_species  taxonomy_id  result  \\\n",
       "1653       1             62     AA01T0180      Meranti            5   0.000   \n",
       "1686       2              1     AA01T0001       Gaharu            4   0.031   \n",
       "1793       3          30838  BB-01-0-0024        Suren           64   0.295   \n",
       "1794       4          30839  BB-01-0-0026        Suren           64   0.144   \n",
       "1795       5          30840  BB-01-0-0027        Suren           64   0.329   \n",
       "...      ...            ...           ...          ...          ...     ...   \n",
       "18791  10581          36980  CL-10-0-1843        suren           64   0.473   \n",
       "18792  10582          36981  CL-10-0-1844        suren           64   0.577   \n",
       "18793  10583          36982  CL-10-0-1845        suren           64   0.944   \n",
       "18794  10584          36983  CL-10-0-1846        suren           64   0.225   \n",
       "18795  10585          36984  CL-10-0-1847        suren           64   0.277   \n",
       "\n",
       "         carbon date_monitoring     submission_time          created_at  \\\n",
       "1653   0.000000      2018-04-23 2019-03-29 14:36:00 2021-08-01 20:19:02   \n",
       "1686   0.056885      2018-02-21 2019-03-29 14:02:38 2021-08-01 20:19:01   \n",
       "1793   0.541325      2024-08-15 2024-09-11 00:00:00 2024-09-11 18:13:55   \n",
       "1794   0.264240      2024-08-15 2024-09-11 00:00:00 2024-09-11 18:13:55   \n",
       "1795   0.603715      2024-08-15 2024-09-11 00:00:00 2024-09-11 18:13:55   \n",
       "...         ...             ...                 ...                 ...   \n",
       "18791  0.867955      2023-08-21 2024-09-11 00:00:00 2024-09-11 21:22:56   \n",
       "18792  1.058795      2023-08-21 2024-09-11 00:00:00 2024-09-11 21:22:56   \n",
       "18793  1.732240      2023-08-21 2024-09-11 00:00:00 2024-09-11 21:22:56   \n",
       "18794  0.412875      2023-08-21 2024-09-11 00:00:00 2024-09-11 21:22:56   \n",
       "18795  0.508295      2023-08-21 2024-09-11 00:00:00 2024-09-11 21:22:56   \n",
       "\n",
       "                updated_at  \n",
       "1653   2024-11-14 11:27:14  \n",
       "1686   2024-11-14 11:27:14  \n",
       "1793   2024-11-14 11:27:14  \n",
       "1794   2024-11-14 11:27:14  \n",
       "1795   2024-11-14 11:27:14  \n",
       "...                    ...  \n",
       "18791  2024-11-14 11:27:14  \n",
       "18792  2024-11-14 11:27:14  \n",
       "18793  2024-11-14 11:27:14  \n",
       "18794  2024-11-14 11:27:14  \n",
       "18795  2024-11-14 11:27:14  \n",
       "\n",
       "[10585 rows x 11 columns]"
      ]
     },
     "execution_count": 53,
     "metadata": {},
     "output_type": "execute_result"
    }
   ],
   "source": [
    "tree_biomasses_python = tree_biomasses_python[['id','monitoring_id','tree_id','tree_species','taxonomy_id','result','carbon','date_monitoring','submission_time','created_at','updated_at']]\n",
    "tree_biomasses_python"
   ]
  },
  {
   "cell_type": "code",
   "execution_count": 54,
   "metadata": {},
   "outputs": [
    {
     "data": {
      "text/html": [
       "<div>\n",
       "<style scoped>\n",
       "    .dataframe tbody tr th:only-of-type {\n",
       "        vertical-align: middle;\n",
       "    }\n",
       "\n",
       "    .dataframe tbody tr th {\n",
       "        vertical-align: top;\n",
       "    }\n",
       "\n",
       "    .dataframe thead th {\n",
       "        text-align: right;\n",
       "    }\n",
       "</style>\n",
       "<table border=\"1\" class=\"dataframe\">\n",
       "  <thead>\n",
       "    <tr style=\"text-align: right;\">\n",
       "      <th></th>\n",
       "      <th>id</th>\n",
       "      <th>monitoring_id</th>\n",
       "      <th>tree_id</th>\n",
       "      <th>tree_species</th>\n",
       "      <th>taxonomy_id</th>\n",
       "      <th>result</th>\n",
       "      <th>carbon</th>\n",
       "      <th>date_monitoring</th>\n",
       "      <th>submission_time</th>\n",
       "      <th>created_at</th>\n",
       "      <th>updated_at</th>\n",
       "    </tr>\n",
       "  </thead>\n",
       "  <tbody>\n",
       "    <tr>\n",
       "      <th>0</th>\n",
       "      <td>1</td>\n",
       "      <td>32192</td>\n",
       "      <td>BB-06-0-1981</td>\n",
       "      <td>Mango</td>\n",
       "      <td>63</td>\n",
       "      <td>0.13072</td>\n",
       "      <td>0.06536</td>\n",
       "      <td>2024-08-15</td>\n",
       "      <td>2024-09-11 00:00:00</td>\n",
       "      <td>2024-09-11 22:42:35</td>\n",
       "      <td>2024-09-11 22:42:35</td>\n",
       "    </tr>\n",
       "    <tr>\n",
       "      <th>1</th>\n",
       "      <td>2</td>\n",
       "      <td>1253</td>\n",
       "      <td>P-1-051880062</td>\n",
       "      <td>Jelutung</td>\n",
       "      <td>17</td>\n",
       "      <td>None</td>\n",
       "      <td>None</td>\n",
       "      <td>2019-08-25</td>\n",
       "      <td>2021-07-28 00:00:00</td>\n",
       "      <td>2024-09-11 22:42:35</td>\n",
       "      <td>2024-09-11 22:42:35</td>\n",
       "    </tr>\n",
       "    <tr>\n",
       "      <th>2</th>\n",
       "      <td>3</td>\n",
       "      <td>2064</td>\n",
       "      <td>P-1-051880063</td>\n",
       "      <td>Jelutung</td>\n",
       "      <td>17</td>\n",
       "      <td>None</td>\n",
       "      <td>None</td>\n",
       "      <td>2020-09-19</td>\n",
       "      <td>2021-07-28 00:00:00</td>\n",
       "      <td>2024-09-11 22:42:35</td>\n",
       "      <td>2024-09-11 22:42:35</td>\n",
       "    </tr>\n",
       "    <tr>\n",
       "      <th>3</th>\n",
       "      <td>4</td>\n",
       "      <td>1254</td>\n",
       "      <td>P-1-051880063</td>\n",
       "      <td>Jelutung</td>\n",
       "      <td>17</td>\n",
       "      <td>None</td>\n",
       "      <td>None</td>\n",
       "      <td>2019-08-25</td>\n",
       "      <td>2021-07-28 00:00:00</td>\n",
       "      <td>2024-09-11 22:42:35</td>\n",
       "      <td>2024-09-11 22:42:35</td>\n",
       "    </tr>\n",
       "    <tr>\n",
       "      <th>4</th>\n",
       "      <td>5</td>\n",
       "      <td>2065</td>\n",
       "      <td>P-1-051880064</td>\n",
       "      <td>Jelutung</td>\n",
       "      <td>17</td>\n",
       "      <td>None</td>\n",
       "      <td>None</td>\n",
       "      <td>2020-09-19</td>\n",
       "      <td>2021-07-28 00:00:00</td>\n",
       "      <td>2024-09-11 22:42:35</td>\n",
       "      <td>2024-09-11 22:42:35</td>\n",
       "    </tr>\n",
       "    <tr>\n",
       "      <th>...</th>\n",
       "      <td>...</td>\n",
       "      <td>...</td>\n",
       "      <td>...</td>\n",
       "      <td>...</td>\n",
       "      <td>...</td>\n",
       "      <td>...</td>\n",
       "      <td>...</td>\n",
       "      <td>...</td>\n",
       "      <td>...</td>\n",
       "      <td>...</td>\n",
       "      <td>...</td>\n",
       "    </tr>\n",
       "    <tr>\n",
       "      <th>10639</th>\n",
       "      <td>10640</td>\n",
       "      <td>37979</td>\n",
       "      <td>CL-10-0-1844</td>\n",
       "      <td>Suren</td>\n",
       "      <td>64</td>\n",
       "      <td>None</td>\n",
       "      <td>None</td>\n",
       "      <td>2024-08-19</td>\n",
       "      <td>2024-09-11 00:00:00</td>\n",
       "      <td>2024-09-11 22:42:55</td>\n",
       "      <td>2024-09-11 22:42:55</td>\n",
       "    </tr>\n",
       "    <tr>\n",
       "      <th>10640</th>\n",
       "      <td>10641</td>\n",
       "      <td>37980</td>\n",
       "      <td>CL-10-0-1845</td>\n",
       "      <td>Suren</td>\n",
       "      <td>64</td>\n",
       "      <td>None</td>\n",
       "      <td>None</td>\n",
       "      <td>2024-08-19</td>\n",
       "      <td>2024-09-11 00:00:00</td>\n",
       "      <td>2024-09-11 22:42:55</td>\n",
       "      <td>2024-09-11 22:42:55</td>\n",
       "    </tr>\n",
       "    <tr>\n",
       "      <th>10641</th>\n",
       "      <td>10642</td>\n",
       "      <td>37981</td>\n",
       "      <td>CL-10-0-1846</td>\n",
       "      <td>Suren</td>\n",
       "      <td>64</td>\n",
       "      <td>None</td>\n",
       "      <td>None</td>\n",
       "      <td>2024-08-19</td>\n",
       "      <td>2024-09-11 00:00:00</td>\n",
       "      <td>2024-09-11 22:42:55</td>\n",
       "      <td>2024-09-11 22:42:55</td>\n",
       "    </tr>\n",
       "    <tr>\n",
       "      <th>10642</th>\n",
       "      <td>10643</td>\n",
       "      <td>37982</td>\n",
       "      <td>CL-10-0-1847</td>\n",
       "      <td>Suren</td>\n",
       "      <td>64</td>\n",
       "      <td>None</td>\n",
       "      <td>None</td>\n",
       "      <td>2024-08-19</td>\n",
       "      <td>2024-09-11 00:00:00</td>\n",
       "      <td>2024-09-11 22:42:55</td>\n",
       "      <td>2024-09-11 22:42:55</td>\n",
       "    </tr>\n",
       "    <tr>\n",
       "      <th>10643</th>\n",
       "      <td>10644</td>\n",
       "      <td>1048</td>\n",
       "      <td>8999999036607</td>\n",
       "      <td>Test</td>\n",
       "      <td>0</td>\n",
       "      <td>0.00016</td>\n",
       "      <td>0.00008</td>\n",
       "      <td>2021-08-01</td>\n",
       "      <td>2021-08-01 12:29:32</td>\n",
       "      <td>2024-09-11 22:42:55</td>\n",
       "      <td>2024-09-11 22:42:55</td>\n",
       "    </tr>\n",
       "  </tbody>\n",
       "</table>\n",
       "<p>10644 rows × 11 columns</p>\n",
       "</div>"
      ],
      "text/plain": [
       "          id  monitoring_id        tree_id tree_species  taxonomy_id   result  \\\n",
       "0          1          32192   BB-06-0-1981        Mango           63  0.13072   \n",
       "1          2           1253  P-1-051880062     Jelutung           17     None   \n",
       "2          3           2064  P-1-051880063     Jelutung           17     None   \n",
       "3          4           1254  P-1-051880063     Jelutung           17     None   \n",
       "4          5           2065  P-1-051880064     Jelutung           17     None   \n",
       "...      ...            ...            ...          ...          ...      ...   \n",
       "10639  10640          37979   CL-10-0-1844        Suren           64     None   \n",
       "10640  10641          37980   CL-10-0-1845        Suren           64     None   \n",
       "10641  10642          37981   CL-10-0-1846        Suren           64     None   \n",
       "10642  10643          37982   CL-10-0-1847        Suren           64     None   \n",
       "10643  10644           1048  8999999036607         Test            0  0.00016   \n",
       "\n",
       "        carbon date_monitoring     submission_time          created_at  \\\n",
       "0      0.06536      2024-08-15 2024-09-11 00:00:00 2024-09-11 22:42:35   \n",
       "1         None      2019-08-25 2021-07-28 00:00:00 2024-09-11 22:42:35   \n",
       "2         None      2020-09-19 2021-07-28 00:00:00 2024-09-11 22:42:35   \n",
       "3         None      2019-08-25 2021-07-28 00:00:00 2024-09-11 22:42:35   \n",
       "4         None      2020-09-19 2021-07-28 00:00:00 2024-09-11 22:42:35   \n",
       "...        ...             ...                 ...                 ...   \n",
       "10639     None      2024-08-19 2024-09-11 00:00:00 2024-09-11 22:42:55   \n",
       "10640     None      2024-08-19 2024-09-11 00:00:00 2024-09-11 22:42:55   \n",
       "10641     None      2024-08-19 2024-09-11 00:00:00 2024-09-11 22:42:55   \n",
       "10642     None      2024-08-19 2024-09-11 00:00:00 2024-09-11 22:42:55   \n",
       "10643  0.00008      2021-08-01 2021-08-01 12:29:32 2024-09-11 22:42:55   \n",
       "\n",
       "               updated_at  \n",
       "0     2024-09-11 22:42:35  \n",
       "1     2024-09-11 22:42:35  \n",
       "2     2024-09-11 22:42:35  \n",
       "3     2024-09-11 22:42:35  \n",
       "4     2024-09-11 22:42:35  \n",
       "...                   ...  \n",
       "10639 2024-09-11 22:42:55  \n",
       "10640 2024-09-11 22:42:55  \n",
       "10641 2024-09-11 22:42:55  \n",
       "10642 2024-09-11 22:42:55  \n",
       "10643 2024-09-11 22:42:55  \n",
       "\n",
       "[10644 rows x 11 columns]"
      ]
     },
     "execution_count": 54,
     "metadata": {},
     "output_type": "execute_result"
    }
   ],
   "source": [
    "tree_biomasses"
   ]
  }
 ],
 "metadata": {
  "kernelspec": {
   "display_name": "Python 3",
   "language": "python",
   "name": "python3"
  },
  "language_info": {
   "codemirror_mode": {
    "name": "ipython",
    "version": 3
   },
   "file_extension": ".py",
   "mimetype": "text/x-python",
   "name": "python",
   "nbconvert_exporter": "python",
   "pygments_lexer": "ipython3",
   "version": "3.11.9"
  }
 },
 "nbformat": 4,
 "nbformat_minor": 2
}
