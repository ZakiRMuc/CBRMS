{
 "cells": [
  {
   "cell_type": "markdown",
   "metadata": {},
   "source": [
    "# Library and Setup"
   ]
  },
  {
   "cell_type": "code",
   "execution_count": 5,
   "metadata": {},
   "outputs": [],
   "source": [
    "import pandas as pd # Data management tools\n",
    "import numpy as np # Mathematical operations\n",
    "import psycopg2 # Access to SQL\n",
    "import re # Regex and other lookup tools\n",
    "import datetime"
   ]
  },
  {
   "cell_type": "code",
   "execution_count": 6,
   "metadata": {},
   "outputs": [],
   "source": [
    "conn = psycopg2.connect(\n",
    "    database=\"testing\",\n",
    "    user=\"postgres\",\n",
    "    password=\"forest25\",\n",
    "    host=\"localhost\",\n",
    "    port=\"5432\"\n",
    ")"
   ]
  },
  {
   "cell_type": "code",
   "execution_count": 7,
   "metadata": {},
   "outputs": [],
   "source": [
    "def fetch_table_to_df(conn, query):\n",
    "    \"\"\"\"Extracts entire table(s) from an SQL database. \n",
    "    \n",
    "    conn: Should be a connect function from psycopg2.\n",
    "    query: Tables to be extracted from the database.\n",
    "\n",
    "    \"\"\"\n",
    "    cur = conn.cursor()\n",
    "    cur.execute(query)\n",
    "    rows = cur.fetchall()\n",
    "    column_names = [desc[0] for desc in cur.description]\n",
    "    df = pd.DataFrame(rows, columns=column_names).replace({np.nan}, None)\n",
    "    cur.close()\n",
    "    return df"
   ]
  },
  {
   "cell_type": "code",
   "execution_count": 8,
   "metadata": {},
   "outputs": [],
   "source": [
    "tables = \"tree_monitorings\", \"measurement_informations\", \"biomass_formulas\", \"tree_biomasses\", 'taxonomies', 'tree_samplings', 'plot_informations', \"site_informations\"\n",
    "for table in tables:\n",
    "    table_name = f\"{table}\"\n",
    "    globals()[table_name] = fetch_table_to_df(conn, f\"SELECT * FROM {table}\")"
   ]
  },
  {
   "cell_type": "markdown",
   "metadata": {},
   "source": [
    "# Biomass Calculation"
   ]
  },
  {
   "cell_type": "markdown",
   "metadata": {},
   "source": [
    "# Preparation"
   ]
  },
  {
   "cell_type": "markdown",
   "metadata": {},
   "source": [
    "Python supports $pow()$, only need to remove $ sign from the equation"
   ]
  },
  {
   "cell_type": "code",
   "execution_count": 9,
   "metadata": {},
   "outputs": [
    {
     "name": "stderr",
     "output_type": "stream",
     "text": [
      "C:\\Users\\zrmuc\\AppData\\Local\\Temp\\ipykernel_12428\\4081924158.py:4: FutureWarning: The default value of regex will change from True to False in a future version. In addition, single character regular expressions will *not* be treated as literal strings when regex=True.\n",
      "  biomass_formulas['formula_python'] = biomass_formulas['formula'].str.replace('$','') #Simpler, pow() exists in python as well\n"
     ]
    }
   ],
   "source": [
    "#replacements = {'pow' : '', ',' : '**'}\n",
    "#biomass_formulas['formula_python'] = biomass_formulas['formula'].replace(replacements, regex = True).str.replace('$','')\n",
    "\n",
    "biomass_formulas['formula_python'] = biomass_formulas['formula'].str.replace('$','') #Simpler, pow() exists in python as well"
   ]
  },
  {
   "cell_type": "markdown",
   "metadata": {},
   "source": [
    "Changing data types for smooth operations"
   ]
  },
  {
   "cell_type": "code",
   "execution_count": 10,
   "metadata": {},
   "outputs": [],
   "source": [
    "tree_monitorings[['tree_height', 'tree_dbh']] = tree_monitorings[['tree_height', 'tree_dbh']].astype('float')\n",
    "taxonomies['id'] = taxonomies['id'].astype('int')\n",
    "taxonomies['wood_density'] = taxonomies['wood_density'].astype('float')\n",
    "tree_monitorings['taxonomy_id'] = tree_monitorings['taxonomy_id'].astype('int')"
   ]
  },
  {
   "cell_type": "markdown",
   "metadata": {},
   "source": [
    "Current data shows combination of hasHeight+noDBH, noHeight+noDBH, hasHeight+hasDBH but no noHeight+hasDBH"
   ]
  },
  {
   "cell_type": "code",
   "execution_count": 11,
   "metadata": {},
   "outputs": [
    {
     "data": {
      "text/plain": [
       "tree_height  tree_dbh\n",
       "True         False       6301\n",
       "False        False       4193\n",
       "True         True        3234\n",
       "dtype: int64"
      ]
     },
     "execution_count": 11,
     "metadata": {},
     "output_type": "execute_result"
    }
   ],
   "source": [
    "tree_monitorings[['tree_height','tree_dbh']].notna().value_counts()"
   ]
  },
  {
   "cell_type": "markdown",
   "metadata": {},
   "source": [
    "Standardizing tree_species names (unfinished, need to deal with NAs)"
   ]
  },
  {
   "cell_type": "code",
   "execution_count": 12,
   "metadata": {},
   "outputs": [],
   "source": [
    "tree_species = ['Suren', 'Kopi Liberika', 'Citrus', 'Casuarina','Other', 'Meranti','Soursop','Gaharu','Mango','Rosewood','Orange','Tengkurung','Durian','Cajuput','Jackfruit','Rambutan','Clove','Coffee', 'Lamtoro','Meranti Bakau', 'Meranti Bunga', 'Asam Gelugur','Avocado','Cempedak', 'Asam', 'Tampui', 'Sirsak', 'Kuras','Bitterbean','Mentangor']"
   ]
  },
  {
   "cell_type": "code",
   "execution_count": 13,
   "metadata": {},
   "outputs": [],
   "source": [
    "#x = [next(iter(x), np.nan) \n",
    "#          for x in map(lambda x: difflib.get_close_matches(x, tree_species, cutoff = 0.7), tree_monitorings['tree_species']) if x]"
   ]
  },
  {
   "cell_type": "markdown",
   "metadata": {},
   "source": [
    "## Full Census Biomass Calculation"
   ]
  },
  {
   "cell_type": "markdown",
   "metadata": {},
   "source": [
    "Adding column of biomass_formula_id for simpler referencing in upcoming operations"
   ]
  },
  {
   "cell_type": "code",
   "execution_count": 14,
   "metadata": {},
   "outputs": [],
   "source": [
    "dbh_exist = tree_monitorings['tree_dbh'].notna() # check which is not NA\n",
    "height_exist = tree_monitorings['tree_height'].notna() # check which is not NA\n",
    "\n",
    "trees_wood_density = [taxonomies.loc[taxonomies['id'] == tax_id, 'wood_density'].values[0] \n",
    "                if tax_id in taxonomies['id'].values else None\n",
    "                for tax_id in tree_monitorings['taxonomy_id']]"
   ]
  },
  {
   "cell_type": "code",
   "execution_count": 15,
   "metadata": {},
   "outputs": [],
   "source": [
    "for index, (dbh, height, wood) in enumerate(zip(dbh_exist, height_exist, trees_wood_density)):\n",
    "    if dbh == 1 and height == 1:\n",
    "        if (wood != wood or wood == None):\n",
    "            tree_monitorings.loc[index, 'biomass_formulas_id'] = 7\n",
    "        else:\n",
    "            tree_monitorings.loc[index, 'biomass_formulas_id'] = 3\n",
    "    elif (dbh == 1 and height == 0):\n",
    "        tree_monitorings.loc[index, 'biomass_formulas_id'] = 5\n",
    "    elif (dbh == 0 and height == 1):\n",
    "        tree_monitorings.loc[index, 'biomass_formulas_id'] = 4\n",
    "    else:\n",
    "        tree_monitorings.loc[index, 'biomass_formulas_id'] = None"
   ]
  },
  {
   "cell_type": "markdown",
   "metadata": {},
   "source": [
    "Filtering data from measurement_information which also exist in tree_monitorings"
   ]
  },
  {
   "cell_type": "code",
   "execution_count": 16,
   "metadata": {},
   "outputs": [],
   "source": [
    "type1_measurement = measurement_informations[(measurement_informations['monitoring_id'].isin(tree_monitorings['id'])== True) & measurement_informations['monitoring_type'] == 1]"
   ]
  },
  {
   "cell_type": "code",
   "execution_count": 17,
   "metadata": {},
   "outputs": [
    {
     "data": {
      "text/plain": [
       "0       8011\n",
       "1       3084\n",
       "None    2156\n",
       "2        477\n",
       "Name: tree_cond, dtype: int64"
      ]
     },
     "execution_count": 17,
     "metadata": {},
     "output_type": "execute_result"
    }
   ],
   "source": [
    "tree_monitorings['tree_cond'].value_counts(dropna = False)"
   ]
  },
  {
   "cell_type": "code",
   "execution_count": 18,
   "metadata": {},
   "outputs": [],
   "source": [
    "#measurement = measurement_informations[(measurement_informations['monitoring_id'].isin(tree_monitorings['id'])== True)]"
   ]
  },
  {
   "cell_type": "code",
   "execution_count": 19,
   "metadata": {},
   "outputs": [],
   "source": [
    "taxonomy_dict = taxonomies.set_index('id')['wood_density'].to_dict() #Set wood identity for referral from taxonomy_id\n",
    "\n",
    "biomass_index = [] #empty list for storing valid biomass ids\n",
    "result = [] #empty list for storing results\n",
    "for index_used in type1_measurement['monitoring_id']:\n",
    "    tree_dbh     = tree_monitorings.loc[tree_monitorings['id'] == index_used,'tree_dbh'].values[0]\n",
    "    tree_height  = tree_monitorings.loc[tree_monitorings['id'] == index_used,'tree_height'].values[0]\n",
    "    biomass_id   = tree_monitorings.loc[tree_monitorings['id'] == index_used,'biomass_formulas_id'].values[0]\n",
    "    tax_id       = tree_monitorings.loc[tree_monitorings['id'] == index_used,'taxonomy_id'].values[0]\n",
    "    wood_density = taxonomy_dict.get(tax_id)\n",
    "    if (biomass_id != biomass_id or biomass_id == None):\n",
    "        continue\n",
    "    else:\n",
    "        biomass_form = biomass_formulas.loc[biomass_formulas['id'] == biomass_id, 'formula_python']\n",
    "        for biomass in biomass_form:\n",
    "            biomass_result = eval(biomass)\n",
    "            result.append(biomass_result)\n",
    "            biomass_index.append(index_used)\n",
    "#            print(\"dbh:\", tree_dbh,\n",
    "#                  \"height:\", tree_height,\n",
    "##                  \"index:\", index_used, \n",
    " #                 \"formula\", biomass_form,\n",
    " #                 \"result:\", biomass_result)"
   ]
  },
  {
   "cell_type": "markdown",
   "metadata": {},
   "source": [
    "### Creating Biomass Table/Dataframe"
   ]
  },
  {
   "cell_type": "code",
   "execution_count": 20,
   "metadata": {},
   "outputs": [],
   "source": [
    "tree_biomasses_python = type1_measurement[type1_measurement['monitoring_id'].isin(biomass_index) == True]"
   ]
  },
  {
   "cell_type": "code",
   "execution_count": 21,
   "metadata": {},
   "outputs": [],
   "source": [
    "tree_biomasses_python = tree_biomasses_python.drop(['id','timenow','start', 'end','username','notes','_xform_id','_xform_id_string','monitoring_order','month_monitoring','phase'], axis = 1)\n"
   ]
  },
  {
   "cell_type": "code",
   "execution_count": 22,
   "metadata": {},
   "outputs": [],
   "source": [
    "tree_biomasses_python['result'] = result"
   ]
  },
  {
   "cell_type": "code",
   "execution_count": 23,
   "metadata": {},
   "outputs": [],
   "source": [
    "tree_biomasses_python['taxonomy_id'] = [tree_monitorings.loc[tree_monitorings['id'] == mon_id, 'taxonomy_id'].values[0] \n",
    "                if mon_id in tree_monitorings['id'].values else None\n",
    "                for mon_id in tree_biomasses_python['monitoring_id']]"
   ]
  },
  {
   "cell_type": "code",
   "execution_count": 24,
   "metadata": {},
   "outputs": [],
   "source": [
    "tree_biomasses_python['tree_species'] = [tree_monitorings.loc[tree_monitorings['id'] == mon_id, 'tree_species'].values[0] \n",
    "                if mon_id in tree_monitorings['id'].values else None\n",
    "                for mon_id in tree_biomasses_python['monitoring_id']]"
   ]
  },
  {
   "cell_type": "code",
   "execution_count": 25,
   "metadata": {},
   "outputs": [],
   "source": [
    "tree_biomasses_python['tree_id'] = [tree_monitorings.loc[tree_monitorings['id'] == mon_id, 'tree_id'].values[0] \n",
    "                if mon_id in tree_monitorings['id'].values else None\n",
    "                for mon_id in tree_biomasses_python['monitoring_id']]"
   ]
  },
  {
   "cell_type": "code",
   "execution_count": 26,
   "metadata": {},
   "outputs": [],
   "source": [
    "tree_biomasses_python['submission_time'] = [tree_monitorings.loc[tree_monitorings['id'] == mon_id, 'submission_time'].values[0] \n",
    "                if mon_id in tree_monitorings['id'].values else None\n",
    "                for mon_id in tree_biomasses_python['monitoring_id']]"
   ]
  },
  {
   "cell_type": "code",
   "execution_count": 27,
   "metadata": {},
   "outputs": [],
   "source": [
    "tree_biomasses_python['updated_at'] = datetime.datetime.now().strftime('%Y-%m-%d %H:%M:%S')\n"
   ]
  },
  {
   "cell_type": "code",
   "execution_count": 28,
   "metadata": {},
   "outputs": [],
   "source": [
    "carbon = []\n",
    "for res in result:\n",
    "    if (res != res or res == None):\n",
    "        continue\n",
    "    else:\n",
    "        carbon.append(res * 0.5 * 3.67) # biomass * 0.5 * 3.67\n",
    "tree_biomasses_python['carbon'] = carbon"
   ]
  },
  {
   "cell_type": "code",
   "execution_count": 29,
   "metadata": {},
   "outputs": [],
   "source": [
    "tree_biomasses_python['id'] = range(1,len(tree_biomasses_python)+1)"
   ]
  },
  {
   "cell_type": "code",
   "execution_count": 30,
   "metadata": {},
   "outputs": [
    {
     "data": {
      "application/vnd.microsoft.datawrangler.viewer.v0+json": {
       "columns": [
        {
         "name": "index",
         "rawType": "int64",
         "type": "integer"
        },
        {
         "name": "id",
         "rawType": "int64",
         "type": "integer"
        },
        {
         "name": "monitoring_id",
         "rawType": "int64",
         "type": "integer"
        },
        {
         "name": "tree_id",
         "rawType": "object",
         "type": "string"
        },
        {
         "name": "tree_species",
         "rawType": "object",
         "type": "string"
        },
        {
         "name": "taxonomy_id",
         "rawType": "int32",
         "type": "integer"
        },
        {
         "name": "result",
         "rawType": "float64",
         "type": "float"
        },
        {
         "name": "carbon",
         "rawType": "float64",
         "type": "float"
        },
        {
         "name": "date_monitoring",
         "rawType": "object",
         "type": "string"
        },
        {
         "name": "submission_time",
         "rawType": "datetime64[ns]",
         "type": "datetime"
        },
        {
         "name": "created_at",
         "rawType": "datetime64[ns]",
         "type": "datetime"
        },
        {
         "name": "updated_at",
         "rawType": "object",
         "type": "string"
        }
       ],
       "conversionMethod": "pd.DataFrame",
       "ref": "7381208c-9d51-48b4-b388-48e28be718a7",
       "rows": [
        [
         "1653",
         "1",
         "62",
         "AA01T0180",
         "Meranti",
         "5",
         "0.0",
         "0.0",
         "2018-04-23",
         "2019-03-29 14:36:00",
         "2021-08-01 20:19:02",
         "2025-03-03 09:24:51"
        ],
        [
         "1686",
         "2",
         "1",
         "AA01T0001",
         "Gaharu",
         "4",
         "0.03073482466408639",
         "0.056398403258598524",
         "2018-02-21",
         "2019-03-29 14:02:38",
         "2021-08-01 20:19:01",
         "2025-03-03 09:24:51"
        ],
        [
         "1793",
         "3",
         "30838",
         "BB-01-0-0024",
         "Suren",
         "64",
         "0.29531107505512477",
         "0.541895822726154",
         "2024-08-15",
         "2024-09-11 00:00:00",
         "2024-09-11 18:13:55",
         "2025-03-03 09:24:51"
        ],
        [
         "1794",
         "4",
         "30839",
         "BB-01-0-0026",
         "Suren",
         "64",
         "0.14437904377173183",
         "0.2649355453211279",
         "2024-08-15",
         "2024-09-11 00:00:00",
         "2024-09-11 18:13:55",
         "2025-03-03 09:24:51"
        ],
        [
         "1795",
         "5",
         "30840",
         "BB-01-0-0027",
         "Suren",
         "64",
         "0.329164083998854",
         "0.604016094137897",
         "2024-08-15",
         "2024-09-11 00:00:00",
         "2024-09-11 18:13:55",
         "2025-03-03 09:24:51"
        ],
        [
         "1796",
         "6",
         "30841",
         "BB-01-0-0028",
         "Suren",
         "64",
         "0.19145203420538656",
         "0.3513144827668843",
         "2024-08-15",
         "2024-09-11 00:00:00",
         "2024-09-11 18:13:55",
         "2025-03-03 09:24:51"
        ],
        [
         "1843",
         "7",
         "30842",
         "BB-01-0-0029",
         "Suren",
         "64",
         "0.26253414056832736",
         "0.4817501479428807",
         "2024-08-15",
         "2024-09-11 00:00:00",
         "2024-09-11 18:13:55",
         "2025-03-03 09:24:51"
        ],
        [
         "1905",
         "8",
         "63",
         "AA01T0181",
         "Meranti",
         "5",
         "0.057222558868313136",
         "0.10500339552335461",
         "2018-04-24",
         "2019-03-29 14:36:22",
         "2021-08-01 20:19:02",
         "2025-03-03 09:24:51"
        ],
        [
         "3390",
         "9",
         "30844",
         "BB-01-0-0031",
         "Suren",
         "64",
         "0.0096611385400737",
         "0.01772818922103524",
         "2024-08-15",
         "2024-09-11 00:00:00",
         "2024-09-11 18:13:55",
         "2025-03-03 09:24:51"
        ],
        [
         "3391",
         "10",
         "30845",
         "BB-01-0-0033",
         "Suren",
         "64",
         "0.2413394339078242",
         "0.4428578612208574",
         "2024-08-15",
         "2024-09-11 00:00:00",
         "2024-09-11 18:13:55",
         "2025-03-03 09:24:51"
        ],
        [
         "3392",
         "11",
         "30846",
         "BB-01-0-0035",
         "Suren",
         "64",
         "0.4571226664612737",
         "0.8388200929564372",
         "2024-08-15",
         "2024-09-11 00:00:00",
         "2024-09-11 18:13:55",
         "2025-03-03 09:24:51"
        ],
        [
         "3393",
         "12",
         "30847",
         "BB-01-0-0036",
         "Suren",
         "64",
         "0.9826025640330618",
         "1.8030757050006683",
         "2024-08-15",
         "2024-09-11 00:00:00",
         "2024-09-11 18:13:55",
         "2025-03-03 09:24:51"
        ],
        [
         "3394",
         "13",
         "30848",
         "BB-01-0-0037",
         "Suren",
         "64",
         "0.0096611385400737",
         "0.01772818922103524",
         "2024-08-15",
         "2024-09-11 00:00:00",
         "2024-09-11 18:13:55",
         "2025-03-03 09:24:51"
        ],
        [
         "3395",
         "14",
         "30849",
         "BB-01-0-0038",
         "Suren",
         "64",
         "0.10837045088029565",
         "0.19885977736534252",
         "2024-08-15",
         "2024-09-11 00:00:00",
         "2024-09-11 18:13:55",
         "2025-03-03 09:24:51"
        ],
        [
         "3406",
         "15",
         "30851",
         "BB-01-0-0040",
         "Suren",
         "64",
         "0.05301956624584679",
         "0.09729090406112886",
         "2024-08-15",
         "2024-09-11 00:00:00",
         "2024-09-11 18:13:55",
         "2025-03-03 09:24:51"
        ],
        [
         "3407",
         "16",
         "30852",
         "BB-01-0-0041",
         "Suren",
         "64",
         "0.2103691262305833",
         "0.3860273466331203",
         "2024-08-15",
         "2024-09-11 00:00:00",
         "2024-09-11 18:13:55",
         "2025-03-03 09:24:51"
        ],
        [
         "3668",
         "17",
         "2",
         "AA01T0002",
         "Gaharu",
         "4",
         "0.036988275267292356",
         "0.06787348511548147",
         "2018-02-22",
         "2019-03-29 14:03:05",
         "2021-08-01 20:19:01",
         "2025-03-03 09:24:51"
        ],
        [
         "3669",
         "18",
         "3",
         "AA01T0003",
         "Gaharu",
         "4",
         "0.03809914947370843",
         "0.06991193928425497",
         "2018-02-23",
         "2019-03-29 14:03:49",
         "2021-08-01 20:19:01",
         "2025-03-03 09:24:51"
        ],
        [
         "3670",
         "19",
         "4",
         "AA01T0004",
         "Gaharu",
         "4",
         "0.0743285732104532",
         "0.13639293184118162",
         "2018-02-24",
         "2019-03-29 14:04:16",
         "2021-08-01 20:19:01",
         "2025-03-03 09:24:51"
        ],
        [
         "3671",
         "20",
         "5",
         "AA01T0005",
         "Gaharu",
         "4",
         "0.06939421043299261",
         "0.12733837614454144",
         "2018-02-25",
         "2019-03-29 14:04:48",
         "2021-08-01 20:19:01",
         "2025-03-03 09:24:51"
        ],
        [
         "3672",
         "21",
         "6",
         "AA01T0006",
         "Gaharu",
         "4",
         "0.036988275267292356",
         "0.06787348511548147",
         "2018-02-26",
         "2019-03-29 14:05:09",
         "2021-08-01 20:19:01",
         "2025-03-03 09:24:51"
        ],
        [
         "3673",
         "22",
         "7",
         "AA01T0007",
         "Gaharu",
         "4",
         "0.05301956624584679",
         "0.09729090406112886",
         "2018-02-27",
         "2019-03-29 14:05:59",
         "2021-08-01 20:19:01",
         "2025-03-03 09:24:51"
        ],
        [
         "3674",
         "23",
         "8",
         "AA01T0008",
         "Gaharu",
         "4",
         "0.05866683152472303",
         "0.10765363584786676",
         "2018-02-28",
         "2019-03-29 14:06:19",
         "2021-08-01 20:19:01",
         "2025-03-03 09:24:51"
        ],
        [
         "3675",
         "24",
         "9",
         "AA01T0009",
         "Gaharu",
         "4",
         "0.021823399276640735",
         "0.04004593767263575",
         "2018-03-01",
         "2019-03-29 14:07:14",
         "2021-08-01 20:19:01",
         "2025-03-03 09:24:51"
        ],
        [
         "3676",
         "25",
         "10",
         "AA01T0010",
         "Gaharu",
         "4",
         "0.04038084098616138",
         "0.07409884320960614",
         "2018-03-02",
         "2019-03-29 14:07:38",
         "2021-08-01 20:19:01",
         "2025-03-03 09:24:51"
        ],
        [
         "3677",
         "26",
         "11",
         "AA01T0011",
         "Gaharu",
         "4",
         "0.05301956624584679",
         "0.09729090406112886",
         "2018-03-03",
         "2019-03-29 14:07:56",
         "2021-08-01 20:19:01",
         "2025-03-03 09:24:51"
        ],
        [
         "3678",
         "27",
         "12",
         "AA01T0012",
         "Gaharu",
         "4",
         "0.07773264986345815",
         "0.1426394124994457",
         "2018-03-04",
         "2019-03-29 14:08:17",
         "2021-08-01 20:19:01",
         "2025-03-03 09:24:51"
        ],
        [
         "3679",
         "28",
         "13",
         "AA01T0013",
         "Gaharu",
         "4",
         "0.06939421043299261",
         "0.12733837614454144",
         "2018-03-05",
         "2019-03-29 14:08:47",
         "2021-08-01 20:19:01",
         "2025-03-03 09:24:51"
        ],
        [
         "3680",
         "29",
         "14",
         "AA01T0014",
         "Gaharu",
         "4",
         "0.042743270371169546",
         "0.07843390113109612",
         "2018-03-06",
         "2019-03-29 14:09:13",
         "2021-08-01 20:19:01",
         "2025-03-03 09:24:51"
        ],
        [
         "3681",
         "30",
         "15",
         "AA01T0015",
         "Gaharu",
         "4",
         "0.06162097240186959",
         "0.1130744843574307",
         "2018-03-07",
         "2019-03-29 14:09:31",
         "2021-08-01 20:19:01",
         "2025-03-03 09:24:51"
        ],
        [
         "3682",
         "31",
         "16",
         "AA01T0016",
         "Gaharu",
         "4",
         "0.07101624291250329",
         "0.13031480574444354",
         "2018-03-08",
         "2019-03-29 14:10:03",
         "2021-08-01 20:19:01",
         "2025-03-03 09:24:51"
        ],
        [
         "3683",
         "32",
         "17",
         "AA01T0017",
         "Gaharu",
         "4",
         "0.04038084098616138",
         "0.07409884320960614",
         "2018-03-09",
         "2019-03-29 14:10:17",
         "2021-08-01 20:19:01",
         "2025-03-03 09:24:51"
        ],
        [
         "3684",
         "33",
         "18",
         "AA01T0018",
         "Gaharu",
         "4",
         "0.08122933759427815",
         "0.14905583448550042",
         "2018-03-10",
         "2019-03-29 14:10:38",
         "2021-08-01 20:19:01",
         "2025-03-03 09:24:51"
        ],
        [
         "3685",
         "34",
         "19",
         "AA01T0019",
         "Gaharu",
         "4",
         "0.07101624291250329",
         "0.13031480574444354",
         "2018-03-11",
         "2019-03-29 14:11:06",
         "2021-08-01 20:19:01",
         "2025-03-03 09:24:51"
        ],
        [
         "3686",
         "35",
         "20",
         "AA01T0020",
         "Gaharu",
         "4",
         "0.015977862575986334",
         "0.029319377826934924",
         "2018-03-12",
         "2019-03-29 14:11:25",
         "2021-08-01 20:19:01",
         "2025-03-03 09:24:51"
        ],
        [
         "3687",
         "36",
         "21",
         "AA01T0021",
         "Gaharu",
         "4",
         "0.06313106642346633",
         "0.11584550688706072",
         "2018-03-13",
         "2019-03-29 14:11:44",
         "2021-08-01 20:19:01",
         "2025-03-03 09:24:51"
        ],
        [
         "3688",
         "37",
         "22",
         "AA01T0022",
         "Gaharu",
         "4",
         "0.05866683152472303",
         "0.10765363584786676",
         "2018-03-14",
         "2019-03-29 14:12:05",
         "2021-08-01 20:19:01",
         "2025-03-03 09:24:51"
        ],
        [
         "3689",
         "38",
         "23",
         "AA01T0023",
         "Gaharu",
         "4",
         "0.060132931649898885",
         "0.11034392957756445",
         "2018-03-15",
         "2019-03-29 14:12:40",
         "2021-08-01 20:19:01",
         "2025-03-03 09:24:51"
        ],
        [
         "3690",
         "39",
         "24",
         "AA01T0024",
         "Gaharu",
         "4",
         "0.0558",
         "0.102393",
         "2018-03-16",
         "2019-03-29 14:12:59",
         "2021-08-01 20:19:01",
         "2025-03-03 09:24:51"
        ],
        [
         "3691",
         "40",
         "25",
         "AA01T0025",
         "Gaharu",
         "4",
         "0.06466332584958878",
         "0.11865720293399541",
         "2018-03-17",
         "2019-03-29 14:13:12",
         "2021-08-01 20:19:01",
         "2025-03-03 09:24:51"
        ],
        [
         "3692",
         "41",
         "26",
         "AA01T0026",
         "Gaharu",
         "4",
         "0.04900889609478907",
         "0.08993132433393794",
         "2018-03-18",
         "2019-03-29 14:13:34",
         "2021-08-01 20:19:01",
         "2025-03-03 09:24:51"
        ],
        [
         "3693",
         "42",
         "27",
         "AA01T0027",
         "Gaharu",
         "4",
         "0.024304428582813908",
         "0.04459862644946352",
         "2018-03-19",
         "2019-03-29 14:14:11",
         "2021-08-01 20:19:01",
         "2025-03-03 09:24:51"
        ],
        [
         "3694",
         "43",
         "28",
         "AA01T0028",
         "Gaharu",
         "4",
         "0.017336674251305705",
         "0.03181279725114597",
         "2018-03-20",
         "2019-03-29 14:14:32",
         "2021-08-01 20:19:01",
         "2025-03-03 09:24:51"
        ],
        [
         "3695",
         "44",
         "29",
         "AA01T0029",
         "Gaharu",
         "4",
         "0.026948785356626346",
         "0.04945102112940934",
         "2018-03-21",
         "2019-03-29 14:14:47",
         "2021-08-01 20:19:01",
         "2025-03-03 09:24:51"
        ],
        [
         "3696",
         "45",
         "30",
         "AA01T0030",
         "Gaharu",
         "4",
         "0.031728669873509925",
         "0.058222109217890713",
         "2018-03-22",
         "2019-03-29 14:15:14",
         "2021-08-01 20:19:01",
         "2025-03-03 09:24:51"
        ],
        [
         "3697",
         "46",
         "31",
         "AA01T0031",
         "Gaharu",
         "4",
         "0.021823399276640735",
         "0.04004593767263575",
         "2018-03-23",
         "2019-03-29 14:15:50",
         "2021-08-01 20:19:01",
         "2025-03-03 09:24:51"
        ],
        [
         "3698",
         "47",
         "32",
         "AA01T0032",
         "Gaharu",
         "4",
         "0.024304428582813908",
         "0.04459862644946352",
         "2018-03-24",
         "2019-03-29 14:16:14",
         "2021-08-01 20:19:01",
         "2025-03-03 09:24:51"
        ],
        [
         "3699",
         "48",
         "33",
         "AA01T0033",
         "Gaharu",
         "4",
         "0.024304428582813908",
         "0.04459862644946352",
         "2018-03-25",
         "2019-03-29 14:17:04",
         "2021-08-01 20:19:01",
         "2025-03-03 09:24:51"
        ],
        [
         "3700",
         "49",
         "34",
         "AA01T0034",
         "Gaharu",
         "4",
         "0.094209376790573",
         "0.17287420641070145",
         "2018-03-26",
         "2019-03-29 14:17:33",
         "2021-08-01 20:19:01",
         "2025-03-03 09:24:51"
        ],
        [
         "3701",
         "50",
         "35",
         "AA01T0035",
         "Gaharu",
         "4",
         "0.06779478695776056",
         "0.12440343406749063",
         "2018-03-27",
         "2019-03-29 14:18:03",
         "2021-08-01 20:19:01",
         "2025-03-03 09:24:51"
        ]
       ],
       "shape": {
        "columns": 11,
        "rows": 10585
       }
      },
      "text/html": [
       "<div>\n",
       "<style scoped>\n",
       "    .dataframe tbody tr th:only-of-type {\n",
       "        vertical-align: middle;\n",
       "    }\n",
       "\n",
       "    .dataframe tbody tr th {\n",
       "        vertical-align: top;\n",
       "    }\n",
       "\n",
       "    .dataframe thead th {\n",
       "        text-align: right;\n",
       "    }\n",
       "</style>\n",
       "<table border=\"1\" class=\"dataframe\">\n",
       "  <thead>\n",
       "    <tr style=\"text-align: right;\">\n",
       "      <th></th>\n",
       "      <th>id</th>\n",
       "      <th>monitoring_id</th>\n",
       "      <th>tree_id</th>\n",
       "      <th>tree_species</th>\n",
       "      <th>taxonomy_id</th>\n",
       "      <th>result</th>\n",
       "      <th>carbon</th>\n",
       "      <th>date_monitoring</th>\n",
       "      <th>submission_time</th>\n",
       "      <th>created_at</th>\n",
       "      <th>updated_at</th>\n",
       "    </tr>\n",
       "  </thead>\n",
       "  <tbody>\n",
       "    <tr>\n",
       "      <th>1653</th>\n",
       "      <td>1</td>\n",
       "      <td>62</td>\n",
       "      <td>AA01T0180</td>\n",
       "      <td>Meranti</td>\n",
       "      <td>5</td>\n",
       "      <td>0.000000</td>\n",
       "      <td>0.000000</td>\n",
       "      <td>2018-04-23</td>\n",
       "      <td>2019-03-29 14:36:00</td>\n",
       "      <td>2021-08-01 20:19:02</td>\n",
       "      <td>2025-03-03 09:24:51</td>\n",
       "    </tr>\n",
       "    <tr>\n",
       "      <th>1686</th>\n",
       "      <td>2</td>\n",
       "      <td>1</td>\n",
       "      <td>AA01T0001</td>\n",
       "      <td>Gaharu</td>\n",
       "      <td>4</td>\n",
       "      <td>0.030735</td>\n",
       "      <td>0.056398</td>\n",
       "      <td>2018-02-21</td>\n",
       "      <td>2019-03-29 14:02:38</td>\n",
       "      <td>2021-08-01 20:19:01</td>\n",
       "      <td>2025-03-03 09:24:51</td>\n",
       "    </tr>\n",
       "    <tr>\n",
       "      <th>1793</th>\n",
       "      <td>3</td>\n",
       "      <td>30838</td>\n",
       "      <td>BB-01-0-0024</td>\n",
       "      <td>Suren</td>\n",
       "      <td>64</td>\n",
       "      <td>0.295311</td>\n",
       "      <td>0.541896</td>\n",
       "      <td>2024-08-15</td>\n",
       "      <td>2024-09-11 00:00:00</td>\n",
       "      <td>2024-09-11 18:13:55</td>\n",
       "      <td>2025-03-03 09:24:51</td>\n",
       "    </tr>\n",
       "    <tr>\n",
       "      <th>1794</th>\n",
       "      <td>4</td>\n",
       "      <td>30839</td>\n",
       "      <td>BB-01-0-0026</td>\n",
       "      <td>Suren</td>\n",
       "      <td>64</td>\n",
       "      <td>0.144379</td>\n",
       "      <td>0.264936</td>\n",
       "      <td>2024-08-15</td>\n",
       "      <td>2024-09-11 00:00:00</td>\n",
       "      <td>2024-09-11 18:13:55</td>\n",
       "      <td>2025-03-03 09:24:51</td>\n",
       "    </tr>\n",
       "    <tr>\n",
       "      <th>1795</th>\n",
       "      <td>5</td>\n",
       "      <td>30840</td>\n",
       "      <td>BB-01-0-0027</td>\n",
       "      <td>Suren</td>\n",
       "      <td>64</td>\n",
       "      <td>0.329164</td>\n",
       "      <td>0.604016</td>\n",
       "      <td>2024-08-15</td>\n",
       "      <td>2024-09-11 00:00:00</td>\n",
       "      <td>2024-09-11 18:13:55</td>\n",
       "      <td>2025-03-03 09:24:51</td>\n",
       "    </tr>\n",
       "    <tr>\n",
       "      <th>...</th>\n",
       "      <td>...</td>\n",
       "      <td>...</td>\n",
       "      <td>...</td>\n",
       "      <td>...</td>\n",
       "      <td>...</td>\n",
       "      <td>...</td>\n",
       "      <td>...</td>\n",
       "      <td>...</td>\n",
       "      <td>...</td>\n",
       "      <td>...</td>\n",
       "      <td>...</td>\n",
       "    </tr>\n",
       "    <tr>\n",
       "      <th>18791</th>\n",
       "      <td>10581</td>\n",
       "      <td>36980</td>\n",
       "      <td>CL-10-0-1843</td>\n",
       "      <td>suren</td>\n",
       "      <td>64</td>\n",
       "      <td>0.473252</td>\n",
       "      <td>0.868417</td>\n",
       "      <td>2023-08-21</td>\n",
       "      <td>2024-09-11 00:00:00</td>\n",
       "      <td>2024-09-11 21:22:56</td>\n",
       "      <td>2025-03-03 09:24:51</td>\n",
       "    </tr>\n",
       "    <tr>\n",
       "      <th>18792</th>\n",
       "      <td>10582</td>\n",
       "      <td>36981</td>\n",
       "      <td>CL-10-0-1844</td>\n",
       "      <td>suren</td>\n",
       "      <td>64</td>\n",
       "      <td>0.577320</td>\n",
       "      <td>1.059382</td>\n",
       "      <td>2023-08-21</td>\n",
       "      <td>2024-09-11 00:00:00</td>\n",
       "      <td>2024-09-11 21:22:56</td>\n",
       "      <td>2025-03-03 09:24:51</td>\n",
       "    </tr>\n",
       "    <tr>\n",
       "      <th>18793</th>\n",
       "      <td>10583</td>\n",
       "      <td>36982</td>\n",
       "      <td>CL-10-0-1845</td>\n",
       "      <td>suren</td>\n",
       "      <td>64</td>\n",
       "      <td>0.943740</td>\n",
       "      <td>1.731763</td>\n",
       "      <td>2023-08-21</td>\n",
       "      <td>2024-09-11 00:00:00</td>\n",
       "      <td>2024-09-11 21:22:56</td>\n",
       "      <td>2025-03-03 09:24:51</td>\n",
       "    </tr>\n",
       "    <tr>\n",
       "      <th>18794</th>\n",
       "      <td>10584</td>\n",
       "      <td>36983</td>\n",
       "      <td>CL-10-0-1846</td>\n",
       "      <td>suren</td>\n",
       "      <td>64</td>\n",
       "      <td>0.224837</td>\n",
       "      <td>0.412575</td>\n",
       "      <td>2023-08-21</td>\n",
       "      <td>2024-09-11 00:00:00</td>\n",
       "      <td>2024-09-11 21:22:56</td>\n",
       "      <td>2025-03-03 09:24:51</td>\n",
       "    </tr>\n",
       "    <tr>\n",
       "      <th>18795</th>\n",
       "      <td>10585</td>\n",
       "      <td>36984</td>\n",
       "      <td>CL-10-0-1847</td>\n",
       "      <td>suren</td>\n",
       "      <td>64</td>\n",
       "      <td>0.276688</td>\n",
       "      <td>0.507723</td>\n",
       "      <td>2023-08-21</td>\n",
       "      <td>2024-09-11 00:00:00</td>\n",
       "      <td>2024-09-11 21:22:56</td>\n",
       "      <td>2025-03-03 09:24:51</td>\n",
       "    </tr>\n",
       "  </tbody>\n",
       "</table>\n",
       "<p>10585 rows × 11 columns</p>\n",
       "</div>"
      ],
      "text/plain": [
       "          id  monitoring_id       tree_id tree_species  taxonomy_id    result  \\\n",
       "1653       1             62     AA01T0180      Meranti            5  0.000000   \n",
       "1686       2              1     AA01T0001       Gaharu            4  0.030735   \n",
       "1793       3          30838  BB-01-0-0024        Suren           64  0.295311   \n",
       "1794       4          30839  BB-01-0-0026        Suren           64  0.144379   \n",
       "1795       5          30840  BB-01-0-0027        Suren           64  0.329164   \n",
       "...      ...            ...           ...          ...          ...       ...   \n",
       "18791  10581          36980  CL-10-0-1843        suren           64  0.473252   \n",
       "18792  10582          36981  CL-10-0-1844        suren           64  0.577320   \n",
       "18793  10583          36982  CL-10-0-1845        suren           64  0.943740   \n",
       "18794  10584          36983  CL-10-0-1846        suren           64  0.224837   \n",
       "18795  10585          36984  CL-10-0-1847        suren           64  0.276688   \n",
       "\n",
       "         carbon date_monitoring     submission_time          created_at  \\\n",
       "1653   0.000000      2018-04-23 2019-03-29 14:36:00 2021-08-01 20:19:02   \n",
       "1686   0.056398      2018-02-21 2019-03-29 14:02:38 2021-08-01 20:19:01   \n",
       "1793   0.541896      2024-08-15 2024-09-11 00:00:00 2024-09-11 18:13:55   \n",
       "1794   0.264936      2024-08-15 2024-09-11 00:00:00 2024-09-11 18:13:55   \n",
       "1795   0.604016      2024-08-15 2024-09-11 00:00:00 2024-09-11 18:13:55   \n",
       "...         ...             ...                 ...                 ...   \n",
       "18791  0.868417      2023-08-21 2024-09-11 00:00:00 2024-09-11 21:22:56   \n",
       "18792  1.059382      2023-08-21 2024-09-11 00:00:00 2024-09-11 21:22:56   \n",
       "18793  1.731763      2023-08-21 2024-09-11 00:00:00 2024-09-11 21:22:56   \n",
       "18794  0.412575      2023-08-21 2024-09-11 00:00:00 2024-09-11 21:22:56   \n",
       "18795  0.507723      2023-08-21 2024-09-11 00:00:00 2024-09-11 21:22:56   \n",
       "\n",
       "                updated_at  \n",
       "1653   2025-03-03 09:24:51  \n",
       "1686   2025-03-03 09:24:51  \n",
       "1793   2025-03-03 09:24:51  \n",
       "1794   2025-03-03 09:24:51  \n",
       "1795   2025-03-03 09:24:51  \n",
       "...                    ...  \n",
       "18791  2025-03-03 09:24:51  \n",
       "18792  2025-03-03 09:24:51  \n",
       "18793  2025-03-03 09:24:51  \n",
       "18794  2025-03-03 09:24:51  \n",
       "18795  2025-03-03 09:24:51  \n",
       "\n",
       "[10585 rows x 11 columns]"
      ]
     },
     "execution_count": 30,
     "metadata": {},
     "output_type": "execute_result"
    }
   ],
   "source": [
    "tree_biomasses_python = tree_biomasses_python[['id','monitoring_id','tree_id','tree_species','taxonomy_id','result','carbon','date_monitoring','submission_time','created_at','updated_at']]\n",
    "tree_biomasses_python"
   ]
  },
  {
   "cell_type": "markdown",
   "metadata": {},
   "source": [
    "### Compare result to original table"
   ]
  },
  {
   "cell_type": "code",
   "execution_count": 31,
   "metadata": {},
   "outputs": [],
   "source": [
    "#tree_biomasses_python['tree_cond'] = [tree_monitorings.loc[tree_monitorings['id'] == mon_id, 'tree_cond'].values[0] \n",
    "#                if mon_id in tree_monitorings['id'].values else None\n",
    "#                for mon_id in tree_biomasses_python['monitoring_id']]"
   ]
  },
  {
   "cell_type": "code",
   "execution_count": 32,
   "metadata": {},
   "outputs": [
    {
     "data": {
      "application/vnd.microsoft.datawrangler.viewer.v0+json": {
       "columns": [
        {
         "name": "index",
         "rawType": "int64",
         "type": "integer"
        },
        {
         "name": "result_x",
         "rawType": "float64",
         "type": "float"
        },
        {
         "name": "result_y",
         "rawType": "object",
         "type": "string"
        }
       ],
       "conversionMethod": "pd.DataFrame",
       "ref": "6e7cea38-f845-447b-8d38-edb4a769c660",
       "rows": [
        [
         "0",
         "0.0",
         null
        ],
        [
         "1",
         "0.0",
         null
        ],
        [
         "2",
         "0.03073482466408639",
         "0.03073"
        ],
        [
         "3",
         "0.03073482466408639",
         "0.03073"
        ],
        [
         "4",
         "0.29531107505512477",
         null
        ],
        [
         "5",
         "0.14437904377173183",
         null
        ],
        [
         "6",
         "0.329164083998854",
         null
        ],
        [
         "7",
         "0.19145203420538656",
         null
        ],
        [
         "8",
         "0.26253414056832736",
         null
        ],
        [
         "9",
         "0.057222558868313136",
         "0.05722"
        ],
        [
         "10",
         "0.057222558868313136",
         "0.05722"
        ],
        [
         "11",
         "0.0096611385400737",
         "0.00966"
        ],
        [
         "12",
         "0.2413394339078242",
         null
        ],
        [
         "13",
         "0.4571226664612737",
         null
        ],
        [
         "14",
         "0.9826025640330618",
         null
        ],
        [
         "15",
         "0.0096611385400737",
         "0.00966"
        ],
        [
         "16",
         "0.10837045088029565",
         "0.10837"
        ],
        [
         "17",
         "0.05301956624584679",
         "0.05302"
        ],
        [
         "18",
         "0.2103691262305833",
         null
        ],
        [
         "19",
         "0.036988275267292356",
         "0.03699"
        ],
        [
         "20",
         "0.036988275267292356",
         "0.03699"
        ],
        [
         "21",
         "0.03809914947370843",
         "0.03810"
        ],
        [
         "22",
         "0.03809914947370843",
         "0.03810"
        ],
        [
         "23",
         "0.0743285732104532",
         "0.07433"
        ],
        [
         "24",
         "0.0743285732104532",
         "0.07433"
        ],
        [
         "25",
         "0.06939421043299261",
         "0.06939"
        ],
        [
         "26",
         "0.06939421043299261",
         "0.06939"
        ],
        [
         "27",
         "0.036988275267292356",
         "0.03699"
        ],
        [
         "28",
         "0.036988275267292356",
         "0.03699"
        ],
        [
         "29",
         "0.05301956624584679",
         "0.05302"
        ],
        [
         "30",
         "0.05301956624584679",
         "0.05302"
        ],
        [
         "31",
         "0.05866683152472303",
         "0.05867"
        ],
        [
         "32",
         "0.05866683152472303",
         "0.05867"
        ],
        [
         "33",
         "0.021823399276640735",
         "0.02182"
        ],
        [
         "34",
         "0.021823399276640735",
         "0.02182"
        ],
        [
         "35",
         "0.04038084098616138",
         "0.04038"
        ],
        [
         "36",
         "0.04038084098616138",
         "0.04038"
        ],
        [
         "37",
         "0.05301956624584679",
         "0.05302"
        ],
        [
         "38",
         "0.05301956624584679",
         "0.05302"
        ],
        [
         "39",
         "0.07773264986345815",
         "0.07773"
        ],
        [
         "40",
         "0.07773264986345815",
         "0.07773"
        ],
        [
         "41",
         "0.06939421043299261",
         "0.06939"
        ],
        [
         "42",
         "0.06939421043299261",
         "0.06939"
        ],
        [
         "43",
         "0.042743270371169546",
         "0.04274"
        ],
        [
         "44",
         "0.042743270371169546",
         "0.04274"
        ],
        [
         "45",
         "0.06162097240186959",
         "0.06162"
        ],
        [
         "46",
         "0.06162097240186959",
         "0.06162"
        ],
        [
         "47",
         "0.07101624291250329",
         "0.07102"
        ],
        [
         "48",
         "0.07101624291250329",
         "0.07102"
        ],
        [
         "49",
         "0.04038084098616138",
         "0.04038"
        ]
       ],
       "shape": {
        "columns": 2,
        "rows": 10585
       }
      },
      "text/html": [
       "<div>\n",
       "<style scoped>\n",
       "    .dataframe tbody tr th:only-of-type {\n",
       "        vertical-align: middle;\n",
       "    }\n",
       "\n",
       "    .dataframe tbody tr th {\n",
       "        vertical-align: top;\n",
       "    }\n",
       "\n",
       "    .dataframe thead th {\n",
       "        text-align: right;\n",
       "    }\n",
       "</style>\n",
       "<table border=\"1\" class=\"dataframe\">\n",
       "  <thead>\n",
       "    <tr style=\"text-align: right;\">\n",
       "      <th></th>\n",
       "      <th>result_x</th>\n",
       "      <th>result_y</th>\n",
       "    </tr>\n",
       "  </thead>\n",
       "  <tbody>\n",
       "    <tr>\n",
       "      <th>0</th>\n",
       "      <td>0.000000</td>\n",
       "      <td>None</td>\n",
       "    </tr>\n",
       "    <tr>\n",
       "      <th>1</th>\n",
       "      <td>0.000000</td>\n",
       "      <td>None</td>\n",
       "    </tr>\n",
       "    <tr>\n",
       "      <th>2</th>\n",
       "      <td>0.030735</td>\n",
       "      <td>0.03073</td>\n",
       "    </tr>\n",
       "    <tr>\n",
       "      <th>3</th>\n",
       "      <td>0.030735</td>\n",
       "      <td>0.03073</td>\n",
       "    </tr>\n",
       "    <tr>\n",
       "      <th>4</th>\n",
       "      <td>0.295311</td>\n",
       "      <td>None</td>\n",
       "    </tr>\n",
       "    <tr>\n",
       "      <th>...</th>\n",
       "      <td>...</td>\n",
       "      <td>...</td>\n",
       "    </tr>\n",
       "    <tr>\n",
       "      <th>10580</th>\n",
       "      <td>0.473252</td>\n",
       "      <td>None</td>\n",
       "    </tr>\n",
       "    <tr>\n",
       "      <th>10581</th>\n",
       "      <td>0.577320</td>\n",
       "      <td>None</td>\n",
       "    </tr>\n",
       "    <tr>\n",
       "      <th>10582</th>\n",
       "      <td>0.943740</td>\n",
       "      <td>None</td>\n",
       "    </tr>\n",
       "    <tr>\n",
       "      <th>10583</th>\n",
       "      <td>0.224837</td>\n",
       "      <td>None</td>\n",
       "    </tr>\n",
       "    <tr>\n",
       "      <th>10584</th>\n",
       "      <td>0.276688</td>\n",
       "      <td>None</td>\n",
       "    </tr>\n",
       "  </tbody>\n",
       "</table>\n",
       "<p>10585 rows × 2 columns</p>\n",
       "</div>"
      ],
      "text/plain": [
       "       result_x result_y\n",
       "0      0.000000     None\n",
       "1      0.000000     None\n",
       "2      0.030735  0.03073\n",
       "3      0.030735  0.03073\n",
       "4      0.295311     None\n",
       "...         ...      ...\n",
       "10580  0.473252     None\n",
       "10581  0.577320     None\n",
       "10582  0.943740     None\n",
       "10583  0.224837     None\n",
       "10584  0.276688     None\n",
       "\n",
       "[10585 rows x 2 columns]"
      ]
     },
     "execution_count": 32,
     "metadata": {},
     "output_type": "execute_result"
    }
   ],
   "source": [
    "tree_biomasses_python.merge(tree_biomasses, on = ['monitoring_id'], how = 'inner')[['result_x','result_y']]"
   ]
  },
  {
   "cell_type": "markdown",
   "metadata": {},
   "source": [
    "## Sampling Biomass Calculation"
   ]
  },
  {
   "cell_type": "code",
   "execution_count": 33,
   "metadata": {},
   "outputs": [],
   "source": [
    "sampling_dbh_exist = tree_samplings['tree_dbh'].notna() # check which is not NA\n",
    "sampling_height_exist = tree_samplings['tree_height'].notna() # check which is not NA\n",
    "\n",
    "sampling_trees_wood_density = [taxonomies.loc[taxonomies['id'] == tax_id, 'wood_density'].values[0] \n",
    "                if tax_id in taxonomies['id'].values else None\n",
    "                for tax_id in tree_samplings['taxonomy_id']]"
   ]
  },
  {
   "cell_type": "code",
   "execution_count": 34,
   "metadata": {},
   "outputs": [],
   "source": [
    "for index, (dbh, height, wood) in enumerate(zip(sampling_dbh_exist, sampling_height_exist, sampling_trees_wood_density)):\n",
    "    if dbh == 1 and height == 1:\n",
    "        if (wood != wood or wood == None):\n",
    "            tree_samplings.loc[index, 'biomass_formulas_id'] = 7\n",
    "        else:\n",
    "            tree_samplings.loc[index, 'biomass_formulas_id'] = 3\n",
    "    elif (dbh == 1 and height == 0):\n",
    "        tree_samplings.loc[index, 'biomass_formulas_id'] = 5\n",
    "    elif (dbh == 0 and height == 1):\n",
    "        tree_samplings.loc[index, 'biomass_formulas_id'] = 4\n",
    "    else:\n",
    "        tree_samplings.loc[index, 'biomass_formulas_id'] = None"
   ]
  },
  {
   "cell_type": "code",
   "execution_count": 35,
   "metadata": {},
   "outputs": [
    {
     "data": {
      "text/plain": [
       "4.0    11467\n",
       "NaN     2378\n",
       "7.0        2\n",
       "Name: biomass_formulas_id, dtype: int64"
      ]
     },
     "execution_count": 35,
     "metadata": {},
     "output_type": "execute_result"
    }
   ],
   "source": [
    "tree_samplings.biomass_formulas_id.value_counts(dropna= False)"
   ]
  },
  {
   "cell_type": "code",
   "execution_count": 36,
   "metadata": {},
   "outputs": [],
   "source": [
    "tree_samplings[['tree_height','tree_dbh']] = tree_samplings[['tree_height','tree_dbh']].fillna('0')"
   ]
  },
  {
   "cell_type": "code",
   "execution_count": 37,
   "metadata": {},
   "outputs": [],
   "source": [
    "taxonomy_dict = taxonomies.set_index('id')['wood_density'].to_dict() #Set wood identity for referral from taxonomy_id\n",
    "\n",
    "sampling_results = [] #empty list for storing results\n",
    "for index, row in tree_samplings.iterrows():\n",
    "    tree_dbh     = float(row['tree_dbh'])\n",
    "    tree_height  = float(row['tree_height'])\n",
    "    biomass_id   = row['biomass_formulas_id']\n",
    "    tax_id       = row['taxonomy_id']\n",
    "    wood_density = taxonomy_dict.get(tax_id)\n",
    "    if (biomass_id != biomass_id or biomass_id == None):\n",
    "        sampling_results.append(None)\n",
    "    else:\n",
    "        biomass_form = biomass_formulas.loc[biomass_formulas['id'] == biomass_id, 'formula_python']\n",
    "        for biomass in biomass_form:\n",
    "            biomass_result = eval(biomass)\n",
    "            sampling_results.append(biomass_result)"
   ]
  },
  {
   "cell_type": "markdown",
   "metadata": {},
   "source": [
    "### Creating Sampling Biomass Table/Dataframe"
   ]
  },
  {
   "cell_type": "code",
   "execution_count": 38,
   "metadata": {},
   "outputs": [],
   "source": [
    "tree_samplings['month_monitoring'] = pd.to_datetime(tree_samplings['date_monitoring'], format=\"%Y-%M-%d\").dt.strftime(\"%b-%y\")"
   ]
  },
  {
   "cell_type": "code",
   "execution_count": 39,
   "metadata": {},
   "outputs": [],
   "source": [
    "sample_tree_biomasses_python = tree_samplings[['plot_information_id', 'subplot_id', 'tree_species', 'taxonomy_id', 'month_monitoring',\n",
    "       'created_at', 'updated_at', 'tree_id', 'tree_height', 'tree_cond']]"
   ]
  },
  {
   "cell_type": "code",
   "execution_count": 40,
   "metadata": {},
   "outputs": [
    {
     "name": "stderr",
     "output_type": "stream",
     "text": [
      "C:\\Users\\zrmuc\\AppData\\Local\\Temp\\ipykernel_12428\\777817446.py:1: SettingWithCopyWarning: \n",
      "A value is trying to be set on a copy of a slice from a DataFrame.\n",
      "Try using .loc[row_indexer,col_indexer] = value instead\n",
      "\n",
      "See the caveats in the documentation: https://pandas.pydata.org/pandas-docs/stable/user_guide/indexing.html#returning-a-view-versus-a-copy\n",
      "  sample_tree_biomasses_python['result'] = sampling_results\n"
     ]
    }
   ],
   "source": [
    "sample_tree_biomasses_python['result'] = sampling_results"
   ]
  },
  {
   "cell_type": "code",
   "execution_count": 41,
   "metadata": {},
   "outputs": [],
   "source": [
    "tree_biomasses_python['updated_at'] = datetime.datetime.now().strftime('%Y-%m-%d %H:%M:%S')\n"
   ]
  },
  {
   "cell_type": "code",
   "execution_count": 42,
   "metadata": {},
   "outputs": [
    {
     "name": "stderr",
     "output_type": "stream",
     "text": [
      "C:\\Users\\zrmuc\\AppData\\Local\\Temp\\ipykernel_12428\\1091282493.py:7: SettingWithCopyWarning: \n",
      "A value is trying to be set on a copy of a slice from a DataFrame.\n",
      "Try using .loc[row_indexer,col_indexer] = value instead\n",
      "\n",
      "See the caveats in the documentation: https://pandas.pydata.org/pandas-docs/stable/user_guide/indexing.html#returning-a-view-versus-a-copy\n",
      "  sample_tree_biomasses_python['carbon'] = carbon\n"
     ]
    }
   ],
   "source": [
    "carbon = []\n",
    "for res in sampling_results:\n",
    "    if (res != res or res == None):\n",
    "        carbon.append(None)\n",
    "    else:\n",
    "        carbon.append(res * 0.5 * 3.67) # biomass * 0.5 * 3.67\n",
    "sample_tree_biomasses_python['carbon'] = carbon"
   ]
  },
  {
   "cell_type": "code",
   "execution_count": 43,
   "metadata": {},
   "outputs": [
    {
     "name": "stderr",
     "output_type": "stream",
     "text": [
      "C:\\Users\\zrmuc\\AppData\\Local\\Temp\\ipykernel_12428\\1565942968.py:1: SettingWithCopyWarning: \n",
      "A value is trying to be set on a copy of a slice from a DataFrame.\n",
      "Try using .loc[row_indexer,col_indexer] = value instead\n",
      "\n",
      "See the caveats in the documentation: https://pandas.pydata.org/pandas-docs/stable/user_guide/indexing.html#returning-a-view-versus-a-copy\n",
      "  sample_tree_biomasses_python['id'] = range(1,len(sample_tree_biomasses_python)+1)\n"
     ]
    }
   ],
   "source": [
    "sample_tree_biomasses_python['id'] = range(1,len(sample_tree_biomasses_python)+1)"
   ]
  },
  {
   "cell_type": "code",
   "execution_count": 44,
   "metadata": {},
   "outputs": [],
   "source": [
    "sample_tree_biomasses_python = sample_tree_biomasses_python[['id', 'tree_id', 'plot_information_id', 'subplot_id', 'tree_species','taxonomy_id', 'tree_height', 'result', 'carbon','month_monitoring','created_at','updated_at']]"
   ]
  },
  {
   "cell_type": "code",
   "execution_count": 45,
   "metadata": {},
   "outputs": [],
   "source": [
    "sample_tree_biomasses_python['tree_height'] = sample_tree_biomasses_python['tree_height'].astype(float)"
   ]
  },
  {
   "cell_type": "markdown",
   "metadata": {},
   "source": [
    "BG"
   ]
  },
  {
   "cell_type": "code",
   "execution_count": 46,
   "metadata": {},
   "outputs": [],
   "source": [
    "sample_tree_biomasses_python['centi_height'] = sample_tree_biomasses_python['tree_height'] * 100"
   ]
  },
  {
   "cell_type": "code",
   "execution_count": 47,
   "metadata": {},
   "outputs": [],
   "source": [
    "sample_tree_biomasses_python['total_biomass'] = [pow(x, 3.0696) * 0.001 for x in sample_tree_biomasses_python['tree_height']]"
   ]
  },
  {
   "cell_type": "code",
   "execution_count": 48,
   "metadata": {},
   "outputs": [],
   "source": [
    "sample_tree_biomasses_python['AGB'] = [pow(x, 2.8996) * 0.001 for x in sample_tree_biomasses_python['tree_height']]"
   ]
  },
  {
   "cell_type": "code",
   "execution_count": 49,
   "metadata": {},
   "outputs": [
    {
     "data": {
      "application/vnd.microsoft.datawrangler.viewer.v0+json": {
       "columns": [
        {
         "name": "index",
         "rawType": "object",
         "type": "string"
        },
        {
         "name": "0",
         "rawType": "float64",
         "type": "float"
        },
        {
         "name": "1",
         "rawType": "float64",
         "type": "float"
        },
        {
         "name": "2",
         "rawType": "float64",
         "type": "float"
        },
        {
         "name": "3",
         "rawType": "float64",
         "type": "float"
        },
        {
         "name": "4",
         "rawType": "float64",
         "type": "float"
        },
        {
         "name": "5",
         "rawType": "float64",
         "type": "float"
        },
        {
         "name": "6",
         "rawType": "float64",
         "type": "float"
        },
        {
         "name": "7",
         "rawType": "float64",
         "type": "float"
        },
        {
         "name": "8",
         "rawType": "float64",
         "type": "float"
        },
        {
         "name": "9",
         "rawType": "float64",
         "type": "float"
        },
        {
         "name": "10",
         "rawType": "float64",
         "type": "float"
        },
        {
         "name": "11",
         "rawType": "float64",
         "type": "float"
        },
        {
         "name": "12",
         "rawType": "float64",
         "type": "float"
        },
        {
         "name": "13",
         "rawType": "float64",
         "type": "float"
        },
        {
         "name": "14",
         "rawType": "float64",
         "type": "float"
        }
       ],
       "conversionMethod": "pd.DataFrame",
       "ref": "0bb73a53-902f-4286-9a84-28469b7c7cbd",
       "rows": [
        [
         "total_biomass",
         "0.0",
         "1.6966627873742764e-05",
         "3.3268283203178086e-05",
         "7.989306659657266e-05",
         "2.5860013796608377e-05",
         "2.5860013796608377e-05",
         "2.7458945518376044e-05",
         "1.098398080903053e-05",
         "3.817078315153961e-06",
         "6.11029324633752e-06",
         "2.140289573315929e-06",
         "8.307767752234307e-06",
         "2.0090756637400337e-05",
         "4.7266344086752964e-05",
         "2.0090756637400337e-05"
        ],
        [
         "AGB",
         "0.0",
         "2.126393989748023e-05",
         "4.016826005597999e-05",
         "9.189462775991874e-05",
         "3.166213840729788e-05",
         "3.166213840729788e-05",
         "3.3508297871515416e-05",
         "1.4101523429586295e-05",
         "5.195880781727353e-06",
         "8.10352434753749e-06",
         "3.008262951354756e-06",
         "1.0831960484329329e-05",
         "2.49447656199288e-05",
         "5.597031087453018e-05",
         "2.49447656199288e-05"
        ]
       ],
       "shape": {
        "columns": 15,
        "rows": 2
       }
      },
      "text/html": [
       "<div>\n",
       "<style scoped>\n",
       "    .dataframe tbody tr th:only-of-type {\n",
       "        vertical-align: middle;\n",
       "    }\n",
       "\n",
       "    .dataframe tbody tr th {\n",
       "        vertical-align: top;\n",
       "    }\n",
       "\n",
       "    .dataframe thead th {\n",
       "        text-align: right;\n",
       "    }\n",
       "</style>\n",
       "<table border=\"1\" class=\"dataframe\">\n",
       "  <thead>\n",
       "    <tr style=\"text-align: right;\">\n",
       "      <th></th>\n",
       "      <th>0</th>\n",
       "      <th>1</th>\n",
       "      <th>2</th>\n",
       "      <th>3</th>\n",
       "      <th>4</th>\n",
       "      <th>5</th>\n",
       "      <th>6</th>\n",
       "      <th>7</th>\n",
       "      <th>8</th>\n",
       "      <th>9</th>\n",
       "      <th>10</th>\n",
       "      <th>11</th>\n",
       "      <th>12</th>\n",
       "      <th>13</th>\n",
       "      <th>14</th>\n",
       "    </tr>\n",
       "  </thead>\n",
       "  <tbody>\n",
       "    <tr>\n",
       "      <th>total_biomass</th>\n",
       "      <td>0.0</td>\n",
       "      <td>0.000017</td>\n",
       "      <td>0.000033</td>\n",
       "      <td>0.000080</td>\n",
       "      <td>0.000026</td>\n",
       "      <td>0.000026</td>\n",
       "      <td>0.000027</td>\n",
       "      <td>0.000011</td>\n",
       "      <td>0.000004</td>\n",
       "      <td>0.000006</td>\n",
       "      <td>0.000002</td>\n",
       "      <td>0.000008</td>\n",
       "      <td>0.000020</td>\n",
       "      <td>0.000047</td>\n",
       "      <td>0.000020</td>\n",
       "    </tr>\n",
       "    <tr>\n",
       "      <th>AGB</th>\n",
       "      <td>0.0</td>\n",
       "      <td>0.000021</td>\n",
       "      <td>0.000040</td>\n",
       "      <td>0.000092</td>\n",
       "      <td>0.000032</td>\n",
       "      <td>0.000032</td>\n",
       "      <td>0.000034</td>\n",
       "      <td>0.000014</td>\n",
       "      <td>0.000005</td>\n",
       "      <td>0.000008</td>\n",
       "      <td>0.000003</td>\n",
       "      <td>0.000011</td>\n",
       "      <td>0.000025</td>\n",
       "      <td>0.000056</td>\n",
       "      <td>0.000025</td>\n",
       "    </tr>\n",
       "  </tbody>\n",
       "</table>\n",
       "</div>"
      ],
      "text/plain": [
       "                0         1         2         3         4         5   \\\n",
       "total_biomass  0.0  0.000017  0.000033  0.000080  0.000026  0.000026   \n",
       "AGB            0.0  0.000021  0.000040  0.000092  0.000032  0.000032   \n",
       "\n",
       "                     6         7         8         9         10        11  \\\n",
       "total_biomass  0.000027  0.000011  0.000004  0.000006  0.000002  0.000008   \n",
       "AGB            0.000034  0.000014  0.000005  0.000008  0.000003  0.000011   \n",
       "\n",
       "                     12        13        14  \n",
       "total_biomass  0.000020  0.000047  0.000020  \n",
       "AGB            0.000025  0.000056  0.000025  "
      ]
     },
     "execution_count": 49,
     "metadata": {},
     "output_type": "execute_result"
    }
   ],
   "source": [
    "sample_tree_biomasses_python[sample_tree_biomasses_python['tree_species'] == 'BG'][['total_biomass', 'AGB']].head(15).reset_index(drop = True).transpose()"
   ]
  },
  {
   "cell_type": "code",
   "execution_count": 50,
   "metadata": {},
   "outputs": [],
   "source": [
    "sample_tree_biomasses_python['old_result'] = sample_tree_biomasses_python['result']"
   ]
  },
  {
   "cell_type": "code",
   "execution_count": 51,
   "metadata": {},
   "outputs": [
    {
     "data": {
      "text/plain": [
       "0             NaN\n",
       "1             NaN\n",
       "2             NaN\n",
       "3             NaN\n",
       "4             NaN\n",
       "           ...   \n",
       "13842    0.003124\n",
       "13843    0.006991\n",
       "13844    0.011738\n",
       "13845    0.005848\n",
       "13846    0.007401\n",
       "Name: old_result, Length: 13847, dtype: float64"
      ]
     },
     "execution_count": 51,
     "metadata": {},
     "output_type": "execute_result"
    }
   ],
   "source": [
    "sample_tree_biomasses_python['old_result']"
   ]
  },
  {
   "cell_type": "code",
   "execution_count": 52,
   "metadata": {},
   "outputs": [
    {
     "data": {
      "text/plain": [
       "<Axes: ylabel='Frequency'>"
      ]
     },
     "execution_count": 52,
     "metadata": {},
     "output_type": "execute_result"
    },
    {
     "data": {
      "image/png": "[encoded data removed]",
      "text/plain": [
       "<Figure size 640x480 with 1 Axes>"
      ]
     },
     "metadata": {},
     "output_type": "display_data"
    }
   ],
   "source": [
    "sample_tree_biomasses_python[sample_tree_biomasses_python['tree_species'] == 'BG'][['total_biomass']].reset_index(drop = True).plot.hist()"
   ]
  },
  {
   "cell_type": "code",
   "execution_count": 53,
   "metadata": {},
   "outputs": [
    {
     "data": {
      "text/plain": [
       "AGB           0.000248\n",
       "old_result    0.020026\n",
       "dtype: float64"
      ]
     },
     "execution_count": 53,
     "metadata": {},
     "output_type": "execute_result"
    }
   ],
   "source": [
    "sample_tree_biomasses_python[sample_tree_biomasses_python['tree_species'] == 'BG'][['AGB', 'old_result']].mean()"
   ]
  },
  {
   "cell_type": "markdown",
   "metadata": {},
   "source": [
    "# Sampling_avgs"
   ]
  },
  {
   "cell_type": "code",
   "execution_count": 54,
   "metadata": {},
   "outputs": [],
   "source": [
    "tree_samplings[['tree_height', 'tree_dbh']] = tree_samplings[['tree_height', 'tree_dbh']].astype(float)"
   ]
  },
  {
   "cell_type": "code",
   "execution_count": 55,
   "metadata": {},
   "outputs": [],
   "source": [
    "proto_sampling_avgs = tree_samplings.groupby(['plot_information_id','taxonomy_id','month_monitoring'])[['tree_height','tree_dbh']].agg('mean').reset_index()"
   ]
  },
  {
   "cell_type": "code",
   "execution_count": 56,
   "metadata": {},
   "outputs": [
    {
     "data": {
      "application/vnd.microsoft.datawrangler.viewer.v0+json": {
       "columns": [
        {
         "name": "index",
         "rawType": "int64",
         "type": "integer"
        },
        {
         "name": "plot_information_id",
         "rawType": "int64",
         "type": "integer"
        },
        {
         "name": "taxonomy_id",
         "rawType": "int64",
         "type": "integer"
        },
        {
         "name": "month_monitoring",
         "rawType": "object",
         "type": "string"
        },
        {
         "name": "tree_height",
         "rawType": "float64",
         "type": "float"
        },
        {
         "name": "tree_dbh",
         "rawType": "float64",
         "type": "float"
        }
       ],
       "conversionMethod": "pd.DataFrame",
       "ref": "08b9196e-cb56-4eb0-b451-7115a1d25a67",
       "rows": [
        [
         "0",
         "35",
         "23",
         "Jan-23",
         "0.49924999999999997",
         "0.0"
        ],
        [
         "1",
         "35",
         "23",
         "Jan-24",
         "0.6686333333333334",
         "0.0"
        ],
        [
         "2",
         "35",
         "24",
         "Jan-23",
         "0.25242708333333336",
         "0.0"
        ],
        [
         "3",
         "35",
         "24",
         "Jan-24",
         "0.1452152777777778",
         "0.0"
        ],
        [
         "4",
         "35",
         "27",
         "Jan-23",
         "0.5071682242990655",
         "0.0"
        ],
        [
         "5",
         "35",
         "27",
         "Jan-24",
         "0.5596105919003115",
         "0.0"
        ],
        [
         "6",
         "35",
         "30",
         "Jan-23",
         "0.3356666666666667",
         "0.0"
        ],
        [
         "7",
         "35",
         "30",
         "Jan-24",
         "0.9768888888888889",
         "0.0"
        ],
        [
         "8",
         "36",
         "27",
         "Jan-23",
         "0.2016907894736842",
         "0.0"
        ],
        [
         "9",
         "36",
         "27",
         "Jan-24",
         "0.004013157894736842",
         "0.0"
        ],
        [
         "10",
         "36",
         "28",
         "Jan-23",
         "0.48657575757575755",
         "0.0"
        ],
        [
         "11",
         "36",
         "28",
         "Jan-24",
         "0.011818181818181818",
         "0.0"
        ],
        [
         "12",
         "36",
         "29",
         "Jan-23",
         "0.2451346153846154",
         "0.0"
        ],
        [
         "13",
         "36",
         "29",
         "Jan-24",
         "0.0",
         "0.0"
        ],
        [
         "14",
         "36",
         "30",
         "Jan-23",
         "0.07",
         "0.0"
        ],
        [
         "15",
         "36",
         "30",
         "Jan-24",
         "0.0",
         "0.0"
        ],
        [
         "16",
         "37",
         "0",
         "Jan-24",
         "0.0",
         "0.0"
        ],
        [
         "17",
         "37",
         "23",
         "Jan-23",
         "0.38072222222222224",
         "0.0"
        ],
        [
         "18",
         "37",
         "23",
         "Jan-24",
         "0.4005172900494002",
         "0.0"
        ],
        [
         "19",
         "37",
         "24",
         "Jan-23",
         "0.37509666666666663",
         "0.0"
        ],
        [
         "20",
         "37",
         "24",
         "Jan-24",
         "0.44675652985074626",
         "0.0"
        ],
        [
         "21",
         "37",
         "25",
         "Jan-23",
         "0.7612032520325204",
         "0.0"
        ],
        [
         "22",
         "37",
         "25",
         "Jan-24",
         "0.6303446601941748",
         "0.0014563106796116505"
        ],
        [
         "23",
         "37",
         "26",
         "Jan-23",
         "0.635216",
         "0.0"
        ],
        [
         "24",
         "37",
         "26",
         "Jan-24",
         "0.6256930113428467",
         "0.0"
        ],
        [
         "25",
         "38",
         "0",
         "Jan-24",
         "0.0",
         "0.0"
        ],
        [
         "26",
         "38",
         "23",
         "Jan-24",
         "0.3483209408194234",
         "0.0"
        ],
        [
         "27",
         "38",
         "24",
         "Jan-24",
         "0.5210989492119089",
         "0.0"
        ],
        [
         "28",
         "38",
         "25",
         "Jan-24",
         "0.8219672131147541",
         "0.0"
        ],
        [
         "29",
         "38",
         "26",
         "Jan-24",
         "0.8141532258064516",
         "0.0"
        ]
       ],
       "shape": {
        "columns": 5,
        "rows": 30
       }
      },
      "text/html": [
       "<div>\n",
       "<style scoped>\n",
       "    .dataframe tbody tr th:only-of-type {\n",
       "        vertical-align: middle;\n",
       "    }\n",
       "\n",
       "    .dataframe tbody tr th {\n",
       "        vertical-align: top;\n",
       "    }\n",
       "\n",
       "    .dataframe thead th {\n",
       "        text-align: right;\n",
       "    }\n",
       "</style>\n",
       "<table border=\"1\" class=\"dataframe\">\n",
       "  <thead>\n",
       "    <tr style=\"text-align: right;\">\n",
       "      <th></th>\n",
       "      <th>plot_information_id</th>\n",
       "      <th>taxonomy_id</th>\n",
       "      <th>month_monitoring</th>\n",
       "      <th>tree_height</th>\n",
       "      <th>tree_dbh</th>\n",
       "    </tr>\n",
       "  </thead>\n",
       "  <tbody>\n",
       "    <tr>\n",
       "      <th>0</th>\n",
       "      <td>35</td>\n",
       "      <td>23</td>\n",
       "      <td>Jan-23</td>\n",
       "      <td>0.499250</td>\n",
       "      <td>0.000000</td>\n",
       "    </tr>\n",
       "    <tr>\n",
       "      <th>1</th>\n",
       "      <td>35</td>\n",
       "      <td>23</td>\n",
       "      <td>Jan-24</td>\n",
       "      <td>0.668633</td>\n",
       "      <td>0.000000</td>\n",
       "    </tr>\n",
       "    <tr>\n",
       "      <th>2</th>\n",
       "      <td>35</td>\n",
       "      <td>24</td>\n",
       "      <td>Jan-23</td>\n",
       "      <td>0.252427</td>\n",
       "      <td>0.000000</td>\n",
       "    </tr>\n",
       "    <tr>\n",
       "      <th>3</th>\n",
       "      <td>35</td>\n",
       "      <td>24</td>\n",
       "      <td>Jan-24</td>\n",
       "      <td>0.145215</td>\n",
       "      <td>0.000000</td>\n",
       "    </tr>\n",
       "    <tr>\n",
       "      <th>4</th>\n",
       "      <td>35</td>\n",
       "      <td>27</td>\n",
       "      <td>Jan-23</td>\n",
       "      <td>0.507168</td>\n",
       "      <td>0.000000</td>\n",
       "    </tr>\n",
       "    <tr>\n",
       "      <th>5</th>\n",
       "      <td>35</td>\n",
       "      <td>27</td>\n",
       "      <td>Jan-24</td>\n",
       "      <td>0.559611</td>\n",
       "      <td>0.000000</td>\n",
       "    </tr>\n",
       "    <tr>\n",
       "      <th>6</th>\n",
       "      <td>35</td>\n",
       "      <td>30</td>\n",
       "      <td>Jan-23</td>\n",
       "      <td>0.335667</td>\n",
       "      <td>0.000000</td>\n",
       "    </tr>\n",
       "    <tr>\n",
       "      <th>7</th>\n",
       "      <td>35</td>\n",
       "      <td>30</td>\n",
       "      <td>Jan-24</td>\n",
       "      <td>0.976889</td>\n",
       "      <td>0.000000</td>\n",
       "    </tr>\n",
       "    <tr>\n",
       "      <th>8</th>\n",
       "      <td>36</td>\n",
       "      <td>27</td>\n",
       "      <td>Jan-23</td>\n",
       "      <td>0.201691</td>\n",
       "      <td>0.000000</td>\n",
       "    </tr>\n",
       "    <tr>\n",
       "      <th>9</th>\n",
       "      <td>36</td>\n",
       "      <td>27</td>\n",
       "      <td>Jan-24</td>\n",
       "      <td>0.004013</td>\n",
       "      <td>0.000000</td>\n",
       "    </tr>\n",
       "    <tr>\n",
       "      <th>10</th>\n",
       "      <td>36</td>\n",
       "      <td>28</td>\n",
       "      <td>Jan-23</td>\n",
       "      <td>0.486576</td>\n",
       "      <td>0.000000</td>\n",
       "    </tr>\n",
       "    <tr>\n",
       "      <th>11</th>\n",
       "      <td>36</td>\n",
       "      <td>28</td>\n",
       "      <td>Jan-24</td>\n",
       "      <td>0.011818</td>\n",
       "      <td>0.000000</td>\n",
       "    </tr>\n",
       "    <tr>\n",
       "      <th>12</th>\n",
       "      <td>36</td>\n",
       "      <td>29</td>\n",
       "      <td>Jan-23</td>\n",
       "      <td>0.245135</td>\n",
       "      <td>0.000000</td>\n",
       "    </tr>\n",
       "    <tr>\n",
       "      <th>13</th>\n",
       "      <td>36</td>\n",
       "      <td>29</td>\n",
       "      <td>Jan-24</td>\n",
       "      <td>0.000000</td>\n",
       "      <td>0.000000</td>\n",
       "    </tr>\n",
       "    <tr>\n",
       "      <th>14</th>\n",
       "      <td>36</td>\n",
       "      <td>30</td>\n",
       "      <td>Jan-23</td>\n",
       "      <td>0.070000</td>\n",
       "      <td>0.000000</td>\n",
       "    </tr>\n",
       "    <tr>\n",
       "      <th>15</th>\n",
       "      <td>36</td>\n",
       "      <td>30</td>\n",
       "      <td>Jan-24</td>\n",
       "      <td>0.000000</td>\n",
       "      <td>0.000000</td>\n",
       "    </tr>\n",
       "    <tr>\n",
       "      <th>16</th>\n",
       "      <td>37</td>\n",
       "      <td>0</td>\n",
       "      <td>Jan-24</td>\n",
       "      <td>0.000000</td>\n",
       "      <td>0.000000</td>\n",
       "    </tr>\n",
       "    <tr>\n",
       "      <th>17</th>\n",
       "      <td>37</td>\n",
       "      <td>23</td>\n",
       "      <td>Jan-23</td>\n",
       "      <td>0.380722</td>\n",
       "      <td>0.000000</td>\n",
       "    </tr>\n",
       "    <tr>\n",
       "      <th>18</th>\n",
       "      <td>37</td>\n",
       "      <td>23</td>\n",
       "      <td>Jan-24</td>\n",
       "      <td>0.400517</td>\n",
       "      <td>0.000000</td>\n",
       "    </tr>\n",
       "    <tr>\n",
       "      <th>19</th>\n",
       "      <td>37</td>\n",
       "      <td>24</td>\n",
       "      <td>Jan-23</td>\n",
       "      <td>0.375097</td>\n",
       "      <td>0.000000</td>\n",
       "    </tr>\n",
       "    <tr>\n",
       "      <th>20</th>\n",
       "      <td>37</td>\n",
       "      <td>24</td>\n",
       "      <td>Jan-24</td>\n",
       "      <td>0.446757</td>\n",
       "      <td>0.000000</td>\n",
       "    </tr>\n",
       "    <tr>\n",
       "      <th>21</th>\n",
       "      <td>37</td>\n",
       "      <td>25</td>\n",
       "      <td>Jan-23</td>\n",
       "      <td>0.761203</td>\n",
       "      <td>0.000000</td>\n",
       "    </tr>\n",
       "    <tr>\n",
       "      <th>22</th>\n",
       "      <td>37</td>\n",
       "      <td>25</td>\n",
       "      <td>Jan-24</td>\n",
       "      <td>0.630345</td>\n",
       "      <td>0.001456</td>\n",
       "    </tr>\n",
       "    <tr>\n",
       "      <th>23</th>\n",
       "      <td>37</td>\n",
       "      <td>26</td>\n",
       "      <td>Jan-23</td>\n",
       "      <td>0.635216</td>\n",
       "      <td>0.000000</td>\n",
       "    </tr>\n",
       "    <tr>\n",
       "      <th>24</th>\n",
       "      <td>37</td>\n",
       "      <td>26</td>\n",
       "      <td>Jan-24</td>\n",
       "      <td>0.625693</td>\n",
       "      <td>0.000000</td>\n",
       "    </tr>\n",
       "    <tr>\n",
       "      <th>25</th>\n",
       "      <td>38</td>\n",
       "      <td>0</td>\n",
       "      <td>Jan-24</td>\n",
       "      <td>0.000000</td>\n",
       "      <td>0.000000</td>\n",
       "    </tr>\n",
       "    <tr>\n",
       "      <th>26</th>\n",
       "      <td>38</td>\n",
       "      <td>23</td>\n",
       "      <td>Jan-24</td>\n",
       "      <td>0.348321</td>\n",
       "      <td>0.000000</td>\n",
       "    </tr>\n",
       "    <tr>\n",
       "      <th>27</th>\n",
       "      <td>38</td>\n",
       "      <td>24</td>\n",
       "      <td>Jan-24</td>\n",
       "      <td>0.521099</td>\n",
       "      <td>0.000000</td>\n",
       "    </tr>\n",
       "    <tr>\n",
       "      <th>28</th>\n",
       "      <td>38</td>\n",
       "      <td>25</td>\n",
       "      <td>Jan-24</td>\n",
       "      <td>0.821967</td>\n",
       "      <td>0.000000</td>\n",
       "    </tr>\n",
       "    <tr>\n",
       "      <th>29</th>\n",
       "      <td>38</td>\n",
       "      <td>26</td>\n",
       "      <td>Jan-24</td>\n",
       "      <td>0.814153</td>\n",
       "      <td>0.000000</td>\n",
       "    </tr>\n",
       "  </tbody>\n",
       "</table>\n",
       "</div>"
      ],
      "text/plain": [
       "    plot_information_id  taxonomy_id month_monitoring  tree_height  tree_dbh\n",
       "0                    35           23           Jan-23     0.499250  0.000000\n",
       "1                    35           23           Jan-24     0.668633  0.000000\n",
       "2                    35           24           Jan-23     0.252427  0.000000\n",
       "3                    35           24           Jan-24     0.145215  0.000000\n",
       "4                    35           27           Jan-23     0.507168  0.000000\n",
       "5                    35           27           Jan-24     0.559611  0.000000\n",
       "6                    35           30           Jan-23     0.335667  0.000000\n",
       "7                    35           30           Jan-24     0.976889  0.000000\n",
       "8                    36           27           Jan-23     0.201691  0.000000\n",
       "9                    36           27           Jan-24     0.004013  0.000000\n",
       "10                   36           28           Jan-23     0.486576  0.000000\n",
       "11                   36           28           Jan-24     0.011818  0.000000\n",
       "12                   36           29           Jan-23     0.245135  0.000000\n",
       "13                   36           29           Jan-24     0.000000  0.000000\n",
       "14                   36           30           Jan-23     0.070000  0.000000\n",
       "15                   36           30           Jan-24     0.000000  0.000000\n",
       "16                   37            0           Jan-24     0.000000  0.000000\n",
       "17                   37           23           Jan-23     0.380722  0.000000\n",
       "18                   37           23           Jan-24     0.400517  0.000000\n",
       "19                   37           24           Jan-23     0.375097  0.000000\n",
       "20                   37           24           Jan-24     0.446757  0.000000\n",
       "21                   37           25           Jan-23     0.761203  0.000000\n",
       "22                   37           25           Jan-24     0.630345  0.001456\n",
       "23                   37           26           Jan-23     0.635216  0.000000\n",
       "24                   37           26           Jan-24     0.625693  0.000000\n",
       "25                   38            0           Jan-24     0.000000  0.000000\n",
       "26                   38           23           Jan-24     0.348321  0.000000\n",
       "27                   38           24           Jan-24     0.521099  0.000000\n",
       "28                   38           25           Jan-24     0.821967  0.000000\n",
       "29                   38           26           Jan-24     0.814153  0.000000"
      ]
     },
     "execution_count": 56,
     "metadata": {},
     "output_type": "execute_result"
    }
   ],
   "source": [
    "proto_sampling_avgs"
   ]
  },
  {
   "cell_type": "code",
   "execution_count": 57,
   "metadata": {},
   "outputs": [],
   "source": [
    "sampling_avgs = fetch_table_to_df(conn, \"SELECT * FROM sampling_avgs\")"
   ]
  },
  {
   "cell_type": "code",
   "execution_count": 58,
   "metadata": {},
   "outputs": [],
   "source": [
    "yes = sampling_avgs.merge(proto_sampling_avgs)"
   ]
  },
  {
   "cell_type": "code",
   "execution_count": 59,
   "metadata": {},
   "outputs": [
    {
     "data": {
      "application/vnd.microsoft.datawrangler.viewer.v0+json": {
       "columns": [
        {
         "name": "index",
         "rawType": "int64",
         "type": "integer"
        },
        {
         "name": "id",
         "rawType": "int64",
         "type": "integer"
        },
        {
         "name": "plot_information_id",
         "rawType": "int64",
         "type": "integer"
        },
        {
         "name": "tree_species",
         "rawType": "object",
         "type": "string"
        },
        {
         "name": "taxonomy_id",
         "rawType": "int64",
         "type": "integer"
        },
        {
         "name": "avg_h",
         "rawType": "object",
         "type": "string"
        },
        {
         "name": "avg_dbh",
         "rawType": "object",
         "type": "string"
        },
        {
         "name": "month_monitoring",
         "rawType": "object",
         "type": "string"
        },
        {
         "name": "created_at",
         "rawType": "datetime64[ns]",
         "type": "datetime"
        },
        {
         "name": "updated_at",
         "rawType": "datetime64[ns]",
         "type": "datetime"
        },
        {
         "name": "site_id",
         "rawType": "object",
         "type": "string"
        },
        {
         "name": "phase",
         "rawType": "int64",
         "type": "integer"
        },
        {
         "name": "tree_height",
         "rawType": "float64",
         "type": "float"
        },
        {
         "name": "tree_dbh",
         "rawType": "float64",
         "type": "float"
        }
       ],
       "conversionMethod": "pd.DataFrame",
       "ref": "1c4906b1-eeac-47be-9a4f-c0f34b8b1fab",
       "rows": [
        [
         "0",
         "46",
         "35",
         "SC",
         "30",
         "0.296",
         null,
         "Jan-24",
         "2024-03-04 09:22:30",
         "2024-03-04 09:22:30",
         null,
         "1",
         "0.9768888888888889",
         "0.0"
        ],
        [
         "1",
         "48",
         "35",
         "SC",
         "30",
         "0.617",
         null,
         "Jan-24",
         "2024-03-04 09:22:30",
         "2024-03-04 09:22:30",
         null,
         "1",
         "0.9768888888888889",
         "0.0"
        ],
        [
         "2",
         "47",
         "35",
         "SC",
         "23",
         "0.376",
         null,
         "Jan-24",
         "2024-03-04 09:22:30",
         "2024-03-04 09:22:30",
         null,
         "1",
         "0.6686333333333334",
         "0.0"
        ],
        [
         "3",
         "68",
         "35",
         "RA",
         "23",
         "0.481",
         null,
         "Jan-24",
         "2024-03-04 09:22:30",
         "2024-03-04 09:22:30",
         null,
         "1",
         "0.6686333333333334",
         "0.0"
        ],
        [
         "4",
         "69",
         "35",
         "RA",
         "23",
         "0.518",
         null,
         "Jan-24",
         "2024-03-04 09:22:30",
         "2024-03-04 09:22:30",
         null,
         "1",
         "0.6686333333333334",
         "0.0"
        ],
        [
         "5",
         "70",
         "35",
         "RA",
         "23",
         "0.823",
         null,
         "Jan-24",
         "2024-03-04 09:22:30",
         "2024-03-04 09:22:30",
         null,
         "1",
         "0.6686333333333334",
         "0.0"
        ],
        [
         "6",
         "49",
         "35",
         "SA",
         "27",
         "0.358",
         null,
         "Jan-24",
         "2024-03-04 09:22:30",
         "2024-03-04 09:22:30",
         null,
         "1",
         "0.5596105919003115",
         "0.0"
        ],
        [
         "7",
         "50",
         "35",
         "SA",
         "27",
         "0.767",
         null,
         "Jan-24",
         "2024-03-04 09:22:30",
         "2024-03-04 09:22:30",
         null,
         "1",
         "0.5596105919003115",
         "0.0"
        ],
        [
         "8",
         "51",
         "35",
         "SA",
         "27",
         "0.862",
         null,
         "Jan-24",
         "2024-03-04 09:22:30",
         "2024-03-04 09:22:30",
         null,
         "1",
         "0.5596105919003115",
         "0.0"
        ],
        [
         "9",
         "52",
         "37",
         "RM",
         "26",
         "0.645",
         null,
         "Jan-24",
         "2024-03-04 09:22:30",
         "2024-03-04 09:22:30",
         null,
         "1",
         "0.6256930113428467",
         "0.0"
        ],
        [
         "10",
         "53",
         "37",
         "RM",
         "26",
         "0.662",
         null,
         "Jan-24",
         "2024-03-04 09:22:30",
         "2024-03-04 09:22:30",
         null,
         "1",
         "0.6256930113428467",
         "0.0"
        ],
        [
         "11",
         "54",
         "37",
         "RM",
         "26",
         "0.728",
         null,
         "Jan-24",
         "2024-03-04 09:22:30",
         "2024-03-04 09:22:30",
         null,
         "1",
         "0.6256930113428467",
         "0.0"
        ],
        [
         "12",
         "55",
         "36",
         "SC",
         "30",
         "0.140",
         null,
         "Jan-24",
         "2024-03-04 09:22:30",
         "2024-03-04 09:22:30",
         null,
         "1",
         "0.0",
         "0.0"
        ],
        [
         "13",
         "56",
         "36",
         "SC",
         "30",
         null,
         null,
         "Jan-24",
         "2024-03-04 09:22:30",
         "2024-03-04 09:22:30",
         null,
         "1",
         "0.0",
         "0.0"
        ],
        [
         "14",
         "57",
         "36",
         "SC",
         "30",
         null,
         null,
         "Jan-24",
         "2024-03-04 09:22:30",
         "2024-03-04 09:22:30",
         null,
         "1",
         "0.0",
         "0.0"
        ],
        [
         "15",
         "58",
         "37",
         "BG",
         "24",
         "0.418",
         null,
         "Jan-24",
         "2024-03-04 09:22:30",
         "2024-03-04 09:22:30",
         null,
         "1",
         "0.44675652985074626",
         "0.0"
        ],
        [
         "16",
         "59",
         "37",
         "BG",
         "24",
         "0.445",
         null,
         "Jan-24",
         "2024-03-04 09:22:30",
         "2024-03-04 09:22:30",
         null,
         "1",
         "0.44675652985074626",
         "0.0"
        ],
        [
         "17",
         "60",
         "37",
         "BG",
         "24",
         "0.500",
         null,
         "Jan-24",
         "2024-03-04 09:22:30",
         "2024-03-04 09:22:30",
         null,
         "1",
         "0.44675652985074626",
         "0.0"
        ],
        [
         "18",
         "61",
         "36",
         "RS",
         "28",
         "0.577",
         null,
         "Jan-24",
         "2024-03-04 09:22:30",
         "2024-03-04 09:22:30",
         null,
         "1",
         "0.011818181818181818",
         "0.0"
        ],
        [
         "19",
         "62",
         "36",
         "RS",
         "28",
         "0.594",
         null,
         "Jan-24",
         "2024-03-04 09:22:30",
         "2024-03-04 09:22:30",
         null,
         "1",
         "0.011818181818181818",
         "0.0"
        ],
        [
         "20",
         "63",
         "36",
         "RS",
         "28",
         "0.780",
         null,
         "Jan-24",
         "2024-03-04 09:22:30",
         "2024-03-04 09:22:30",
         null,
         "1",
         "0.011818181818181818",
         "0.0"
        ],
        [
         "21",
         "64",
         "35",
         "BG",
         "24",
         "0.289",
         null,
         "Jan-24",
         "2024-03-04 09:22:30",
         "2024-03-04 09:22:30",
         null,
         "1",
         "0.1452152777777778",
         "0.0"
        ],
        [
         "22",
         "65",
         "35",
         "BG",
         "24",
         "0.358",
         null,
         "Jan-24",
         "2024-03-04 09:22:30",
         "2024-03-04 09:22:30",
         null,
         "1",
         "0.1452152777777778",
         "0.0"
        ],
        [
         "23",
         "66",
         "35",
         "BG",
         "24",
         "0.352",
         null,
         "Jan-24",
         "2024-03-04 09:22:30",
         "2024-03-04 09:22:30",
         null,
         "1",
         "0.1452152777777778",
         "0.0"
        ],
        [
         "24",
         "67",
         "38",
         "KC",
         "25",
         "0.910",
         null,
         "Jan-24",
         "2024-03-04 09:22:30",
         "2024-03-04 09:22:30",
         null,
         "1",
         "0.8219672131147541",
         "0.0"
        ],
        [
         "25",
         "71",
         "37",
         "RA",
         "23",
         "0.399",
         null,
         "Jan-24",
         "2024-03-04 09:22:30",
         "2024-03-04 09:22:30",
         null,
         "1",
         "0.4005172900494002",
         "0.0"
        ],
        [
         "26",
         "72",
         "37",
         "RA",
         "23",
         "0.403",
         null,
         "Jan-24",
         "2024-03-04 09:22:30",
         "2024-03-04 09:22:30",
         null,
         "1",
         "0.4005172900494002",
         "0.0"
        ],
        [
         "27",
         "73",
         "37",
         "RA",
         "23",
         "0.502",
         null,
         "Jan-24",
         "2024-03-04 09:22:30",
         "2024-03-04 09:22:30",
         null,
         "1",
         "0.4005172900494002",
         "0.0"
        ],
        [
         "28",
         "74",
         "38",
         "RA",
         "23",
         "0.246",
         null,
         "Jan-24",
         "2024-03-04 09:22:30",
         "2024-03-04 09:22:30",
         null,
         "1",
         "0.3483209408194234",
         "0.0"
        ],
        [
         "29",
         "75",
         "38",
         "BG",
         "24",
         "0.761",
         null,
         "Jan-24",
         "2024-03-04 09:22:30",
         "2024-03-04 09:22:30",
         null,
         "1",
         "0.5210989492119089",
         "0.0"
        ],
        [
         "30",
         "76",
         "37",
         "KC",
         "25",
         "0.826",
         null,
         "Jan-24",
         "2024-03-04 09:22:30",
         "2024-03-04 09:22:30",
         null,
         "1",
         "0.6303446601941748",
         "0.0014563106796116505"
        ],
        [
         "31",
         "77",
         "37",
         "KC",
         "25",
         "0.839",
         null,
         "Jan-24",
         "2024-03-04 09:22:30",
         "2024-03-04 09:22:30",
         null,
         "1",
         "0.6303446601941748",
         "0.0014563106796116505"
        ],
        [
         "32",
         "78",
         "37",
         "KC",
         "25",
         "0.930",
         null,
         "Jan-24",
         "2024-03-04 09:22:30",
         "2024-03-04 09:22:30",
         null,
         "1",
         "0.6303446601941748",
         "0.0014563106796116505"
        ],
        [
         "33",
         "79",
         "38",
         "RM",
         "26",
         "0.794",
         null,
         "Jan-24",
         "2024-03-04 09:22:30",
         "2024-03-04 09:22:30",
         null,
         "1",
         "0.8141532258064516",
         "0.0"
        ],
        [
         "34",
         "80",
         "36",
         "AM",
         "29",
         "0.300",
         null,
         "Jan-24",
         "2024-03-04 09:22:30",
         "2024-03-04 09:22:30",
         null,
         "1",
         "0.0",
         "0.0"
        ],
        [
         "35",
         "81",
         "36",
         "AM",
         "29",
         "0.330",
         null,
         "Jan-24",
         "2024-03-04 09:22:30",
         "2024-03-04 09:22:30",
         null,
         "1",
         "0.0",
         "0.0"
        ],
        [
         "36",
         "82",
         "36",
         "AM",
         "29",
         null,
         null,
         "Jan-24",
         "2024-03-04 09:22:30",
         "2024-03-04 09:22:30",
         null,
         "1",
         "0.0",
         "0.0"
        ],
        [
         "37",
         "83",
         "36",
         "SA",
         "27",
         "0.202",
         null,
         "Jan-24",
         "2024-03-04 09:22:30",
         "2024-03-04 09:22:30",
         null,
         "1",
         "0.004013157894736842",
         "0.0"
        ],
        [
         "38",
         "84",
         "36",
         "SA",
         "27",
         "0.255",
         null,
         "Jan-24",
         "2024-03-04 09:22:30",
         "2024-03-04 09:22:30",
         null,
         "1",
         "0.004013157894736842",
         "0.0"
        ],
        [
         "39",
         "85",
         "36",
         "SA",
         "27",
         "0.153",
         null,
         "Jan-24",
         "2024-03-04 09:22:30",
         "2024-03-04 09:22:30",
         null,
         "1",
         "0.004013157894736842",
         "0.0"
        ],
        [
         "40",
         "88",
         "37",
         null,
         "0",
         "0.608",
         null,
         "Jan-24",
         "2024-03-04 09:22:30",
         "2024-08-21 19:15:03",
         null,
         "1",
         "0.0",
         "0.0"
        ],
        [
         "41",
         "89",
         "38",
         null,
         "0",
         "0.678",
         null,
         "Jan-24",
         "2024-03-04 09:22:30",
         "2024-08-21 19:15:04",
         null,
         "1",
         "0.0",
         "0.0"
        ]
       ],
       "shape": {
        "columns": 13,
        "rows": 42
       }
      },
      "text/html": [
       "<div>\n",
       "<style scoped>\n",
       "    .dataframe tbody tr th:only-of-type {\n",
       "        vertical-align: middle;\n",
       "    }\n",
       "\n",
       "    .dataframe tbody tr th {\n",
       "        vertical-align: top;\n",
       "    }\n",
       "\n",
       "    .dataframe thead th {\n",
       "        text-align: right;\n",
       "    }\n",
       "</style>\n",
       "<table border=\"1\" class=\"dataframe\">\n",
       "  <thead>\n",
       "    <tr style=\"text-align: right;\">\n",
       "      <th></th>\n",
       "      <th>id</th>\n",
       "      <th>plot_information_id</th>\n",
       "      <th>tree_species</th>\n",
       "      <th>taxonomy_id</th>\n",
       "      <th>avg_h</th>\n",
       "      <th>avg_dbh</th>\n",
       "      <th>month_monitoring</th>\n",
       "      <th>created_at</th>\n",
       "      <th>updated_at</th>\n",
       "      <th>site_id</th>\n",
       "      <th>phase</th>\n",
       "      <th>tree_height</th>\n",
       "      <th>tree_dbh</th>\n",
       "    </tr>\n",
       "  </thead>\n",
       "  <tbody>\n",
       "    <tr>\n",
       "      <th>0</th>\n",
       "      <td>46</td>\n",
       "      <td>35</td>\n",
       "      <td>SC</td>\n",
       "      <td>30</td>\n",
       "      <td>0.296</td>\n",
       "      <td>None</td>\n",
       "      <td>Jan-24</td>\n",
       "      <td>2024-03-04 09:22:30</td>\n",
       "      <td>2024-03-04 09:22:30</td>\n",
       "      <td>None</td>\n",
       "      <td>1</td>\n",
       "      <td>0.976889</td>\n",
       "      <td>0.000000</td>\n",
       "    </tr>\n",
       "    <tr>\n",
       "      <th>1</th>\n",
       "      <td>48</td>\n",
       "      <td>35</td>\n",
       "      <td>SC</td>\n",
       "      <td>30</td>\n",
       "      <td>0.617</td>\n",
       "      <td>None</td>\n",
       "      <td>Jan-24</td>\n",
       "      <td>2024-03-04 09:22:30</td>\n",
       "      <td>2024-03-04 09:22:30</td>\n",
       "      <td>None</td>\n",
       "      <td>1</td>\n",
       "      <td>0.976889</td>\n",
       "      <td>0.000000</td>\n",
       "    </tr>\n",
       "    <tr>\n",
       "      <th>2</th>\n",
       "      <td>47</td>\n",
       "      <td>35</td>\n",
       "      <td>SC</td>\n",
       "      <td>23</td>\n",
       "      <td>0.376</td>\n",
       "      <td>None</td>\n",
       "      <td>Jan-24</td>\n",
       "      <td>2024-03-04 09:22:30</td>\n",
       "      <td>2024-03-04 09:22:30</td>\n",
       "      <td>None</td>\n",
       "      <td>1</td>\n",
       "      <td>0.668633</td>\n",
       "      <td>0.000000</td>\n",
       "    </tr>\n",
       "    <tr>\n",
       "      <th>3</th>\n",
       "      <td>68</td>\n",
       "      <td>35</td>\n",
       "      <td>RA</td>\n",
       "      <td>23</td>\n",
       "      <td>0.481</td>\n",
       "      <td>None</td>\n",
       "      <td>Jan-24</td>\n",
       "      <td>2024-03-04 09:22:30</td>\n",
       "      <td>2024-03-04 09:22:30</td>\n",
       "      <td>None</td>\n",
       "      <td>1</td>\n",
       "      <td>0.668633</td>\n",
       "      <td>0.000000</td>\n",
       "    </tr>\n",
       "    <tr>\n",
       "      <th>4</th>\n",
       "      <td>69</td>\n",
       "      <td>35</td>\n",
       "      <td>RA</td>\n",
       "      <td>23</td>\n",
       "      <td>0.518</td>\n",
       "      <td>None</td>\n",
       "      <td>Jan-24</td>\n",
       "      <td>2024-03-04 09:22:30</td>\n",
       "      <td>2024-03-04 09:22:30</td>\n",
       "      <td>None</td>\n",
       "      <td>1</td>\n",
       "      <td>0.668633</td>\n",
       "      <td>0.000000</td>\n",
       "    </tr>\n",
       "    <tr>\n",
       "      <th>5</th>\n",
       "      <td>70</td>\n",
       "      <td>35</td>\n",
       "      <td>RA</td>\n",
       "      <td>23</td>\n",
       "      <td>0.823</td>\n",
       "      <td>None</td>\n",
       "      <td>Jan-24</td>\n",
       "      <td>2024-03-04 09:22:30</td>\n",
       "      <td>2024-03-04 09:22:30</td>\n",
       "      <td>None</td>\n",
       "      <td>1</td>\n",
       "      <td>0.668633</td>\n",
       "      <td>0.000000</td>\n",
       "    </tr>\n",
       "    <tr>\n",
       "      <th>6</th>\n",
       "      <td>49</td>\n",
       "      <td>35</td>\n",
       "      <td>SA</td>\n",
       "      <td>27</td>\n",
       "      <td>0.358</td>\n",
       "      <td>None</td>\n",
       "      <td>Jan-24</td>\n",
       "      <td>2024-03-04 09:22:30</td>\n",
       "      <td>2024-03-04 09:22:30</td>\n",
       "      <td>None</td>\n",
       "      <td>1</td>\n",
       "      <td>0.559611</td>\n",
       "      <td>0.000000</td>\n",
       "    </tr>\n",
       "    <tr>\n",
       "      <th>7</th>\n",
       "      <td>50</td>\n",
       "      <td>35</td>\n",
       "      <td>SA</td>\n",
       "      <td>27</td>\n",
       "      <td>0.767</td>\n",
       "      <td>None</td>\n",
       "      <td>Jan-24</td>\n",
       "      <td>2024-03-04 09:22:30</td>\n",
       "      <td>2024-03-04 09:22:30</td>\n",
       "      <td>None</td>\n",
       "      <td>1</td>\n",
       "      <td>0.559611</td>\n",
       "      <td>0.000000</td>\n",
       "    </tr>\n",
       "    <tr>\n",
       "      <th>8</th>\n",
       "      <td>51</td>\n",
       "      <td>35</td>\n",
       "      <td>SA</td>\n",
       "      <td>27</td>\n",
       "      <td>0.862</td>\n",
       "      <td>None</td>\n",
       "      <td>Jan-24</td>\n",
       "      <td>2024-03-04 09:22:30</td>\n",
       "      <td>2024-03-04 09:22:30</td>\n",
       "      <td>None</td>\n",
       "      <td>1</td>\n",
       "      <td>0.559611</td>\n",
       "      <td>0.000000</td>\n",
       "    </tr>\n",
       "    <tr>\n",
       "      <th>9</th>\n",
       "      <td>52</td>\n",
       "      <td>37</td>\n",
       "      <td>RM</td>\n",
       "      <td>26</td>\n",
       "      <td>0.645</td>\n",
       "      <td>None</td>\n",
       "      <td>Jan-24</td>\n",
       "      <td>2024-03-04 09:22:30</td>\n",
       "      <td>2024-03-04 09:22:30</td>\n",
       "      <td>None</td>\n",
       "      <td>1</td>\n",
       "      <td>0.625693</td>\n",
       "      <td>0.000000</td>\n",
       "    </tr>\n",
       "    <tr>\n",
       "      <th>10</th>\n",
       "      <td>53</td>\n",
       "      <td>37</td>\n",
       "      <td>RM</td>\n",
       "      <td>26</td>\n",
       "      <td>0.662</td>\n",
       "      <td>None</td>\n",
       "      <td>Jan-24</td>\n",
       "      <td>2024-03-04 09:22:30</td>\n",
       "      <td>2024-03-04 09:22:30</td>\n",
       "      <td>None</td>\n",
       "      <td>1</td>\n",
       "      <td>0.625693</td>\n",
       "      <td>0.000000</td>\n",
       "    </tr>\n",
       "    <tr>\n",
       "      <th>11</th>\n",
       "      <td>54</td>\n",
       "      <td>37</td>\n",
       "      <td>RM</td>\n",
       "      <td>26</td>\n",
       "      <td>0.728</td>\n",
       "      <td>None</td>\n",
       "      <td>Jan-24</td>\n",
       "      <td>2024-03-04 09:22:30</td>\n",
       "      <td>2024-03-04 09:22:30</td>\n",
       "      <td>None</td>\n",
       "      <td>1</td>\n",
       "      <td>0.625693</td>\n",
       "      <td>0.000000</td>\n",
       "    </tr>\n",
       "    <tr>\n",
       "      <th>12</th>\n",
       "      <td>55</td>\n",
       "      <td>36</td>\n",
       "      <td>SC</td>\n",
       "      <td>30</td>\n",
       "      <td>0.140</td>\n",
       "      <td>None</td>\n",
       "      <td>Jan-24</td>\n",
       "      <td>2024-03-04 09:22:30</td>\n",
       "      <td>2024-03-04 09:22:30</td>\n",
       "      <td>None</td>\n",
       "      <td>1</td>\n",
       "      <td>0.000000</td>\n",
       "      <td>0.000000</td>\n",
       "    </tr>\n",
       "    <tr>\n",
       "      <th>13</th>\n",
       "      <td>56</td>\n",
       "      <td>36</td>\n",
       "      <td>SC</td>\n",
       "      <td>30</td>\n",
       "      <td>None</td>\n",
       "      <td>None</td>\n",
       "      <td>Jan-24</td>\n",
       "      <td>2024-03-04 09:22:30</td>\n",
       "      <td>2024-03-04 09:22:30</td>\n",
       "      <td>None</td>\n",
       "      <td>1</td>\n",
       "      <td>0.000000</td>\n",
       "      <td>0.000000</td>\n",
       "    </tr>\n",
       "    <tr>\n",
       "      <th>14</th>\n",
       "      <td>57</td>\n",
       "      <td>36</td>\n",
       "      <td>SC</td>\n",
       "      <td>30</td>\n",
       "      <td>None</td>\n",
       "      <td>None</td>\n",
       "      <td>Jan-24</td>\n",
       "      <td>2024-03-04 09:22:30</td>\n",
       "      <td>2024-03-04 09:22:30</td>\n",
       "      <td>None</td>\n",
       "      <td>1</td>\n",
       "      <td>0.000000</td>\n",
       "      <td>0.000000</td>\n",
       "    </tr>\n",
       "    <tr>\n",
       "      <th>15</th>\n",
       "      <td>58</td>\n",
       "      <td>37</td>\n",
       "      <td>BG</td>\n",
       "      <td>24</td>\n",
       "      <td>0.418</td>\n",
       "      <td>None</td>\n",
       "      <td>Jan-24</td>\n",
       "      <td>2024-03-04 09:22:30</td>\n",
       "      <td>2024-03-04 09:22:30</td>\n",
       "      <td>None</td>\n",
       "      <td>1</td>\n",
       "      <td>0.446757</td>\n",
       "      <td>0.000000</td>\n",
       "    </tr>\n",
       "    <tr>\n",
       "      <th>16</th>\n",
       "      <td>59</td>\n",
       "      <td>37</td>\n",
       "      <td>BG</td>\n",
       "      <td>24</td>\n",
       "      <td>0.445</td>\n",
       "      <td>None</td>\n",
       "      <td>Jan-24</td>\n",
       "      <td>2024-03-04 09:22:30</td>\n",
       "      <td>2024-03-04 09:22:30</td>\n",
       "      <td>None</td>\n",
       "      <td>1</td>\n",
       "      <td>0.446757</td>\n",
       "      <td>0.000000</td>\n",
       "    </tr>\n",
       "    <tr>\n",
       "      <th>17</th>\n",
       "      <td>60</td>\n",
       "      <td>37</td>\n",
       "      <td>BG</td>\n",
       "      <td>24</td>\n",
       "      <td>0.500</td>\n",
       "      <td>None</td>\n",
       "      <td>Jan-24</td>\n",
       "      <td>2024-03-04 09:22:30</td>\n",
       "      <td>2024-03-04 09:22:30</td>\n",
       "      <td>None</td>\n",
       "      <td>1</td>\n",
       "      <td>0.446757</td>\n",
       "      <td>0.000000</td>\n",
       "    </tr>\n",
       "    <tr>\n",
       "      <th>18</th>\n",
       "      <td>61</td>\n",
       "      <td>36</td>\n",
       "      <td>RS</td>\n",
       "      <td>28</td>\n",
       "      <td>0.577</td>\n",
       "      <td>None</td>\n",
       "      <td>Jan-24</td>\n",
       "      <td>2024-03-04 09:22:30</td>\n",
       "      <td>2024-03-04 09:22:30</td>\n",
       "      <td>None</td>\n",
       "      <td>1</td>\n",
       "      <td>0.011818</td>\n",
       "      <td>0.000000</td>\n",
       "    </tr>\n",
       "    <tr>\n",
       "      <th>19</th>\n",
       "      <td>62</td>\n",
       "      <td>36</td>\n",
       "      <td>RS</td>\n",
       "      <td>28</td>\n",
       "      <td>0.594</td>\n",
       "      <td>None</td>\n",
       "      <td>Jan-24</td>\n",
       "      <td>2024-03-04 09:22:30</td>\n",
       "      <td>2024-03-04 09:22:30</td>\n",
       "      <td>None</td>\n",
       "      <td>1</td>\n",
       "      <td>0.011818</td>\n",
       "      <td>0.000000</td>\n",
       "    </tr>\n",
       "    <tr>\n",
       "      <th>20</th>\n",
       "      <td>63</td>\n",
       "      <td>36</td>\n",
       "      <td>RS</td>\n",
       "      <td>28</td>\n",
       "      <td>0.780</td>\n",
       "      <td>None</td>\n",
       "      <td>Jan-24</td>\n",
       "      <td>2024-03-04 09:22:30</td>\n",
       "      <td>2024-03-04 09:22:30</td>\n",
       "      <td>None</td>\n",
       "      <td>1</td>\n",
       "      <td>0.011818</td>\n",
       "      <td>0.000000</td>\n",
       "    </tr>\n",
       "    <tr>\n",
       "      <th>21</th>\n",
       "      <td>64</td>\n",
       "      <td>35</td>\n",
       "      <td>BG</td>\n",
       "      <td>24</td>\n",
       "      <td>0.289</td>\n",
       "      <td>None</td>\n",
       "      <td>Jan-24</td>\n",
       "      <td>2024-03-04 09:22:30</td>\n",
       "      <td>2024-03-04 09:22:30</td>\n",
       "      <td>None</td>\n",
       "      <td>1</td>\n",
       "      <td>0.145215</td>\n",
       "      <td>0.000000</td>\n",
       "    </tr>\n",
       "    <tr>\n",
       "      <th>22</th>\n",
       "      <td>65</td>\n",
       "      <td>35</td>\n",
       "      <td>BG</td>\n",
       "      <td>24</td>\n",
       "      <td>0.358</td>\n",
       "      <td>None</td>\n",
       "      <td>Jan-24</td>\n",
       "      <td>2024-03-04 09:22:30</td>\n",
       "      <td>2024-03-04 09:22:30</td>\n",
       "      <td>None</td>\n",
       "      <td>1</td>\n",
       "      <td>0.145215</td>\n",
       "      <td>0.000000</td>\n",
       "    </tr>\n",
       "    <tr>\n",
       "      <th>23</th>\n",
       "      <td>66</td>\n",
       "      <td>35</td>\n",
       "      <td>BG</td>\n",
       "      <td>24</td>\n",
       "      <td>0.352</td>\n",
       "      <td>None</td>\n",
       "      <td>Jan-24</td>\n",
       "      <td>2024-03-04 09:22:30</td>\n",
       "      <td>2024-03-04 09:22:30</td>\n",
       "      <td>None</td>\n",
       "      <td>1</td>\n",
       "      <td>0.145215</td>\n",
       "      <td>0.000000</td>\n",
       "    </tr>\n",
       "    <tr>\n",
       "      <th>24</th>\n",
       "      <td>67</td>\n",
       "      <td>38</td>\n",
       "      <td>KC</td>\n",
       "      <td>25</td>\n",
       "      <td>0.910</td>\n",
       "      <td>None</td>\n",
       "      <td>Jan-24</td>\n",
       "      <td>2024-03-04 09:22:30</td>\n",
       "      <td>2024-03-04 09:22:30</td>\n",
       "      <td>None</td>\n",
       "      <td>1</td>\n",
       "      <td>0.821967</td>\n",
       "      <td>0.000000</td>\n",
       "    </tr>\n",
       "    <tr>\n",
       "      <th>25</th>\n",
       "      <td>71</td>\n",
       "      <td>37</td>\n",
       "      <td>RA</td>\n",
       "      <td>23</td>\n",
       "      <td>0.399</td>\n",
       "      <td>None</td>\n",
       "      <td>Jan-24</td>\n",
       "      <td>2024-03-04 09:22:30</td>\n",
       "      <td>2024-03-04 09:22:30</td>\n",
       "      <td>None</td>\n",
       "      <td>1</td>\n",
       "      <td>0.400517</td>\n",
       "      <td>0.000000</td>\n",
       "    </tr>\n",
       "    <tr>\n",
       "      <th>26</th>\n",
       "      <td>72</td>\n",
       "      <td>37</td>\n",
       "      <td>RA</td>\n",
       "      <td>23</td>\n",
       "      <td>0.403</td>\n",
       "      <td>None</td>\n",
       "      <td>Jan-24</td>\n",
       "      <td>2024-03-04 09:22:30</td>\n",
       "      <td>2024-03-04 09:22:30</td>\n",
       "      <td>None</td>\n",
       "      <td>1</td>\n",
       "      <td>0.400517</td>\n",
       "      <td>0.000000</td>\n",
       "    </tr>\n",
       "    <tr>\n",
       "      <th>27</th>\n",
       "      <td>73</td>\n",
       "      <td>37</td>\n",
       "      <td>RA</td>\n",
       "      <td>23</td>\n",
       "      <td>0.502</td>\n",
       "      <td>None</td>\n",
       "      <td>Jan-24</td>\n",
       "      <td>2024-03-04 09:22:30</td>\n",
       "      <td>2024-03-04 09:22:30</td>\n",
       "      <td>None</td>\n",
       "      <td>1</td>\n",
       "      <td>0.400517</td>\n",
       "      <td>0.000000</td>\n",
       "    </tr>\n",
       "    <tr>\n",
       "      <th>28</th>\n",
       "      <td>74</td>\n",
       "      <td>38</td>\n",
       "      <td>RA</td>\n",
       "      <td>23</td>\n",
       "      <td>0.246</td>\n",
       "      <td>None</td>\n",
       "      <td>Jan-24</td>\n",
       "      <td>2024-03-04 09:22:30</td>\n",
       "      <td>2024-03-04 09:22:30</td>\n",
       "      <td>None</td>\n",
       "      <td>1</td>\n",
       "      <td>0.348321</td>\n",
       "      <td>0.000000</td>\n",
       "    </tr>\n",
       "    <tr>\n",
       "      <th>29</th>\n",
       "      <td>75</td>\n",
       "      <td>38</td>\n",
       "      <td>BG</td>\n",
       "      <td>24</td>\n",
       "      <td>0.761</td>\n",
       "      <td>None</td>\n",
       "      <td>Jan-24</td>\n",
       "      <td>2024-03-04 09:22:30</td>\n",
       "      <td>2024-03-04 09:22:30</td>\n",
       "      <td>None</td>\n",
       "      <td>1</td>\n",
       "      <td>0.521099</td>\n",
       "      <td>0.000000</td>\n",
       "    </tr>\n",
       "    <tr>\n",
       "      <th>30</th>\n",
       "      <td>76</td>\n",
       "      <td>37</td>\n",
       "      <td>KC</td>\n",
       "      <td>25</td>\n",
       "      <td>0.826</td>\n",
       "      <td>None</td>\n",
       "      <td>Jan-24</td>\n",
       "      <td>2024-03-04 09:22:30</td>\n",
       "      <td>2024-03-04 09:22:30</td>\n",
       "      <td>None</td>\n",
       "      <td>1</td>\n",
       "      <td>0.630345</td>\n",
       "      <td>0.001456</td>\n",
       "    </tr>\n",
       "    <tr>\n",
       "      <th>31</th>\n",
       "      <td>77</td>\n",
       "      <td>37</td>\n",
       "      <td>KC</td>\n",
       "      <td>25</td>\n",
       "      <td>0.839</td>\n",
       "      <td>None</td>\n",
       "      <td>Jan-24</td>\n",
       "      <td>2024-03-04 09:22:30</td>\n",
       "      <td>2024-03-04 09:22:30</td>\n",
       "      <td>None</td>\n",
       "      <td>1</td>\n",
       "      <td>0.630345</td>\n",
       "      <td>0.001456</td>\n",
       "    </tr>\n",
       "    <tr>\n",
       "      <th>32</th>\n",
       "      <td>78</td>\n",
       "      <td>37</td>\n",
       "      <td>KC</td>\n",
       "      <td>25</td>\n",
       "      <td>0.930</td>\n",
       "      <td>None</td>\n",
       "      <td>Jan-24</td>\n",
       "      <td>2024-03-04 09:22:30</td>\n",
       "      <td>2024-03-04 09:22:30</td>\n",
       "      <td>None</td>\n",
       "      <td>1</td>\n",
       "      <td>0.630345</td>\n",
       "      <td>0.001456</td>\n",
       "    </tr>\n",
       "    <tr>\n",
       "      <th>33</th>\n",
       "      <td>79</td>\n",
       "      <td>38</td>\n",
       "      <td>RM</td>\n",
       "      <td>26</td>\n",
       "      <td>0.794</td>\n",
       "      <td>None</td>\n",
       "      <td>Jan-24</td>\n",
       "      <td>2024-03-04 09:22:30</td>\n",
       "      <td>2024-03-04 09:22:30</td>\n",
       "      <td>None</td>\n",
       "      <td>1</td>\n",
       "      <td>0.814153</td>\n",
       "      <td>0.000000</td>\n",
       "    </tr>\n",
       "    <tr>\n",
       "      <th>34</th>\n",
       "      <td>80</td>\n",
       "      <td>36</td>\n",
       "      <td>AM</td>\n",
       "      <td>29</td>\n",
       "      <td>0.300</td>\n",
       "      <td>None</td>\n",
       "      <td>Jan-24</td>\n",
       "      <td>2024-03-04 09:22:30</td>\n",
       "      <td>2024-03-04 09:22:30</td>\n",
       "      <td>None</td>\n",
       "      <td>1</td>\n",
       "      <td>0.000000</td>\n",
       "      <td>0.000000</td>\n",
       "    </tr>\n",
       "    <tr>\n",
       "      <th>35</th>\n",
       "      <td>81</td>\n",
       "      <td>36</td>\n",
       "      <td>AM</td>\n",
       "      <td>29</td>\n",
       "      <td>0.330</td>\n",
       "      <td>None</td>\n",
       "      <td>Jan-24</td>\n",
       "      <td>2024-03-04 09:22:30</td>\n",
       "      <td>2024-03-04 09:22:30</td>\n",
       "      <td>None</td>\n",
       "      <td>1</td>\n",
       "      <td>0.000000</td>\n",
       "      <td>0.000000</td>\n",
       "    </tr>\n",
       "    <tr>\n",
       "      <th>36</th>\n",
       "      <td>82</td>\n",
       "      <td>36</td>\n",
       "      <td>AM</td>\n",
       "      <td>29</td>\n",
       "      <td>None</td>\n",
       "      <td>None</td>\n",
       "      <td>Jan-24</td>\n",
       "      <td>2024-03-04 09:22:30</td>\n",
       "      <td>2024-03-04 09:22:30</td>\n",
       "      <td>None</td>\n",
       "      <td>1</td>\n",
       "      <td>0.000000</td>\n",
       "      <td>0.000000</td>\n",
       "    </tr>\n",
       "    <tr>\n",
       "      <th>37</th>\n",
       "      <td>83</td>\n",
       "      <td>36</td>\n",
       "      <td>SA</td>\n",
       "      <td>27</td>\n",
       "      <td>0.202</td>\n",
       "      <td>None</td>\n",
       "      <td>Jan-24</td>\n",
       "      <td>2024-03-04 09:22:30</td>\n",
       "      <td>2024-03-04 09:22:30</td>\n",
       "      <td>None</td>\n",
       "      <td>1</td>\n",
       "      <td>0.004013</td>\n",
       "      <td>0.000000</td>\n",
       "    </tr>\n",
       "    <tr>\n",
       "      <th>38</th>\n",
       "      <td>84</td>\n",
       "      <td>36</td>\n",
       "      <td>SA</td>\n",
       "      <td>27</td>\n",
       "      <td>0.255</td>\n",
       "      <td>None</td>\n",
       "      <td>Jan-24</td>\n",
       "      <td>2024-03-04 09:22:30</td>\n",
       "      <td>2024-03-04 09:22:30</td>\n",
       "      <td>None</td>\n",
       "      <td>1</td>\n",
       "      <td>0.004013</td>\n",
       "      <td>0.000000</td>\n",
       "    </tr>\n",
       "    <tr>\n",
       "      <th>39</th>\n",
       "      <td>85</td>\n",
       "      <td>36</td>\n",
       "      <td>SA</td>\n",
       "      <td>27</td>\n",
       "      <td>0.153</td>\n",
       "      <td>None</td>\n",
       "      <td>Jan-24</td>\n",
       "      <td>2024-03-04 09:22:30</td>\n",
       "      <td>2024-03-04 09:22:30</td>\n",
       "      <td>None</td>\n",
       "      <td>1</td>\n",
       "      <td>0.004013</td>\n",
       "      <td>0.000000</td>\n",
       "    </tr>\n",
       "    <tr>\n",
       "      <th>40</th>\n",
       "      <td>88</td>\n",
       "      <td>37</td>\n",
       "      <td>None</td>\n",
       "      <td>0</td>\n",
       "      <td>0.608</td>\n",
       "      <td>None</td>\n",
       "      <td>Jan-24</td>\n",
       "      <td>2024-03-04 09:22:30</td>\n",
       "      <td>2024-08-21 19:15:03</td>\n",
       "      <td>None</td>\n",
       "      <td>1</td>\n",
       "      <td>0.000000</td>\n",
       "      <td>0.000000</td>\n",
       "    </tr>\n",
       "    <tr>\n",
       "      <th>41</th>\n",
       "      <td>89</td>\n",
       "      <td>38</td>\n",
       "      <td>None</td>\n",
       "      <td>0</td>\n",
       "      <td>0.678</td>\n",
       "      <td>None</td>\n",
       "      <td>Jan-24</td>\n",
       "      <td>2024-03-04 09:22:30</td>\n",
       "      <td>2024-08-21 19:15:04</td>\n",
       "      <td>None</td>\n",
       "      <td>1</td>\n",
       "      <td>0.000000</td>\n",
       "      <td>0.000000</td>\n",
       "    </tr>\n",
       "  </tbody>\n",
       "</table>\n",
       "</div>"
      ],
      "text/plain": [
       "    id  plot_information_id tree_species  taxonomy_id  avg_h avg_dbh  \\\n",
       "0   46                   35           SC           30  0.296    None   \n",
       "1   48                   35           SC           30  0.617    None   \n",
       "2   47                   35           SC           23  0.376    None   \n",
       "3   68                   35           RA           23  0.481    None   \n",
       "4   69                   35           RA           23  0.518    None   \n",
       "5   70                   35           RA           23  0.823    None   \n",
       "6   49                   35           SA           27  0.358    None   \n",
       "7   50                   35           SA           27  0.767    None   \n",
       "8   51                   35           SA           27  0.862    None   \n",
       "9   52                   37           RM           26  0.645    None   \n",
       "10  53                   37           RM           26  0.662    None   \n",
       "11  54                   37           RM           26  0.728    None   \n",
       "12  55                   36           SC           30  0.140    None   \n",
       "13  56                   36           SC           30   None    None   \n",
       "14  57                   36           SC           30   None    None   \n",
       "15  58                   37           BG           24  0.418    None   \n",
       "16  59                   37           BG           24  0.445    None   \n",
       "17  60                   37           BG           24  0.500    None   \n",
       "18  61                   36           RS           28  0.577    None   \n",
       "19  62                   36           RS           28  0.594    None   \n",
       "20  63                   36           RS           28  0.780    None   \n",
       "21  64                   35           BG           24  0.289    None   \n",
       "22  65                   35           BG           24  0.358    None   \n",
       "23  66                   35           BG           24  0.352    None   \n",
       "24  67                   38           KC           25  0.910    None   \n",
       "25  71                   37           RA           23  0.399    None   \n",
       "26  72                   37           RA           23  0.403    None   \n",
       "27  73                   37           RA           23  0.502    None   \n",
       "28  74                   38           RA           23  0.246    None   \n",
       "29  75                   38           BG           24  0.761    None   \n",
       "30  76                   37           KC           25  0.826    None   \n",
       "31  77                   37           KC           25  0.839    None   \n",
       "32  78                   37           KC           25  0.930    None   \n",
       "33  79                   38           RM           26  0.794    None   \n",
       "34  80                   36           AM           29  0.300    None   \n",
       "35  81                   36           AM           29  0.330    None   \n",
       "36  82                   36           AM           29   None    None   \n",
       "37  83                   36           SA           27  0.202    None   \n",
       "38  84                   36           SA           27  0.255    None   \n",
       "39  85                   36           SA           27  0.153    None   \n",
       "40  88                   37         None            0  0.608    None   \n",
       "41  89                   38         None            0  0.678    None   \n",
       "\n",
       "   month_monitoring          created_at          updated_at site_id  phase  \\\n",
       "0            Jan-24 2024-03-04 09:22:30 2024-03-04 09:22:30    None      1   \n",
       "1            Jan-24 2024-03-04 09:22:30 2024-03-04 09:22:30    None      1   \n",
       "2            Jan-24 2024-03-04 09:22:30 2024-03-04 09:22:30    None      1   \n",
       "3            Jan-24 2024-03-04 09:22:30 2024-03-04 09:22:30    None      1   \n",
       "4            Jan-24 2024-03-04 09:22:30 2024-03-04 09:22:30    None      1   \n",
       "5            Jan-24 2024-03-04 09:22:30 2024-03-04 09:22:30    None      1   \n",
       "6            Jan-24 2024-03-04 09:22:30 2024-03-04 09:22:30    None      1   \n",
       "7            Jan-24 2024-03-04 09:22:30 2024-03-04 09:22:30    None      1   \n",
       "8            Jan-24 2024-03-04 09:22:30 2024-03-04 09:22:30    None      1   \n",
       "9            Jan-24 2024-03-04 09:22:30 2024-03-04 09:22:30    None      1   \n",
       "10           Jan-24 2024-03-04 09:22:30 2024-03-04 09:22:30    None      1   \n",
       "11           Jan-24 2024-03-04 09:22:30 2024-03-04 09:22:30    None      1   \n",
       "12           Jan-24 2024-03-04 09:22:30 2024-03-04 09:22:30    None      1   \n",
       "13           Jan-24 2024-03-04 09:22:30 2024-03-04 09:22:30    None      1   \n",
       "14           Jan-24 2024-03-04 09:22:30 2024-03-04 09:22:30    None      1   \n",
       "15           Jan-24 2024-03-04 09:22:30 2024-03-04 09:22:30    None      1   \n",
       "16           Jan-24 2024-03-04 09:22:30 2024-03-04 09:22:30    None      1   \n",
       "17           Jan-24 2024-03-04 09:22:30 2024-03-04 09:22:30    None      1   \n",
       "18           Jan-24 2024-03-04 09:22:30 2024-03-04 09:22:30    None      1   \n",
       "19           Jan-24 2024-03-04 09:22:30 2024-03-04 09:22:30    None      1   \n",
       "20           Jan-24 2024-03-04 09:22:30 2024-03-04 09:22:30    None      1   \n",
       "21           Jan-24 2024-03-04 09:22:30 2024-03-04 09:22:30    None      1   \n",
       "22           Jan-24 2024-03-04 09:22:30 2024-03-04 09:22:30    None      1   \n",
       "23           Jan-24 2024-03-04 09:22:30 2024-03-04 09:22:30    None      1   \n",
       "24           Jan-24 2024-03-04 09:22:30 2024-03-04 09:22:30    None      1   \n",
       "25           Jan-24 2024-03-04 09:22:30 2024-03-04 09:22:30    None      1   \n",
       "26           Jan-24 2024-03-04 09:22:30 2024-03-04 09:22:30    None      1   \n",
       "27           Jan-24 2024-03-04 09:22:30 2024-03-04 09:22:30    None      1   \n",
       "28           Jan-24 2024-03-04 09:22:30 2024-03-04 09:22:30    None      1   \n",
       "29           Jan-24 2024-03-04 09:22:30 2024-03-04 09:22:30    None      1   \n",
       "30           Jan-24 2024-03-04 09:22:30 2024-03-04 09:22:30    None      1   \n",
       "31           Jan-24 2024-03-04 09:22:30 2024-03-04 09:22:30    None      1   \n",
       "32           Jan-24 2024-03-04 09:22:30 2024-03-04 09:22:30    None      1   \n",
       "33           Jan-24 2024-03-04 09:22:30 2024-03-04 09:22:30    None      1   \n",
       "34           Jan-24 2024-03-04 09:22:30 2024-03-04 09:22:30    None      1   \n",
       "35           Jan-24 2024-03-04 09:22:30 2024-03-04 09:22:30    None      1   \n",
       "36           Jan-24 2024-03-04 09:22:30 2024-03-04 09:22:30    None      1   \n",
       "37           Jan-24 2024-03-04 09:22:30 2024-03-04 09:22:30    None      1   \n",
       "38           Jan-24 2024-03-04 09:22:30 2024-03-04 09:22:30    None      1   \n",
       "39           Jan-24 2024-03-04 09:22:30 2024-03-04 09:22:30    None      1   \n",
       "40           Jan-24 2024-03-04 09:22:30 2024-08-21 19:15:03    None      1   \n",
       "41           Jan-24 2024-03-04 09:22:30 2024-08-21 19:15:04    None      1   \n",
       "\n",
       "    tree_height  tree_dbh  \n",
       "0      0.976889  0.000000  \n",
       "1      0.976889  0.000000  \n",
       "2      0.668633  0.000000  \n",
       "3      0.668633  0.000000  \n",
       "4      0.668633  0.000000  \n",
       "5      0.668633  0.000000  \n",
       "6      0.559611  0.000000  \n",
       "7      0.559611  0.000000  \n",
       "8      0.559611  0.000000  \n",
       "9      0.625693  0.000000  \n",
       "10     0.625693  0.000000  \n",
       "11     0.625693  0.000000  \n",
       "12     0.000000  0.000000  \n",
       "13     0.000000  0.000000  \n",
       "14     0.000000  0.000000  \n",
       "15     0.446757  0.000000  \n",
       "16     0.446757  0.000000  \n",
       "17     0.446757  0.000000  \n",
       "18     0.011818  0.000000  \n",
       "19     0.011818  0.000000  \n",
       "20     0.011818  0.000000  \n",
       "21     0.145215  0.000000  \n",
       "22     0.145215  0.000000  \n",
       "23     0.145215  0.000000  \n",
       "24     0.821967  0.000000  \n",
       "25     0.400517  0.000000  \n",
       "26     0.400517  0.000000  \n",
       "27     0.400517  0.000000  \n",
       "28     0.348321  0.000000  \n",
       "29     0.521099  0.000000  \n",
       "30     0.630345  0.001456  \n",
       "31     0.630345  0.001456  \n",
       "32     0.630345  0.001456  \n",
       "33     0.814153  0.000000  \n",
       "34     0.000000  0.000000  \n",
       "35     0.000000  0.000000  \n",
       "36     0.000000  0.000000  \n",
       "37     0.004013  0.000000  \n",
       "38     0.004013  0.000000  \n",
       "39     0.004013  0.000000  \n",
       "40     0.000000  0.000000  \n",
       "41     0.000000  0.000000  "
      ]
     },
     "execution_count": 59,
     "metadata": {},
     "output_type": "execute_result"
    }
   ],
   "source": [
    "yes"
   ]
  },
  {
   "cell_type": "code",
   "execution_count": 83,
   "metadata": {},
   "outputs": [
    {
     "data": {
      "text/plain": [
       "taxonomy_id  avg_h  tree_height\n",
       "0            0.608  0.000000       1\n",
       "27           0.767  0.559611       1\n",
       "26           0.662  0.625693       1\n",
       "             0.728  0.625693       1\n",
       "             0.794  0.814153       1\n",
       "27           0.153  0.004013       1\n",
       "             0.202  0.004013       1\n",
       "             0.255  0.004013       1\n",
       "             0.358  0.559611       1\n",
       "             0.862  0.559611       1\n",
       "25           0.930  0.630345       1\n",
       "28           0.577  0.011818       1\n",
       "             0.594  0.011818       1\n",
       "             0.780  0.011818       1\n",
       "29           0.300  0.000000       1\n",
       "             0.330  0.000000       1\n",
       "30           0.140  0.000000       1\n",
       "             0.296  0.976889       1\n",
       "26           0.645  0.625693       1\n",
       "25           0.910  0.821967       1\n",
       "0            0.678  0.000000       1\n",
       "23           0.823  0.668633       1\n",
       "             0.246  0.348321       1\n",
       "             0.376  0.668633       1\n",
       "             0.399  0.400517       1\n",
       "             0.403  0.400517       1\n",
       "             0.481  0.668633       1\n",
       "             0.502  0.400517       1\n",
       "             0.518  0.668633       1\n",
       "24           0.289  0.145215       1\n",
       "25           0.839  0.630345       1\n",
       "24           0.352  0.145215       1\n",
       "             0.358  0.145215       1\n",
       "             0.418  0.446757       1\n",
       "             0.445  0.446757       1\n",
       "             0.500  0.446757       1\n",
       "             0.761  0.521099       1\n",
       "25           0.826  0.630345       1\n",
       "30           0.617  0.976889       1\n",
       "dtype: int64"
      ]
     },
     "execution_count": 83,
     "metadata": {},
     "output_type": "execute_result"
    }
   ],
   "source": [
    "yes[['taxonomy_id', 'avg_h','tree_height']].value_counts()"
   ]
  },
  {
   "cell_type": "markdown",
   "metadata": {},
   "source": [
    "# Data Analytics"
   ]
  },
  {
   "cell_type": "code",
   "execution_count": 61,
   "metadata": {},
   "outputs": [],
   "source": [
    "data_analytics = fetch_table_to_df(conn, \"SELECT * FROM data_analytics\")"
   ]
  },
  {
   "cell_type": "code",
   "execution_count": 63,
   "metadata": {},
   "outputs": [
    {
     "data": {
      "text/plain": [
       "array(['rewetting_area', 'cseq_revegetation_annualy',\n",
       "       'cseq_revegetation_accumulative', 'revegetation_area', 'peat_area',\n",
       "       'cseq_rewetting_annualy', 'cseq_rewetting_accumulative',\n",
       "       'mineral_area', 'avg_growth_dbh', 'num_tree_species',\n",
       "       'avg_growth_height', 'subsidence_a_all', 'subsidence_a',\n",
       "       'subsidence_c', 'subsidence_c_all', 'restoration_area'],\n",
       "      dtype=object)"
      ]
     },
     "execution_count": 63,
     "metadata": {},
     "output_type": "execute_result"
    }
   ],
   "source": [
    "data_analytics.key.unique()"
   ]
  },
  {
   "cell_type": "markdown",
   "metadata": {},
   "source": [
    "## Update with tree_monitorings components"
   ]
  },
  {
   "cell_type": "markdown",
   "metadata": {},
   "source": [
    "Setting up plot and site for referencing"
   ]
  },
  {
   "cell_type": "code",
   "execution_count": 71,
   "metadata": {},
   "outputs": [],
   "source": [
    "tree_monitorings['plot_id'] = tree_monitorings['tree_id'].apply(lambda x: [y for y in plot_informations['plot_id'] if y in x]).str.get(0)"
   ]
  },
  {
   "cell_type": "code",
   "execution_count": 72,
   "metadata": {},
   "outputs": [],
   "source": [
    "site_dict = site_informations.set_index('id')['site_id'].to_dict() \n",
    "\n",
    "tree_monitorings['site_id'] = [plot_informations.loc[plot_informations['plot_id'] == plot_id, 'site_information_id'].values[0] \n",
    "                if plot_id in plot_informations['plot_id'].values else None\n",
    "                for plot_id in tree_monitorings['plot_id']]\n",
    "\n",
    "tree_monitorings['site_id'] = tree_monitorings['site_id'].map(site_dict)"
   ]
  },
  {
   "cell_type": "markdown",
   "metadata": {},
   "source": [
    "### Number of unique species"
   ]
  },
  {
   "cell_type": "code",
   "execution_count": 74,
   "metadata": {},
   "outputs": [
    {
     "data": {
      "application/vnd.microsoft.datawrangler.viewer.v0+json": {
       "columns": [
        {
         "name": "index",
         "rawType": "int64",
         "type": "integer"
        },
        {
         "name": "site_id",
         "rawType": "object",
         "type": "string"
        },
        {
         "name": "plot_id",
         "rawType": "object",
         "type": "string"
        },
        {
         "name": "taxonomy_id",
         "rawType": "int64",
         "type": "integer"
        }
       ],
       "conversionMethod": "pd.DataFrame",
       "ref": "2a238303-1b97-4b39-bd6d-b038658f1f99",
       "rows": [
        [
         "0",
         "AA",
         "AA01",
         "10"
        ],
        [
         "1",
         "AA",
         "AA04",
         "3"
        ],
        [
         "2",
         "AA",
         "AA05",
         "4"
        ],
        [
         "3",
         "AA",
         "AA06",
         "4"
        ],
        [
         "4",
         "BB",
         "BB-01",
         "2"
        ],
        [
         "5",
         "BB",
         "BB-02",
         "3"
        ],
        [
         "6",
         "BB",
         "BB-03",
         "3"
        ],
        [
         "7",
         "BB",
         "BB-04",
         "2"
        ],
        [
         "8",
         "BB",
         "BB-05",
         "4"
        ],
        [
         "9",
         "BB",
         "BB-06",
         "5"
        ],
        [
         "10",
         "CL",
         "CL-01",
         "3"
        ],
        [
         "11",
         "CL",
         "CL-02",
         "5"
        ],
        [
         "12",
         "CL",
         "CL-03",
         "4"
        ],
        [
         "13",
         "CL",
         "CL-04",
         "6"
        ],
        [
         "14",
         "CL",
         "CL-06",
         "8"
        ],
        [
         "15",
         "CL",
         "CL-07",
         "8"
        ],
        [
         "16",
         "CL",
         "CL-09",
         "2"
        ],
        [
         "17",
         "CL",
         "CL-10",
         "3"
        ],
        [
         "18",
         "ER",
         "ER-01",
         "14"
        ],
        [
         "19",
         "LQ",
         "LQ-01",
         "10"
        ],
        [
         "20",
         "P",
         "P-1",
         "7"
        ]
       ],
       "shape": {
        "columns": 3,
        "rows": 21
       }
      },
      "text/html": [
       "<div>\n",
       "<style scoped>\n",
       "    .dataframe tbody tr th:only-of-type {\n",
       "        vertical-align: middle;\n",
       "    }\n",
       "\n",
       "    .dataframe tbody tr th {\n",
       "        vertical-align: top;\n",
       "    }\n",
       "\n",
       "    .dataframe thead th {\n",
       "        text-align: right;\n",
       "    }\n",
       "</style>\n",
       "<table border=\"1\" class=\"dataframe\">\n",
       "  <thead>\n",
       "    <tr style=\"text-align: right;\">\n",
       "      <th></th>\n",
       "      <th>site_id</th>\n",
       "      <th>plot_id</th>\n",
       "      <th>taxonomy_id</th>\n",
       "    </tr>\n",
       "  </thead>\n",
       "  <tbody>\n",
       "    <tr>\n",
       "      <th>0</th>\n",
       "      <td>AA</td>\n",
       "      <td>AA01</td>\n",
       "      <td>10</td>\n",
       "    </tr>\n",
       "    <tr>\n",
       "      <th>1</th>\n",
       "      <td>AA</td>\n",
       "      <td>AA04</td>\n",
       "      <td>3</td>\n",
       "    </tr>\n",
       "    <tr>\n",
       "      <th>2</th>\n",
       "      <td>AA</td>\n",
       "      <td>AA05</td>\n",
       "      <td>4</td>\n",
       "    </tr>\n",
       "    <tr>\n",
       "      <th>3</th>\n",
       "      <td>AA</td>\n",
       "      <td>AA06</td>\n",
       "      <td>4</td>\n",
       "    </tr>\n",
       "    <tr>\n",
       "      <th>4</th>\n",
       "      <td>BB</td>\n",
       "      <td>BB-01</td>\n",
       "      <td>2</td>\n",
       "    </tr>\n",
       "    <tr>\n",
       "      <th>5</th>\n",
       "      <td>BB</td>\n",
       "      <td>BB-02</td>\n",
       "      <td>3</td>\n",
       "    </tr>\n",
       "    <tr>\n",
       "      <th>6</th>\n",
       "      <td>BB</td>\n",
       "      <td>BB-03</td>\n",
       "      <td>3</td>\n",
       "    </tr>\n",
       "    <tr>\n",
       "      <th>7</th>\n",
       "      <td>BB</td>\n",
       "      <td>BB-04</td>\n",
       "      <td>2</td>\n",
       "    </tr>\n",
       "    <tr>\n",
       "      <th>8</th>\n",
       "      <td>BB</td>\n",
       "      <td>BB-05</td>\n",
       "      <td>4</td>\n",
       "    </tr>\n",
       "    <tr>\n",
       "      <th>9</th>\n",
       "      <td>BB</td>\n",
       "      <td>BB-06</td>\n",
       "      <td>5</td>\n",
       "    </tr>\n",
       "    <tr>\n",
       "      <th>10</th>\n",
       "      <td>CL</td>\n",
       "      <td>CL-01</td>\n",
       "      <td>3</td>\n",
       "    </tr>\n",
       "    <tr>\n",
       "      <th>11</th>\n",
       "      <td>CL</td>\n",
       "      <td>CL-02</td>\n",
       "      <td>5</td>\n",
       "    </tr>\n",
       "    <tr>\n",
       "      <th>12</th>\n",
       "      <td>CL</td>\n",
       "      <td>CL-03</td>\n",
       "      <td>4</td>\n",
       "    </tr>\n",
       "    <tr>\n",
       "      <th>13</th>\n",
       "      <td>CL</td>\n",
       "      <td>CL-04</td>\n",
       "      <td>6</td>\n",
       "    </tr>\n",
       "    <tr>\n",
       "      <th>14</th>\n",
       "      <td>CL</td>\n",
       "      <td>CL-06</td>\n",
       "      <td>8</td>\n",
       "    </tr>\n",
       "    <tr>\n",
       "      <th>15</th>\n",
       "      <td>CL</td>\n",
       "      <td>CL-07</td>\n",
       "      <td>8</td>\n",
       "    </tr>\n",
       "    <tr>\n",
       "      <th>16</th>\n",
       "      <td>CL</td>\n",
       "      <td>CL-09</td>\n",
       "      <td>2</td>\n",
       "    </tr>\n",
       "    <tr>\n",
       "      <th>17</th>\n",
       "      <td>CL</td>\n",
       "      <td>CL-10</td>\n",
       "      <td>3</td>\n",
       "    </tr>\n",
       "    <tr>\n",
       "      <th>18</th>\n",
       "      <td>ER</td>\n",
       "      <td>ER-01</td>\n",
       "      <td>14</td>\n",
       "    </tr>\n",
       "    <tr>\n",
       "      <th>19</th>\n",
       "      <td>LQ</td>\n",
       "      <td>LQ-01</td>\n",
       "      <td>10</td>\n",
       "    </tr>\n",
       "    <tr>\n",
       "      <th>20</th>\n",
       "      <td>P</td>\n",
       "      <td>P-1</td>\n",
       "      <td>7</td>\n",
       "    </tr>\n",
       "  </tbody>\n",
       "</table>\n",
       "</div>"
      ],
      "text/plain": [
       "   site_id plot_id  taxonomy_id\n",
       "0       AA    AA01           10\n",
       "1       AA    AA04            3\n",
       "2       AA    AA05            4\n",
       "3       AA    AA06            4\n",
       "4       BB   BB-01            2\n",
       "5       BB   BB-02            3\n",
       "6       BB   BB-03            3\n",
       "7       BB   BB-04            2\n",
       "8       BB   BB-05            4\n",
       "9       BB   BB-06            5\n",
       "10      CL   CL-01            3\n",
       "11      CL   CL-02            5\n",
       "12      CL   CL-03            4\n",
       "13      CL   CL-04            6\n",
       "14      CL   CL-06            8\n",
       "15      CL   CL-07            8\n",
       "16      CL   CL-09            2\n",
       "17      CL   CL-10            3\n",
       "18      ER   ER-01           14\n",
       "19      LQ   LQ-01           10\n",
       "20       P     P-1            7"
      ]
     },
     "execution_count": 74,
     "metadata": {},
     "output_type": "execute_result"
    }
   ],
   "source": [
    "pd.Series.to_frame(tree_monitorings.groupby(['site_id', 'plot_id'])['taxonomy_id'].agg(\"nunique\")).reset_index()"
   ]
  },
  {
   "cell_type": "markdown",
   "metadata": {},
   "source": [
    "### Number of trees"
   ]
  },
  {
   "cell_type": "markdown",
   "metadata": {},
   "source": [
    "Plot-level"
   ]
  },
  {
   "cell_type": "code",
   "execution_count": 131,
   "metadata": {},
   "outputs": [
    {
     "data": {
      "application/vnd.microsoft.datawrangler.viewer.v0+json": {
       "columns": [
        {
         "name": "index",
         "rawType": "int64",
         "type": "integer"
        },
        {
         "name": "site_id",
         "rawType": "object",
         "type": "string"
        },
        {
         "name": "plot_id",
         "rawType": "object",
         "type": "string"
        },
        {
         "name": "taxonomy_id",
         "rawType": "int64",
         "type": "integer"
        }
       ],
       "conversionMethod": "pd.DataFrame",
       "ref": "bc76eb67-0b9e-4973-8482-5775e0638a1a",
       "rows": [
        [
         "0",
         "AA",
         "AA01",
         "605"
        ],
        [
         "1",
         "AA",
         "AA04",
         "300"
        ],
        [
         "2",
         "AA",
         "AA05",
         "75"
        ],
        [
         "3",
         "AA",
         "AA06",
         "66"
        ],
        [
         "4",
         "BB",
         "BB-01",
         "475"
        ],
        [
         "5",
         "BB",
         "BB-02",
         "1499"
        ],
        [
         "6",
         "BB",
         "BB-03",
         "1322"
        ],
        [
         "7",
         "BB",
         "BB-04",
         "1838"
        ],
        [
         "8",
         "BB",
         "BB-05",
         "257"
        ],
        [
         "9",
         "BB",
         "BB-06",
         "273"
        ],
        [
         "10",
         "CL",
         "CL-01",
         "498"
        ],
        [
         "11",
         "CL",
         "CL-02",
         "1145"
        ],
        [
         "12",
         "CL",
         "CL-03",
         "57"
        ],
        [
         "13",
         "CL",
         "CL-04",
         "83"
        ],
        [
         "14",
         "CL",
         "CL-06",
         "184"
        ],
        [
         "15",
         "CL",
         "CL-07",
         "165"
        ],
        [
         "16",
         "CL",
         "CL-09",
         "172"
        ],
        [
         "17",
         "CL",
         "CL-10",
         "322"
        ],
        [
         "18",
         "ER",
         "ER-01",
         "1752"
        ],
        [
         "19",
         "LQ",
         "LQ-01",
         "1376"
        ],
        [
         "20",
         "P",
         "P-1",
         "1260"
        ]
       ],
       "shape": {
        "columns": 3,
        "rows": 21
       }
      },
      "text/html": [
       "<div>\n",
       "<style scoped>\n",
       "    .dataframe tbody tr th:only-of-type {\n",
       "        vertical-align: middle;\n",
       "    }\n",
       "\n",
       "    .dataframe tbody tr th {\n",
       "        vertical-align: top;\n",
       "    }\n",
       "\n",
       "    .dataframe thead th {\n",
       "        text-align: right;\n",
       "    }\n",
       "</style>\n",
       "<table border=\"1\" class=\"dataframe\">\n",
       "  <thead>\n",
       "    <tr style=\"text-align: right;\">\n",
       "      <th></th>\n",
       "      <th>site_id</th>\n",
       "      <th>plot_id</th>\n",
       "      <th>taxonomy_id</th>\n",
       "    </tr>\n",
       "  </thead>\n",
       "  <tbody>\n",
       "    <tr>\n",
       "      <th>0</th>\n",
       "      <td>AA</td>\n",
       "      <td>AA01</td>\n",
       "      <td>605</td>\n",
       "    </tr>\n",
       "    <tr>\n",
       "      <th>1</th>\n",
       "      <td>AA</td>\n",
       "      <td>AA04</td>\n",
       "      <td>300</td>\n",
       "    </tr>\n",
       "    <tr>\n",
       "      <th>2</th>\n",
       "      <td>AA</td>\n",
       "      <td>AA05</td>\n",
       "      <td>75</td>\n",
       "    </tr>\n",
       "    <tr>\n",
       "      <th>3</th>\n",
       "      <td>AA</td>\n",
       "      <td>AA06</td>\n",
       "      <td>66</td>\n",
       "    </tr>\n",
       "    <tr>\n",
       "      <th>4</th>\n",
       "      <td>BB</td>\n",
       "      <td>BB-01</td>\n",
       "      <td>475</td>\n",
       "    </tr>\n",
       "    <tr>\n",
       "      <th>5</th>\n",
       "      <td>BB</td>\n",
       "      <td>BB-02</td>\n",
       "      <td>1499</td>\n",
       "    </tr>\n",
       "    <tr>\n",
       "      <th>6</th>\n",
       "      <td>BB</td>\n",
       "      <td>BB-03</td>\n",
       "      <td>1322</td>\n",
       "    </tr>\n",
       "    <tr>\n",
       "      <th>7</th>\n",
       "      <td>BB</td>\n",
       "      <td>BB-04</td>\n",
       "      <td>1838</td>\n",
       "    </tr>\n",
       "    <tr>\n",
       "      <th>8</th>\n",
       "      <td>BB</td>\n",
       "      <td>BB-05</td>\n",
       "      <td>257</td>\n",
       "    </tr>\n",
       "    <tr>\n",
       "      <th>9</th>\n",
       "      <td>BB</td>\n",
       "      <td>BB-06</td>\n",
       "      <td>273</td>\n",
       "    </tr>\n",
       "    <tr>\n",
       "      <th>10</th>\n",
       "      <td>CL</td>\n",
       "      <td>CL-01</td>\n",
       "      <td>498</td>\n",
       "    </tr>\n",
       "    <tr>\n",
       "      <th>11</th>\n",
       "      <td>CL</td>\n",
       "      <td>CL-02</td>\n",
       "      <td>1145</td>\n",
       "    </tr>\n",
       "    <tr>\n",
       "      <th>12</th>\n",
       "      <td>CL</td>\n",
       "      <td>CL-03</td>\n",
       "      <td>57</td>\n",
       "    </tr>\n",
       "    <tr>\n",
       "      <th>13</th>\n",
       "      <td>CL</td>\n",
       "      <td>CL-04</td>\n",
       "      <td>83</td>\n",
       "    </tr>\n",
       "    <tr>\n",
       "      <th>14</th>\n",
       "      <td>CL</td>\n",
       "      <td>CL-06</td>\n",
       "      <td>184</td>\n",
       "    </tr>\n",
       "    <tr>\n",
       "      <th>15</th>\n",
       "      <td>CL</td>\n",
       "      <td>CL-07</td>\n",
       "      <td>165</td>\n",
       "    </tr>\n",
       "    <tr>\n",
       "      <th>16</th>\n",
       "      <td>CL</td>\n",
       "      <td>CL-09</td>\n",
       "      <td>172</td>\n",
       "    </tr>\n",
       "    <tr>\n",
       "      <th>17</th>\n",
       "      <td>CL</td>\n",
       "      <td>CL-10</td>\n",
       "      <td>322</td>\n",
       "    </tr>\n",
       "    <tr>\n",
       "      <th>18</th>\n",
       "      <td>ER</td>\n",
       "      <td>ER-01</td>\n",
       "      <td>1752</td>\n",
       "    </tr>\n",
       "    <tr>\n",
       "      <th>19</th>\n",
       "      <td>LQ</td>\n",
       "      <td>LQ-01</td>\n",
       "      <td>1376</td>\n",
       "    </tr>\n",
       "    <tr>\n",
       "      <th>20</th>\n",
       "      <td>P</td>\n",
       "      <td>P-1</td>\n",
       "      <td>1260</td>\n",
       "    </tr>\n",
       "  </tbody>\n",
       "</table>\n",
       "</div>"
      ],
      "text/plain": [
       "   site_id plot_id  taxonomy_id\n",
       "0       AA    AA01          605\n",
       "1       AA    AA04          300\n",
       "2       AA    AA05           75\n",
       "3       AA    AA06           66\n",
       "4       BB   BB-01          475\n",
       "5       BB   BB-02         1499\n",
       "6       BB   BB-03         1322\n",
       "7       BB   BB-04         1838\n",
       "8       BB   BB-05          257\n",
       "9       BB   BB-06          273\n",
       "10      CL   CL-01          498\n",
       "11      CL   CL-02         1145\n",
       "12      CL   CL-03           57\n",
       "13      CL   CL-04           83\n",
       "14      CL   CL-06          184\n",
       "15      CL   CL-07          165\n",
       "16      CL   CL-09          172\n",
       "17      CL   CL-10          322\n",
       "18      ER   ER-01         1752\n",
       "19      LQ   LQ-01         1376\n",
       "20       P     P-1         1260"
      ]
     },
     "execution_count": 131,
     "metadata": {},
     "output_type": "execute_result"
    }
   ],
   "source": [
    "pd.Series.to_frame(tree_monitorings.groupby(['site_id', 'plot_id'])['taxonomy_id'].agg(\"count\")).reset_index()"
   ]
  },
  {
   "cell_type": "markdown",
   "metadata": {},
   "source": [
    "Species-level"
   ]
  },
  {
   "cell_type": "code",
   "execution_count": null,
   "metadata": {},
   "outputs": [
    {
     "data": {
      "application/vnd.microsoft.datawrangler.viewer.v0+json": {
       "columns": [
        {
         "name": "index",
         "rawType": "int64",
         "type": "integer"
        },
        {
         "name": "site_id",
         "rawType": "object",
         "type": "string"
        },
        {
         "name": "plot_id",
         "rawType": "object",
         "type": "string"
        },
        {
         "name": "taxonomy_id",
         "rawType": "int64",
         "type": "integer"
        },
        {
         "name": "tree_height",
         "rawType": "int64",
         "type": "integer"
        }
       ],
       "conversionMethod": "pd.DataFrame",
       "ref": "74c8b717-d6a4-4945-a78a-6a477b0fcd71",
       "rows": [
        [
         "0",
         "AA",
         "AA01",
         "0",
         "4"
        ],
        [
         "1",
         "AA",
         "AA01",
         "3",
         "126"
        ],
        [
         "2",
         "AA",
         "AA01",
         "4",
         "122"
        ],
        [
         "3",
         "AA",
         "AA01",
         "5",
         "177"
        ],
        [
         "4",
         "AA",
         "AA01",
         "6",
         "72"
        ],
        [
         "5",
         "AA",
         "AA01",
         "8",
         "5"
        ],
        [
         "6",
         "AA",
         "AA01",
         "10",
         "44"
        ],
        [
         "7",
         "AA",
         "AA01",
         "11",
         "1"
        ],
        [
         "8",
         "AA",
         "AA01",
         "12",
         "33"
        ],
        [
         "9",
         "AA",
         "AA01",
         "13",
         "21"
        ],
        [
         "10",
         "AA",
         "AA04",
         "4",
         "26"
        ],
        [
         "11",
         "AA",
         "AA04",
         "7",
         "262"
        ],
        [
         "12",
         "AA",
         "AA04",
         "10",
         "12"
        ],
        [
         "13",
         "AA",
         "AA05",
         "4",
         "1"
        ],
        [
         "14",
         "AA",
         "AA05",
         "7",
         "69"
        ],
        [
         "15",
         "AA",
         "AA05",
         "9",
         "2"
        ],
        [
         "16",
         "AA",
         "AA05",
         "10",
         "3"
        ],
        [
         "17",
         "AA",
         "AA06",
         "4",
         "7"
        ],
        [
         "18",
         "AA",
         "AA06",
         "7",
         "52"
        ],
        [
         "19",
         "AA",
         "AA06",
         "9",
         "2"
        ],
        [
         "20",
         "AA",
         "AA06",
         "14",
         "5"
        ],
        [
         "21",
         "BB",
         "BB-01",
         "0",
         "1"
        ],
        [
         "22",
         "BB",
         "BB-01",
         "64",
         "390"
        ],
        [
         "23",
         "BB",
         "BB-02",
         "0",
         "132"
        ],
        [
         "24",
         "BB",
         "BB-02",
         "64",
         "1050"
        ],
        [
         "25",
         "BB",
         "BB-02",
         "68",
         "52"
        ],
        [
         "26",
         "BB",
         "BB-03",
         "0",
         "127"
        ],
        [
         "27",
         "BB",
         "BB-03",
         "64",
         "650"
        ],
        [
         "28",
         "BB",
         "BB-03",
         "85",
         "245"
        ],
        [
         "29",
         "BB",
         "BB-04",
         "0",
         "1"
        ],
        [
         "30",
         "BB",
         "BB-04",
         "64",
         "1188"
        ],
        [
         "31",
         "BB",
         "BB-05",
         "0",
         "0"
        ],
        [
         "32",
         "BB",
         "BB-05",
         "70",
         "160"
        ],
        [
         "33",
         "BB",
         "BB-05",
         "78",
         "67"
        ],
        [
         "34",
         "BB",
         "BB-05",
         "85",
         "1"
        ],
        [
         "35",
         "BB",
         "BB-06",
         "0",
         "0"
        ],
        [
         "36",
         "BB",
         "BB-06",
         "9",
         "145"
        ],
        [
         "37",
         "BB",
         "BB-06",
         "63",
         "28"
        ],
        [
         "38",
         "BB",
         "BB-06",
         "64",
         "1"
        ],
        [
         "39",
         "BB",
         "BB-06",
         "68",
         "30"
        ],
        [
         "40",
         "CL",
         "CL-01",
         "64",
         "392"
        ],
        [
         "41",
         "CL",
         "CL-01",
         "70",
         "0"
        ],
        [
         "42",
         "CL",
         "CL-01",
         "85",
         "1"
        ],
        [
         "43",
         "CL",
         "CL-02",
         "0",
         "94"
        ],
        [
         "44",
         "CL",
         "CL-02",
         "9",
         "2"
        ],
        [
         "45",
         "CL",
         "CL-02",
         "64",
         "469"
        ],
        [
         "46",
         "CL",
         "CL-02",
         "78",
         "1"
        ],
        [
         "47",
         "CL",
         "CL-02",
         "85",
         "2"
        ],
        [
         "48",
         "CL",
         "CL-03",
         "9",
         "2"
        ],
        [
         "49",
         "CL",
         "CL-03",
         "64",
         "0"
        ]
       ],
       "shape": {
        "columns": 4,
        "rows": 110
       }
      },
      "text/html": [
       "<div>\n",
       "<style scoped>\n",
       "    .dataframe tbody tr th:only-of-type {\n",
       "        vertical-align: middle;\n",
       "    }\n",
       "\n",
       "    .dataframe tbody tr th {\n",
       "        vertical-align: top;\n",
       "    }\n",
       "\n",
       "    .dataframe thead th {\n",
       "        text-align: right;\n",
       "    }\n",
       "</style>\n",
       "<table border=\"1\" class=\"dataframe\">\n",
       "  <thead>\n",
       "    <tr style=\"text-align: right;\">\n",
       "      <th></th>\n",
       "      <th>site_id</th>\n",
       "      <th>plot_id</th>\n",
       "      <th>taxonomy_id</th>\n",
       "      <th>tree_height</th>\n",
       "    </tr>\n",
       "  </thead>\n",
       "  <tbody>\n",
       "    <tr>\n",
       "      <th>0</th>\n",
       "      <td>AA</td>\n",
       "      <td>AA01</td>\n",
       "      <td>0</td>\n",
       "      <td>4</td>\n",
       "    </tr>\n",
       "    <tr>\n",
       "      <th>1</th>\n",
       "      <td>AA</td>\n",
       "      <td>AA01</td>\n",
       "      <td>3</td>\n",
       "      <td>126</td>\n",
       "    </tr>\n",
       "    <tr>\n",
       "      <th>2</th>\n",
       "      <td>AA</td>\n",
       "      <td>AA01</td>\n",
       "      <td>4</td>\n",
       "      <td>122</td>\n",
       "    </tr>\n",
       "    <tr>\n",
       "      <th>3</th>\n",
       "      <td>AA</td>\n",
       "      <td>AA01</td>\n",
       "      <td>5</td>\n",
       "      <td>177</td>\n",
       "    </tr>\n",
       "    <tr>\n",
       "      <th>4</th>\n",
       "      <td>AA</td>\n",
       "      <td>AA01</td>\n",
       "      <td>6</td>\n",
       "      <td>72</td>\n",
       "    </tr>\n",
       "    <tr>\n",
       "      <th>...</th>\n",
       "      <td>...</td>\n",
       "      <td>...</td>\n",
       "      <td>...</td>\n",
       "      <td>...</td>\n",
       "    </tr>\n",
       "    <tr>\n",
       "      <th>105</th>\n",
       "      <td>P</td>\n",
       "      <td>P-1</td>\n",
       "      <td>5</td>\n",
       "      <td>0</td>\n",
       "    </tr>\n",
       "    <tr>\n",
       "      <th>106</th>\n",
       "      <td>P</td>\n",
       "      <td>P-1</td>\n",
       "      <td>17</td>\n",
       "      <td>0</td>\n",
       "    </tr>\n",
       "    <tr>\n",
       "      <th>107</th>\n",
       "      <td>P</td>\n",
       "      <td>P-1</td>\n",
       "      <td>18</td>\n",
       "      <td>0</td>\n",
       "    </tr>\n",
       "    <tr>\n",
       "      <th>108</th>\n",
       "      <td>P</td>\n",
       "      <td>P-1</td>\n",
       "      <td>20</td>\n",
       "      <td>0</td>\n",
       "    </tr>\n",
       "    <tr>\n",
       "      <th>109</th>\n",
       "      <td>P</td>\n",
       "      <td>P-1</td>\n",
       "      <td>22</td>\n",
       "      <td>0</td>\n",
       "    </tr>\n",
       "  </tbody>\n",
       "</table>\n",
       "<p>110 rows × 4 columns</p>\n",
       "</div>"
      ],
      "text/plain": [
       "    site_id plot_id  taxonomy_id  tree_height\n",
       "0        AA    AA01            0            4\n",
       "1        AA    AA01            3          126\n",
       "2        AA    AA01            4          122\n",
       "3        AA    AA01            5          177\n",
       "4        AA    AA01            6           72\n",
       "..      ...     ...          ...          ...\n",
       "105       P     P-1            5            0\n",
       "106       P     P-1           17            0\n",
       "107       P     P-1           18            0\n",
       "108       P     P-1           20            0\n",
       "109       P     P-1           22            0\n",
       "\n",
       "[110 rows x 4 columns]"
      ]
     },
     "metadata": {},
     "output_type": "display_data"
    }
   ],
   "source": [
    "pd.Series.to_frame(tree_monitorings.groupby(['site_id', 'plot_id','taxonomy_id'])['tree_height'].agg(\"count\")).reset_index()"
   ]
  },
  {
   "cell_type": "markdown",
   "metadata": {},
   "source": [
    "### Average growth"
   ]
  },
  {
   "cell_type": "code",
   "execution_count": 123,
   "metadata": {},
   "outputs": [],
   "source": [
    "tree_monitorings['submission_year'] = tree_monitorings['submission_time'].dt.strftime(\"%Y\")"
   ]
  },
  {
   "cell_type": "code",
   "execution_count": 139,
   "metadata": {},
   "outputs": [],
   "source": [
    "tree_monitorings['submission_month'] = tree_monitorings['submission_time'].dt.strftime(\"%Y-%m\")"
   ]
  },
  {
   "cell_type": "code",
   "execution_count": 239,
   "metadata": {},
   "outputs": [
    {
     "data": {
      "application/vnd.microsoft.datawrangler.viewer.v0+json": {
       "columns": [
        {
         "name": "index",
         "rawType": "int64",
         "type": "integer"
        },
        {
         "name": "site_id",
         "rawType": "object",
         "type": "string"
        },
        {
         "name": "plot_id",
         "rawType": "object",
         "type": "string"
        },
        {
         "name": "taxonomy_id",
         "rawType": "int64",
         "type": "integer"
        },
        {
         "name": "calc",
         "rawType": "float64",
         "type": "float"
        }
       ],
       "conversionMethod": "pd.DataFrame",
       "ref": "81372b9d-3a35-49b1-9052-2a9029a7caef",
       "rows": [
        [
         "0",
         "AA",
         "AA01",
         "0",
         "0.0"
        ],
        [
         "1",
         "AA",
         "AA01",
         "3",
         "0.0"
        ],
        [
         "2",
         "AA",
         "AA01",
         "4",
         "0.0"
        ],
        [
         "3",
         "AA",
         "AA01",
         "5",
         "0.0"
        ],
        [
         "4",
         "AA",
         "AA01",
         "6",
         "0.0"
        ],
        [
         "5",
         "AA",
         "AA01",
         "8",
         "0.0"
        ],
        [
         "6",
         "AA",
         "AA01",
         "10",
         "0.0"
        ],
        [
         "7",
         "AA",
         "AA01",
         "11",
         "0.0"
        ],
        [
         "8",
         "AA",
         "AA01",
         "12",
         "0.0"
        ],
        [
         "9",
         "AA",
         "AA01",
         "13",
         "0.0"
        ],
        [
         "10",
         "AA",
         "AA04",
         "4",
         "0.0"
        ],
        [
         "11",
         "AA",
         "AA04",
         "7",
         "0.0"
        ],
        [
         "12",
         "AA",
         "AA04",
         "10",
         "0.0"
        ],
        [
         "13",
         "AA",
         "AA05",
         "4",
         "0.0"
        ],
        [
         "14",
         "AA",
         "AA05",
         "7",
         "0.0"
        ],
        [
         "15",
         "AA",
         "AA05",
         "9",
         "0.0"
        ],
        [
         "16",
         "AA",
         "AA05",
         "10",
         "0.0"
        ],
        [
         "17",
         "AA",
         "AA06",
         "4",
         "0.0"
        ],
        [
         "18",
         "AA",
         "AA06",
         "7",
         "0.0"
        ],
        [
         "19",
         "AA",
         "AA06",
         "9",
         "0.0"
        ],
        [
         "20",
         "AA",
         "AA06",
         "14",
         "0.0"
        ],
        [
         "21",
         "BB",
         "BB-01",
         "0",
         "0.0"
        ],
        [
         "22",
         "BB",
         "BB-01",
         "64",
         "0.33"
        ],
        [
         "23",
         "BB",
         "BB-02",
         "0",
         "0.0"
        ],
        [
         "24",
         "BB",
         "BB-02",
         "64",
         "0.351"
        ],
        [
         "25",
         "BB",
         "BB-02",
         "68",
         "0.233"
        ],
        [
         "26",
         "BB",
         "BB-03",
         "0",
         "0.0"
        ],
        [
         "27",
         "BB",
         "BB-03",
         "64",
         "0.285"
        ],
        [
         "28",
         "BB",
         "BB-03",
         "85",
         "0.251"
        ],
        [
         "29",
         "BB",
         "BB-04",
         "0",
         "0.0"
        ],
        [
         "30",
         "BB",
         "BB-04",
         "64",
         "0.163"
        ],
        [
         "31",
         "BB",
         "BB-05",
         "0",
         null
        ],
        [
         "32",
         "BB",
         "BB-05",
         "70",
         "0.295"
        ],
        [
         "33",
         "BB",
         "BB-05",
         "78",
         "0.0"
        ],
        [
         "34",
         "BB",
         "BB-05",
         "85",
         "0.0"
        ],
        [
         "35",
         "BB",
         "BB-06",
         "0",
         null
        ],
        [
         "36",
         "BB",
         "BB-06",
         "9",
         "0.365"
        ],
        [
         "37",
         "BB",
         "BB-06",
         "63",
         "0.23"
        ],
        [
         "38",
         "BB",
         "BB-06",
         "64",
         "0.0"
        ],
        [
         "39",
         "BB",
         "BB-06",
         "68",
         "0.259"
        ],
        [
         "40",
         "CL",
         "CL-01",
         "64",
         "0.586"
        ],
        [
         "41",
         "CL",
         "CL-01",
         "70",
         null
        ],
        [
         "42",
         "CL",
         "CL-01",
         "85",
         "0.0"
        ],
        [
         "43",
         "CL",
         "CL-02",
         "0",
         "0.0"
        ],
        [
         "44",
         "CL",
         "CL-02",
         "9",
         "0.0"
        ],
        [
         "45",
         "CL",
         "CL-02",
         "64",
         "0.439"
        ],
        [
         "46",
         "CL",
         "CL-02",
         "78",
         "0.0"
        ],
        [
         "47",
         "CL",
         "CL-02",
         "85",
         "0.0"
        ],
        [
         "48",
         "CL",
         "CL-03",
         "9",
         "0.0"
        ],
        [
         "49",
         "CL",
         "CL-03",
         "64",
         null
        ]
       ],
       "shape": {
        "columns": 4,
        "rows": 110
       }
      },
      "text/html": [
       "<div>\n",
       "<style scoped>\n",
       "    .dataframe tbody tr th:only-of-type {\n",
       "        vertical-align: middle;\n",
       "    }\n",
       "\n",
       "    .dataframe tbody tr th {\n",
       "        vertical-align: top;\n",
       "    }\n",
       "\n",
       "    .dataframe thead th {\n",
       "        text-align: right;\n",
       "    }\n",
       "</style>\n",
       "<table border=\"1\" class=\"dataframe\">\n",
       "  <thead>\n",
       "    <tr style=\"text-align: right;\">\n",
       "      <th></th>\n",
       "      <th>site_id</th>\n",
       "      <th>plot_id</th>\n",
       "      <th>taxonomy_id</th>\n",
       "      <th>calc</th>\n",
       "    </tr>\n",
       "  </thead>\n",
       "  <tbody>\n",
       "    <tr>\n",
       "      <th>0</th>\n",
       "      <td>AA</td>\n",
       "      <td>AA01</td>\n",
       "      <td>0</td>\n",
       "      <td>0.0</td>\n",
       "    </tr>\n",
       "    <tr>\n",
       "      <th>1</th>\n",
       "      <td>AA</td>\n",
       "      <td>AA01</td>\n",
       "      <td>3</td>\n",
       "      <td>0.0</td>\n",
       "    </tr>\n",
       "    <tr>\n",
       "      <th>2</th>\n",
       "      <td>AA</td>\n",
       "      <td>AA01</td>\n",
       "      <td>4</td>\n",
       "      <td>0.0</td>\n",
       "    </tr>\n",
       "    <tr>\n",
       "      <th>3</th>\n",
       "      <td>AA</td>\n",
       "      <td>AA01</td>\n",
       "      <td>5</td>\n",
       "      <td>0.0</td>\n",
       "    </tr>\n",
       "    <tr>\n",
       "      <th>4</th>\n",
       "      <td>AA</td>\n",
       "      <td>AA01</td>\n",
       "      <td>6</td>\n",
       "      <td>0.0</td>\n",
       "    </tr>\n",
       "    <tr>\n",
       "      <th>...</th>\n",
       "      <td>...</td>\n",
       "      <td>...</td>\n",
       "      <td>...</td>\n",
       "      <td>...</td>\n",
       "    </tr>\n",
       "    <tr>\n",
       "      <th>105</th>\n",
       "      <td>P</td>\n",
       "      <td>P-1</td>\n",
       "      <td>5</td>\n",
       "      <td>NaN</td>\n",
       "    </tr>\n",
       "    <tr>\n",
       "      <th>106</th>\n",
       "      <td>P</td>\n",
       "      <td>P-1</td>\n",
       "      <td>17</td>\n",
       "      <td>NaN</td>\n",
       "    </tr>\n",
       "    <tr>\n",
       "      <th>107</th>\n",
       "      <td>P</td>\n",
       "      <td>P-1</td>\n",
       "      <td>18</td>\n",
       "      <td>NaN</td>\n",
       "    </tr>\n",
       "    <tr>\n",
       "      <th>108</th>\n",
       "      <td>P</td>\n",
       "      <td>P-1</td>\n",
       "      <td>20</td>\n",
       "      <td>NaN</td>\n",
       "    </tr>\n",
       "    <tr>\n",
       "      <th>109</th>\n",
       "      <td>P</td>\n",
       "      <td>P-1</td>\n",
       "      <td>22</td>\n",
       "      <td>NaN</td>\n",
       "    </tr>\n",
       "  </tbody>\n",
       "</table>\n",
       "<p>110 rows × 4 columns</p>\n",
       "</div>"
      ],
      "text/plain": [
       "    site_id plot_id  taxonomy_id  calc\n",
       "0        AA    AA01            0   0.0\n",
       "1        AA    AA01            3   0.0\n",
       "2        AA    AA01            4   0.0\n",
       "3        AA    AA01            5   0.0\n",
       "4        AA    AA01            6   0.0\n",
       "..      ...     ...          ...   ...\n",
       "105       P     P-1            5   NaN\n",
       "106       P     P-1           17   NaN\n",
       "107       P     P-1           18   NaN\n",
       "108       P     P-1           20   NaN\n",
       "109       P     P-1           22   NaN\n",
       "\n",
       "[110 rows x 4 columns]"
      ]
     },
     "execution_count": 239,
     "metadata": {},
     "output_type": "execute_result"
    }
   ],
   "source": [
    "count_growth_height = (tree_monitorings.groupby(['site_id', 'plot_id','taxonomy_id','tree_id'])['tree_height'].agg([\"first\",'last', 'count'])).reset_index()\n",
    "count_growth_height['calc'] = pow(count_growth_height['last'] / count_growth_height['first'], 1 / count_growth_height['count']) - 1\n",
    "count_growth_height.loc[count_growth_height['calc'] < 0, 'calc'] = count_growth_height.apply(\n",
    "    lambda row: row['last'] if row['count'] <= 2 else row['last'] / (row['count'] - 1),\n",
    "    axis=1\n",
    ")\n",
    "count_growth_height2 = count_growth_height.groupby(['site_id', 'plot_id','taxonomy_id'])['calc'].agg(\"mean\").reset_index()\n",
    "count_growth_height2.round(3)"
   ]
  },
  {
   "cell_type": "code",
   "execution_count": 240,
   "metadata": {},
   "outputs": [
    {
     "data": {
      "application/vnd.microsoft.datawrangler.viewer.v0+json": {
       "columns": [
        {
         "name": "index",
         "rawType": "int64",
         "type": "integer"
        },
        {
         "name": "site_id",
         "rawType": "object",
         "type": "string"
        },
        {
         "name": "plot_id",
         "rawType": "object",
         "type": "string"
        },
        {
         "name": "taxonomy_id",
         "rawType": "int64",
         "type": "integer"
        },
        {
         "name": "calc",
         "rawType": "float64",
         "type": "float"
        }
       ],
       "conversionMethod": "pd.DataFrame",
       "ref": "113d1583-53c9-4844-86be-d71e9ebe4074",
       "rows": [
        [
         "0",
         "AA",
         "AA01",
         "0",
         null
        ],
        [
         "1",
         "AA",
         "AA01",
         "3",
         null
        ],
        [
         "2",
         "AA",
         "AA01",
         "4",
         null
        ],
        [
         "3",
         "AA",
         "AA01",
         "5",
         null
        ],
        [
         "4",
         "AA",
         "AA01",
         "6",
         null
        ],
        [
         "5",
         "AA",
         "AA01",
         "8",
         null
        ],
        [
         "6",
         "AA",
         "AA01",
         "10",
         null
        ],
        [
         "7",
         "AA",
         "AA01",
         "11",
         null
        ],
        [
         "8",
         "AA",
         "AA01",
         "12",
         null
        ],
        [
         "9",
         "AA",
         "AA01",
         "13",
         null
        ],
        [
         "10",
         "AA",
         "AA04",
         "4",
         null
        ],
        [
         "11",
         "AA",
         "AA04",
         "7",
         null
        ],
        [
         "12",
         "AA",
         "AA04",
         "10",
         null
        ],
        [
         "13",
         "AA",
         "AA05",
         "4",
         null
        ],
        [
         "14",
         "AA",
         "AA05",
         "7",
         null
        ],
        [
         "15",
         "AA",
         "AA05",
         "9",
         null
        ],
        [
         "16",
         "AA",
         "AA05",
         "10",
         null
        ],
        [
         "17",
         "AA",
         "AA06",
         "4",
         null
        ],
        [
         "18",
         "AA",
         "AA06",
         "7",
         null
        ],
        [
         "19",
         "AA",
         "AA06",
         "9",
         null
        ],
        [
         "20",
         "AA",
         "AA06",
         "14",
         null
        ],
        [
         "21",
         "BB",
         "BB-01",
         "0",
         "0.0"
        ],
        [
         "22",
         "BB",
         "BB-01",
         "64",
         "0.165"
        ],
        [
         "23",
         "BB",
         "BB-02",
         "0",
         "0.0"
        ],
        [
         "24",
         "BB",
         "BB-02",
         "64",
         "0.112"
        ],
        [
         "25",
         "BB",
         "BB-02",
         "68",
         "0.0"
        ],
        [
         "26",
         "BB",
         "BB-03",
         "0",
         "0.0"
        ],
        [
         "27",
         "BB",
         "BB-03",
         "64",
         "0.017"
        ],
        [
         "28",
         "BB",
         "BB-03",
         "85",
         "0.0"
        ],
        [
         "29",
         "BB",
         "BB-04",
         "0",
         null
        ],
        [
         "30",
         "BB",
         "BB-04",
         "64",
         "0.081"
        ],
        [
         "31",
         "BB",
         "BB-05",
         "0",
         null
        ],
        [
         "32",
         "BB",
         "BB-05",
         "70",
         null
        ],
        [
         "33",
         "BB",
         "BB-05",
         "78",
         "0.0"
        ],
        [
         "34",
         "BB",
         "BB-05",
         "85",
         null
        ],
        [
         "35",
         "BB",
         "BB-06",
         "0",
         null
        ],
        [
         "36",
         "BB",
         "BB-06",
         "9",
         "0.43"
        ],
        [
         "37",
         "BB",
         "BB-06",
         "63",
         null
        ],
        [
         "38",
         "BB",
         "BB-06",
         "64",
         null
        ],
        [
         "39",
         "BB",
         "BB-06",
         "68",
         null
        ],
        [
         "40",
         "CL",
         "CL-01",
         "64",
         "0.848"
        ],
        [
         "41",
         "CL",
         "CL-01",
         "70",
         null
        ],
        [
         "42",
         "CL",
         "CL-01",
         "85",
         null
        ],
        [
         "43",
         "CL",
         "CL-02",
         "0",
         "0.0"
        ],
        [
         "44",
         "CL",
         "CL-02",
         "9",
         "0.0"
        ],
        [
         "45",
         "CL",
         "CL-02",
         "64",
         "0.371"
        ],
        [
         "46",
         "CL",
         "CL-02",
         "78",
         null
        ],
        [
         "47",
         "CL",
         "CL-02",
         "85",
         "0.0"
        ],
        [
         "48",
         "CL",
         "CL-03",
         "9",
         null
        ],
        [
         "49",
         "CL",
         "CL-03",
         "64",
         null
        ]
       ],
       "shape": {
        "columns": 4,
        "rows": 110
       }
      },
      "text/html": [
       "<div>\n",
       "<style scoped>\n",
       "    .dataframe tbody tr th:only-of-type {\n",
       "        vertical-align: middle;\n",
       "    }\n",
       "\n",
       "    .dataframe tbody tr th {\n",
       "        vertical-align: top;\n",
       "    }\n",
       "\n",
       "    .dataframe thead th {\n",
       "        text-align: right;\n",
       "    }\n",
       "</style>\n",
       "<table border=\"1\" class=\"dataframe\">\n",
       "  <thead>\n",
       "    <tr style=\"text-align: right;\">\n",
       "      <th></th>\n",
       "      <th>site_id</th>\n",
       "      <th>plot_id</th>\n",
       "      <th>taxonomy_id</th>\n",
       "      <th>calc</th>\n",
       "    </tr>\n",
       "  </thead>\n",
       "  <tbody>\n",
       "    <tr>\n",
       "      <th>0</th>\n",
       "      <td>AA</td>\n",
       "      <td>AA01</td>\n",
       "      <td>0</td>\n",
       "      <td>NaN</td>\n",
       "    </tr>\n",
       "    <tr>\n",
       "      <th>1</th>\n",
       "      <td>AA</td>\n",
       "      <td>AA01</td>\n",
       "      <td>3</td>\n",
       "      <td>NaN</td>\n",
       "    </tr>\n",
       "    <tr>\n",
       "      <th>2</th>\n",
       "      <td>AA</td>\n",
       "      <td>AA01</td>\n",
       "      <td>4</td>\n",
       "      <td>NaN</td>\n",
       "    </tr>\n",
       "    <tr>\n",
       "      <th>3</th>\n",
       "      <td>AA</td>\n",
       "      <td>AA01</td>\n",
       "      <td>5</td>\n",
       "      <td>NaN</td>\n",
       "    </tr>\n",
       "    <tr>\n",
       "      <th>4</th>\n",
       "      <td>AA</td>\n",
       "      <td>AA01</td>\n",
       "      <td>6</td>\n",
       "      <td>NaN</td>\n",
       "    </tr>\n",
       "    <tr>\n",
       "      <th>...</th>\n",
       "      <td>...</td>\n",
       "      <td>...</td>\n",
       "      <td>...</td>\n",
       "      <td>...</td>\n",
       "    </tr>\n",
       "    <tr>\n",
       "      <th>105</th>\n",
       "      <td>P</td>\n",
       "      <td>P-1</td>\n",
       "      <td>5</td>\n",
       "      <td>NaN</td>\n",
       "    </tr>\n",
       "    <tr>\n",
       "      <th>106</th>\n",
       "      <td>P</td>\n",
       "      <td>P-1</td>\n",
       "      <td>17</td>\n",
       "      <td>NaN</td>\n",
       "    </tr>\n",
       "    <tr>\n",
       "      <th>107</th>\n",
       "      <td>P</td>\n",
       "      <td>P-1</td>\n",
       "      <td>18</td>\n",
       "      <td>NaN</td>\n",
       "    </tr>\n",
       "    <tr>\n",
       "      <th>108</th>\n",
       "      <td>P</td>\n",
       "      <td>P-1</td>\n",
       "      <td>20</td>\n",
       "      <td>NaN</td>\n",
       "    </tr>\n",
       "    <tr>\n",
       "      <th>109</th>\n",
       "      <td>P</td>\n",
       "      <td>P-1</td>\n",
       "      <td>22</td>\n",
       "      <td>NaN</td>\n",
       "    </tr>\n",
       "  </tbody>\n",
       "</table>\n",
       "<p>110 rows × 4 columns</p>\n",
       "</div>"
      ],
      "text/plain": [
       "    site_id plot_id  taxonomy_id  calc\n",
       "0        AA    AA01            0   NaN\n",
       "1        AA    AA01            3   NaN\n",
       "2        AA    AA01            4   NaN\n",
       "3        AA    AA01            5   NaN\n",
       "4        AA    AA01            6   NaN\n",
       "..      ...     ...          ...   ...\n",
       "105       P     P-1            5   NaN\n",
       "106       P     P-1           17   NaN\n",
       "107       P     P-1           18   NaN\n",
       "108       P     P-1           20   NaN\n",
       "109       P     P-1           22   NaN\n",
       "\n",
       "[110 rows x 4 columns]"
      ]
     },
     "execution_count": 240,
     "metadata": {},
     "output_type": "execute_result"
    }
   ],
   "source": [
    "count_growth_dbh = (tree_monitorings.groupby(['site_id', 'plot_id','taxonomy_id','tree_id'])['tree_dbh'].agg([\"first\",'last', 'count'])).reset_index()\n",
    "count_growth_dbh['calc'] = pow(count_growth_dbh['last'] / count_growth_dbh['first'], 1 / count_growth_dbh['count']) - 1\n",
    "count_growth_dbh.loc[count_growth_dbh['calc'] < 0, 'calc'] = count_growth_dbh.apply(\n",
    "    lambda row: row['last'] if row['count'] <= 2 else row['last'] / (row['count'] - 1),\n",
    "    axis=1\n",
    ")\n",
    "count_growth_dbh2 = count_growth_dbh.groupby(['site_id', 'plot_id','taxonomy_id'])['calc'].agg(\"mean\").reset_index()\n",
    "count_growth_dbh2.round(3)"
   ]
  },
  {
   "cell_type": "code",
   "execution_count": 245,
   "metadata": {},
   "outputs": [],
   "source": [
    "tree_biomass_python_with_site = tree_biomasses_python.merge(tree_monitorings[['id','plot_id','site_id','submission_year']], left_on = ['monitoring_id'], right_on = ['id'], how = 'left')"
   ]
  },
  {
   "cell_type": "code",
   "execution_count": 251,
   "metadata": {},
   "outputs": [
    {
     "data": {
      "application/vnd.microsoft.datawrangler.viewer.v0+json": {
       "columns": [
        {
         "name": "index",
         "rawType": "int64",
         "type": "integer"
        },
        {
         "name": "site_id",
         "rawType": "object",
         "type": "string"
        },
        {
         "name": "plot_id",
         "rawType": "object",
         "type": "string"
        },
        {
         "name": "mean",
         "rawType": "float64",
         "type": "float"
        }
       ],
       "conversionMethod": "pd.DataFrame",
       "ref": "717f60d9-7710-47c5-9198-de41220ad53e",
       "rows": [
        [
         "0",
         "AA",
         "AA01",
         "0.11678015642308578"
        ],
        [
         "1",
         "AA",
         "AA04",
         "0.00023352027283978793"
        ],
        [
         "2",
         "AA",
         "AA05",
         "0.02503065602364187"
        ],
        [
         "3",
         "AA",
         "AA06",
         "0.02963663172620234"
        ],
        [
         "4",
         "BB",
         "BB-01",
         "0.13674717826521876"
        ],
        [
         "5",
         "BB",
         "BB-02",
         "0.10730028428460459"
        ],
        [
         "6",
         "BB",
         "BB-03",
         "0.07069045367654699"
        ],
        [
         "7",
         "BB",
         "BB-04",
         "0.04693417654032718"
        ],
        [
         "8",
         "BB",
         "BB-05",
         "0.07391517843889923"
        ],
        [
         "9",
         "BB",
         "BB-06",
         "0.09858809273681991"
        ],
        [
         "10",
         "CL",
         "CL-01",
         "1.0334723297783859"
        ],
        [
         "11",
         "CL",
         "CL-02",
         "0.9715997130501557"
        ],
        [
         "12",
         "CL",
         "CL-03",
         "0.10894619166892411"
        ],
        [
         "13",
         "CL",
         "CL-04",
         "0.6831859748667358"
        ],
        [
         "14",
         "CL",
         "CL-06",
         "0.5018308508081275"
        ],
        [
         "15",
         "CL",
         "CL-07",
         "0.4776195289195557"
        ],
        [
         "16",
         "CL",
         "CL-09",
         "0.511079154820902"
        ],
        [
         "17",
         "CL",
         "CL-10",
         "1.6396646132536095"
        ],
        [
         "18",
         "ER",
         "ER-01",
         "0.982868744739838"
        ],
        [
         "19",
         "LQ",
         "LQ-01",
         "0.2762810662247089"
        ]
       ],
       "shape": {
        "columns": 3,
        "rows": 20
       }
      },
      "text/html": [
       "<div>\n",
       "<style scoped>\n",
       "    .dataframe tbody tr th:only-of-type {\n",
       "        vertical-align: middle;\n",
       "    }\n",
       "\n",
       "    .dataframe tbody tr th {\n",
       "        vertical-align: top;\n",
       "    }\n",
       "\n",
       "    .dataframe thead th {\n",
       "        text-align: right;\n",
       "    }\n",
       "</style>\n",
       "<table border=\"1\" class=\"dataframe\">\n",
       "  <thead>\n",
       "    <tr style=\"text-align: right;\">\n",
       "      <th></th>\n",
       "      <th>site_id</th>\n",
       "      <th>plot_id</th>\n",
       "      <th>mean</th>\n",
       "    </tr>\n",
       "  </thead>\n",
       "  <tbody>\n",
       "    <tr>\n",
       "      <th>0</th>\n",
       "      <td>AA</td>\n",
       "      <td>AA01</td>\n",
       "      <td>0.116780</td>\n",
       "    </tr>\n",
       "    <tr>\n",
       "      <th>1</th>\n",
       "      <td>AA</td>\n",
       "      <td>AA04</td>\n",
       "      <td>0.000234</td>\n",
       "    </tr>\n",
       "    <tr>\n",
       "      <th>2</th>\n",
       "      <td>AA</td>\n",
       "      <td>AA05</td>\n",
       "      <td>0.025031</td>\n",
       "    </tr>\n",
       "    <tr>\n",
       "      <th>3</th>\n",
       "      <td>AA</td>\n",
       "      <td>AA06</td>\n",
       "      <td>0.029637</td>\n",
       "    </tr>\n",
       "    <tr>\n",
       "      <th>4</th>\n",
       "      <td>BB</td>\n",
       "      <td>BB-01</td>\n",
       "      <td>0.136747</td>\n",
       "    </tr>\n",
       "    <tr>\n",
       "      <th>5</th>\n",
       "      <td>BB</td>\n",
       "      <td>BB-02</td>\n",
       "      <td>0.107300</td>\n",
       "    </tr>\n",
       "    <tr>\n",
       "      <th>6</th>\n",
       "      <td>BB</td>\n",
       "      <td>BB-03</td>\n",
       "      <td>0.070690</td>\n",
       "    </tr>\n",
       "    <tr>\n",
       "      <th>7</th>\n",
       "      <td>BB</td>\n",
       "      <td>BB-04</td>\n",
       "      <td>0.046934</td>\n",
       "    </tr>\n",
       "    <tr>\n",
       "      <th>8</th>\n",
       "      <td>BB</td>\n",
       "      <td>BB-05</td>\n",
       "      <td>0.073915</td>\n",
       "    </tr>\n",
       "    <tr>\n",
       "      <th>9</th>\n",
       "      <td>BB</td>\n",
       "      <td>BB-06</td>\n",
       "      <td>0.098588</td>\n",
       "    </tr>\n",
       "    <tr>\n",
       "      <th>10</th>\n",
       "      <td>CL</td>\n",
       "      <td>CL-01</td>\n",
       "      <td>1.033472</td>\n",
       "    </tr>\n",
       "    <tr>\n",
       "      <th>11</th>\n",
       "      <td>CL</td>\n",
       "      <td>CL-02</td>\n",
       "      <td>0.971600</td>\n",
       "    </tr>\n",
       "    <tr>\n",
       "      <th>12</th>\n",
       "      <td>CL</td>\n",
       "      <td>CL-03</td>\n",
       "      <td>0.108946</td>\n",
       "    </tr>\n",
       "    <tr>\n",
       "      <th>13</th>\n",
       "      <td>CL</td>\n",
       "      <td>CL-04</td>\n",
       "      <td>0.683186</td>\n",
       "    </tr>\n",
       "    <tr>\n",
       "      <th>14</th>\n",
       "      <td>CL</td>\n",
       "      <td>CL-06</td>\n",
       "      <td>0.501831</td>\n",
       "    </tr>\n",
       "    <tr>\n",
       "      <th>15</th>\n",
       "      <td>CL</td>\n",
       "      <td>CL-07</td>\n",
       "      <td>0.477620</td>\n",
       "    </tr>\n",
       "    <tr>\n",
       "      <th>16</th>\n",
       "      <td>CL</td>\n",
       "      <td>CL-09</td>\n",
       "      <td>0.511079</td>\n",
       "    </tr>\n",
       "    <tr>\n",
       "      <th>17</th>\n",
       "      <td>CL</td>\n",
       "      <td>CL-10</td>\n",
       "      <td>1.639665</td>\n",
       "    </tr>\n",
       "    <tr>\n",
       "      <th>18</th>\n",
       "      <td>ER</td>\n",
       "      <td>ER-01</td>\n",
       "      <td>0.982869</td>\n",
       "    </tr>\n",
       "    <tr>\n",
       "      <th>19</th>\n",
       "      <td>LQ</td>\n",
       "      <td>LQ-01</td>\n",
       "      <td>0.276281</td>\n",
       "    </tr>\n",
       "  </tbody>\n",
       "</table>\n",
       "</div>"
      ],
      "text/plain": [
       "   site_id plot_id      mean\n",
       "0       AA    AA01  0.116780\n",
       "1       AA    AA04  0.000234\n",
       "2       AA    AA05  0.025031\n",
       "3       AA    AA06  0.029637\n",
       "4       BB   BB-01  0.136747\n",
       "5       BB   BB-02  0.107300\n",
       "6       BB   BB-03  0.070690\n",
       "7       BB   BB-04  0.046934\n",
       "8       BB   BB-05  0.073915\n",
       "9       BB   BB-06  0.098588\n",
       "10      CL   CL-01  1.033472\n",
       "11      CL   CL-02  0.971600\n",
       "12      CL   CL-03  0.108946\n",
       "13      CL   CL-04  0.683186\n",
       "14      CL   CL-06  0.501831\n",
       "15      CL   CL-07  0.477620\n",
       "16      CL   CL-09  0.511079\n",
       "17      CL   CL-10  1.639665\n",
       "18      ER   ER-01  0.982869\n",
       "19      LQ   LQ-01  0.276281"
      ]
     },
     "execution_count": 251,
     "metadata": {},
     "output_type": "execute_result"
    }
   ],
   "source": [
    "monitoring_result_mean = (tree_biomass_python_with_site.groupby(['site_id','plot_id'])['carbon'].agg(['mean'])).reset_index()\n",
    "monitoring_result_mean"
   ]
  },
  {
   "cell_type": "code",
   "execution_count": 243,
   "metadata": {},
   "outputs": [
    {
     "data": {
      "application/vnd.microsoft.datawrangler.viewer.v0+json": {
       "columns": [
        {
         "name": "index",
         "rawType": "int64",
         "type": "integer"
        },
        {
         "name": "site_id",
         "rawType": "object",
         "type": "string"
        },
        {
         "name": "plot_id",
         "rawType": "object",
         "type": "string"
        },
        {
         "name": "carbon",
         "rawType": "float64",
         "type": "float"
        }
       ],
       "conversionMethod": "pd.DataFrame",
       "ref": "fcc9a2be-2fb8-449b-8dab-cd8803aa038a",
       "rows": [
        [
         "0",
         "AA",
         "AA01",
         "141.3039892719338"
        ],
        [
         "1",
         "AA",
         "AA04",
         "0.14011216370387275"
        ],
        [
         "2",
         "AA",
         "AA05",
         "3.7545984035462805"
        ],
        [
         "3",
         "AA",
         "AA06",
         "3.912035387858709"
        ],
        [
         "4",
         "BB",
         "BB-01",
         "53.46814670170053"
        ],
        [
         "5",
         "BB",
         "BB-02",
         "132.40855080720206"
        ],
        [
         "6",
         "BB",
         "BB-03",
         "72.24564365743102"
        ],
        [
         "7",
         "BB",
         "BB-04",
         "55.80473590644902"
        ],
        [
         "8",
         "BB",
         "BB-05",
         "16.852660684069026"
        ],
        [
         "9",
         "BB",
         "BB-06",
         "20.11197091831126"
        ],
        [
         "10",
         "CL",
         "CL-01",
         "406.15462560290564"
        ],
        [
         "11",
         "CL",
         "CL-02",
         "551.8686370124884"
        ],
        [
         "12",
         "CL",
         "CL-03",
         "2.6147086000541786"
        ],
        [
         "13",
         "CL",
         "CL-04",
         "29.37699691926964"
        ],
        [
         "14",
         "CL",
         "CL-06",
         "72.26364251637037"
        ],
        [
         "15",
         "CL",
         "CL-07",
         "39.16480137140357"
        ],
        [
         "16",
         "CL",
         "CL-09",
         "76.15079406831441"
        ],
        [
         "17",
         "CL",
         "CL-10",
         "500.09770704235086"
        ],
        [
         "18",
         "ER",
         "ER-01",
         "1453.6628734702203"
        ],
        [
         "19",
         "LQ",
         "LQ-01",
         "284.56949821145014"
        ]
       ],
       "shape": {
        "columns": 3,
        "rows": 20
       }
      },
      "text/html": [
       "<div>\n",
       "<style scoped>\n",
       "    .dataframe tbody tr th:only-of-type {\n",
       "        vertical-align: middle;\n",
       "    }\n",
       "\n",
       "    .dataframe tbody tr th {\n",
       "        vertical-align: top;\n",
       "    }\n",
       "\n",
       "    .dataframe thead th {\n",
       "        text-align: right;\n",
       "    }\n",
       "</style>\n",
       "<table border=\"1\" class=\"dataframe\">\n",
       "  <thead>\n",
       "    <tr style=\"text-align: right;\">\n",
       "      <th></th>\n",
       "      <th>site_id</th>\n",
       "      <th>plot_id</th>\n",
       "      <th>carbon</th>\n",
       "    </tr>\n",
       "  </thead>\n",
       "  <tbody>\n",
       "    <tr>\n",
       "      <th>0</th>\n",
       "      <td>AA</td>\n",
       "      <td>AA01</td>\n",
       "      <td>141.303989</td>\n",
       "    </tr>\n",
       "    <tr>\n",
       "      <th>1</th>\n",
       "      <td>AA</td>\n",
       "      <td>AA04</td>\n",
       "      <td>0.140112</td>\n",
       "    </tr>\n",
       "    <tr>\n",
       "      <th>2</th>\n",
       "      <td>AA</td>\n",
       "      <td>AA05</td>\n",
       "      <td>3.754598</td>\n",
       "    </tr>\n",
       "    <tr>\n",
       "      <th>3</th>\n",
       "      <td>AA</td>\n",
       "      <td>AA06</td>\n",
       "      <td>3.912035</td>\n",
       "    </tr>\n",
       "    <tr>\n",
       "      <th>4</th>\n",
       "      <td>BB</td>\n",
       "      <td>BB-01</td>\n",
       "      <td>53.468147</td>\n",
       "    </tr>\n",
       "    <tr>\n",
       "      <th>5</th>\n",
       "      <td>BB</td>\n",
       "      <td>BB-02</td>\n",
       "      <td>132.408551</td>\n",
       "    </tr>\n",
       "    <tr>\n",
       "      <th>6</th>\n",
       "      <td>BB</td>\n",
       "      <td>BB-03</td>\n",
       "      <td>72.245644</td>\n",
       "    </tr>\n",
       "    <tr>\n",
       "      <th>7</th>\n",
       "      <td>BB</td>\n",
       "      <td>BB-04</td>\n",
       "      <td>55.804736</td>\n",
       "    </tr>\n",
       "    <tr>\n",
       "      <th>8</th>\n",
       "      <td>BB</td>\n",
       "      <td>BB-05</td>\n",
       "      <td>16.852661</td>\n",
       "    </tr>\n",
       "    <tr>\n",
       "      <th>9</th>\n",
       "      <td>BB</td>\n",
       "      <td>BB-06</td>\n",
       "      <td>20.111971</td>\n",
       "    </tr>\n",
       "    <tr>\n",
       "      <th>10</th>\n",
       "      <td>CL</td>\n",
       "      <td>CL-01</td>\n",
       "      <td>406.154626</td>\n",
       "    </tr>\n",
       "    <tr>\n",
       "      <th>11</th>\n",
       "      <td>CL</td>\n",
       "      <td>CL-02</td>\n",
       "      <td>551.868637</td>\n",
       "    </tr>\n",
       "    <tr>\n",
       "      <th>12</th>\n",
       "      <td>CL</td>\n",
       "      <td>CL-03</td>\n",
       "      <td>2.614709</td>\n",
       "    </tr>\n",
       "    <tr>\n",
       "      <th>13</th>\n",
       "      <td>CL</td>\n",
       "      <td>CL-04</td>\n",
       "      <td>29.376997</td>\n",
       "    </tr>\n",
       "    <tr>\n",
       "      <th>14</th>\n",
       "      <td>CL</td>\n",
       "      <td>CL-06</td>\n",
       "      <td>72.263643</td>\n",
       "    </tr>\n",
       "    <tr>\n",
       "      <th>15</th>\n",
       "      <td>CL</td>\n",
       "      <td>CL-07</td>\n",
       "      <td>39.164801</td>\n",
       "    </tr>\n",
       "    <tr>\n",
       "      <th>16</th>\n",
       "      <td>CL</td>\n",
       "      <td>CL-09</td>\n",
       "      <td>76.150794</td>\n",
       "    </tr>\n",
       "    <tr>\n",
       "      <th>17</th>\n",
       "      <td>CL</td>\n",
       "      <td>CL-10</td>\n",
       "      <td>500.097707</td>\n",
       "    </tr>\n",
       "    <tr>\n",
       "      <th>18</th>\n",
       "      <td>ER</td>\n",
       "      <td>ER-01</td>\n",
       "      <td>1453.662873</td>\n",
       "    </tr>\n",
       "    <tr>\n",
       "      <th>19</th>\n",
       "      <td>LQ</td>\n",
       "      <td>LQ-01</td>\n",
       "      <td>284.569498</td>\n",
       "    </tr>\n",
       "  </tbody>\n",
       "</table>\n",
       "</div>"
      ],
      "text/plain": [
       "   site_id plot_id       carbon\n",
       "0       AA    AA01   141.303989\n",
       "1       AA    AA04     0.140112\n",
       "2       AA    AA05     3.754598\n",
       "3       AA    AA06     3.912035\n",
       "4       BB   BB-01    53.468147\n",
       "5       BB   BB-02   132.408551\n",
       "6       BB   BB-03    72.245644\n",
       "7       BB   BB-04    55.804736\n",
       "8       BB   BB-05    16.852661\n",
       "9       BB   BB-06    20.111971\n",
       "10      CL   CL-01   406.154626\n",
       "11      CL   CL-02   551.868637\n",
       "12      CL   CL-03     2.614709\n",
       "13      CL   CL-04    29.376997\n",
       "14      CL   CL-06    72.263643\n",
       "15      CL   CL-07    39.164801\n",
       "16      CL   CL-09    76.150794\n",
       "17      CL   CL-10   500.097707\n",
       "18      ER   ER-01  1453.662873\n",
       "19      LQ   LQ-01   284.569498"
      ]
     },
     "execution_count": 243,
     "metadata": {},
     "output_type": "execute_result"
    }
   ],
   "source": [
    "monitoring_result_sum = pd.Series.to_frame(tree_biomass_python_with_site.groupby(['site_id','plot_id'])['carbon'].agg('sum')).reset_index()\n",
    "monitoring_result_sum"
   ]
  },
  {
   "cell_type": "markdown",
   "metadata": {},
   "source": [
    "# Chart analytics"
   ]
  },
  {
   "cell_type": "code",
   "execution_count": 238,
   "metadata": {},
   "outputs": [
    {
     "data": {
      "application/vnd.microsoft.datawrangler.viewer.v0+json": {
       "columns": [
        {
         "name": "index",
         "rawType": "int64",
         "type": "integer"
        },
        {
         "name": "site_id",
         "rawType": "object",
         "type": "string"
        },
        {
         "name": "submission_year",
         "rawType": "object",
         "type": "string"
        },
        {
         "name": "tree_dbh",
         "rawType": "float64",
         "type": "float"
        }
       ],
       "conversionMethod": "pd.DataFrame",
       "ref": "0d4b4f52-bb0d-49b5-ab7f-dffaec96dedf",
       "rows": [
        [
         "0",
         "AA",
         "2019",
         "0.0"
        ],
        [
         "1",
         "BB",
         "2024",
         "1.2332206572769953"
        ],
        [
         "2",
         "CL",
         "2024",
         "2.75684140969163"
        ],
        [
         "3",
         "ER",
         "2024",
         "3.295292022792023"
        ],
        [
         "4",
         "LQ",
         "2024",
         "2.2914053156146177"
        ],
        [
         "5",
         "P",
         "2021",
         null
        ]
       ],
       "shape": {
        "columns": 3,
        "rows": 6
       }
      },
      "text/html": [
       "<div>\n",
       "<style scoped>\n",
       "    .dataframe tbody tr th:only-of-type {\n",
       "        vertical-align: middle;\n",
       "    }\n",
       "\n",
       "    .dataframe tbody tr th {\n",
       "        vertical-align: top;\n",
       "    }\n",
       "\n",
       "    .dataframe thead th {\n",
       "        text-align: right;\n",
       "    }\n",
       "</style>\n",
       "<table border=\"1\" class=\"dataframe\">\n",
       "  <thead>\n",
       "    <tr style=\"text-align: right;\">\n",
       "      <th></th>\n",
       "      <th>site_id</th>\n",
       "      <th>submission_year</th>\n",
       "      <th>tree_dbh</th>\n",
       "    </tr>\n",
       "  </thead>\n",
       "  <tbody>\n",
       "    <tr>\n",
       "      <th>0</th>\n",
       "      <td>AA</td>\n",
       "      <td>2019</td>\n",
       "      <td>0.000000</td>\n",
       "    </tr>\n",
       "    <tr>\n",
       "      <th>1</th>\n",
       "      <td>BB</td>\n",
       "      <td>2024</td>\n",
       "      <td>1.233221</td>\n",
       "    </tr>\n",
       "    <tr>\n",
       "      <th>2</th>\n",
       "      <td>CL</td>\n",
       "      <td>2024</td>\n",
       "      <td>2.756841</td>\n",
       "    </tr>\n",
       "    <tr>\n",
       "      <th>3</th>\n",
       "      <td>ER</td>\n",
       "      <td>2024</td>\n",
       "      <td>3.295292</td>\n",
       "    </tr>\n",
       "    <tr>\n",
       "      <th>4</th>\n",
       "      <td>LQ</td>\n",
       "      <td>2024</td>\n",
       "      <td>2.291405</td>\n",
       "    </tr>\n",
       "    <tr>\n",
       "      <th>5</th>\n",
       "      <td>P</td>\n",
       "      <td>2021</td>\n",
       "      <td>NaN</td>\n",
       "    </tr>\n",
       "  </tbody>\n",
       "</table>\n",
       "</div>"
      ],
      "text/plain": [
       "  site_id submission_year  tree_dbh\n",
       "0      AA            2019  0.000000\n",
       "1      BB            2024  1.233221\n",
       "2      CL            2024  2.756841\n",
       "3      ER            2024  3.295292\n",
       "4      LQ            2024  2.291405\n",
       "5       P            2021       NaN"
      ]
     },
     "execution_count": 238,
     "metadata": {},
     "output_type": "execute_result"
    }
   ],
   "source": [
    "(tree_monitorings.groupby(['site_id','submission_year'])['tree_dbh'].agg('mean')).reset_index()"
   ]
  },
  {
   "cell_type": "code",
   "execution_count": 252,
   "metadata": {},
   "outputs": [
    {
     "data": {
      "application/vnd.microsoft.datawrangler.viewer.v0+json": {
       "columns": [
        {
         "name": "index",
         "rawType": "int64",
         "type": "integer"
        },
        {
         "name": "site_id",
         "rawType": "object",
         "type": "string"
        },
        {
         "name": "submission_year",
         "rawType": "object",
         "type": "string"
        },
        {
         "name": "tree_height",
         "rawType": "float64",
         "type": "float"
        }
       ],
       "conversionMethod": "pd.DataFrame",
       "ref": "23bd9c5f-6e48-45a8-b1b8-1745877898b6",
       "rows": [
        [
         "0",
         "AA",
         "2019",
         "0.7825143403441682"
        ],
        [
         "1",
         "BB",
         "2024",
         "0.7280487347703842"
        ],
        [
         "2",
         "CL",
         "2024",
         "2.7028629976580794"
        ],
        [
         "3",
         "ER",
         "2024",
         "2.529832995267072"
        ],
        [
         "4",
         "LQ",
         "2024",
         "1.1937019417475727"
        ],
        [
         "5",
         "P",
         "2021",
         null
        ]
       ],
       "shape": {
        "columns": 3,
        "rows": 6
       }
      },
      "text/html": [
       "<div>\n",
       "<style scoped>\n",
       "    .dataframe tbody tr th:only-of-type {\n",
       "        vertical-align: middle;\n",
       "    }\n",
       "\n",
       "    .dataframe tbody tr th {\n",
       "        vertical-align: top;\n",
       "    }\n",
       "\n",
       "    .dataframe thead th {\n",
       "        text-align: right;\n",
       "    }\n",
       "</style>\n",
       "<table border=\"1\" class=\"dataframe\">\n",
       "  <thead>\n",
       "    <tr style=\"text-align: right;\">\n",
       "      <th></th>\n",
       "      <th>site_id</th>\n",
       "      <th>submission_year</th>\n",
       "      <th>tree_height</th>\n",
       "    </tr>\n",
       "  </thead>\n",
       "  <tbody>\n",
       "    <tr>\n",
       "      <th>0</th>\n",
       "      <td>AA</td>\n",
       "      <td>2019</td>\n",
       "      <td>0.782514</td>\n",
       "    </tr>\n",
       "    <tr>\n",
       "      <th>1</th>\n",
       "      <td>BB</td>\n",
       "      <td>2024</td>\n",
       "      <td>0.728049</td>\n",
       "    </tr>\n",
       "    <tr>\n",
       "      <th>2</th>\n",
       "      <td>CL</td>\n",
       "      <td>2024</td>\n",
       "      <td>2.702863</td>\n",
       "    </tr>\n",
       "    <tr>\n",
       "      <th>3</th>\n",
       "      <td>ER</td>\n",
       "      <td>2024</td>\n",
       "      <td>2.529833</td>\n",
       "    </tr>\n",
       "    <tr>\n",
       "      <th>4</th>\n",
       "      <td>LQ</td>\n",
       "      <td>2024</td>\n",
       "      <td>1.193702</td>\n",
       "    </tr>\n",
       "    <tr>\n",
       "      <th>5</th>\n",
       "      <td>P</td>\n",
       "      <td>2021</td>\n",
       "      <td>NaN</td>\n",
       "    </tr>\n",
       "  </tbody>\n",
       "</table>\n",
       "</div>"
      ],
      "text/plain": [
       "  site_id submission_year  tree_height\n",
       "0      AA            2019     0.782514\n",
       "1      BB            2024     0.728049\n",
       "2      CL            2024     2.702863\n",
       "3      ER            2024     2.529833\n",
       "4      LQ            2024     1.193702\n",
       "5       P            2021          NaN"
      ]
     },
     "execution_count": 252,
     "metadata": {},
     "output_type": "execute_result"
    }
   ],
   "source": [
    "(tree_monitorings.groupby(['site_id','submission_year'])['tree_height'].agg('mean')).reset_index()"
   ]
  },
  {
   "cell_type": "code",
   "execution_count": null,
   "metadata": {},
   "outputs": [],
   "source": []
  }
 ],
 "metadata": {
  "kernelspec": {
   "display_name": "Python 3",
   "language": "python",
   "name": "python3"
  },
  "language_info": {
   "codemirror_mode": {
    "name": "ipython",
    "version": 3
   },
   "file_extension": ".py",
   "mimetype": "text/x-python",
   "name": "python",
   "nbconvert_exporter": "python",
   "pygments_lexer": "ipython3",
   "version": "3.10.14"
  }
 },
 "nbformat": 4,
 "nbformat_minor": 2
}
