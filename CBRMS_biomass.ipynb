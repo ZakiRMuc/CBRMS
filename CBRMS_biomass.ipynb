{
 "cells": [
  {
   "cell_type": "markdown",
   "metadata": {},
   "source": [
    "# Library and Setup"
   ]
  },
  {
   "cell_type": "code",
   "execution_count": 258,
   "metadata": {},
   "outputs": [],
   "source": [
    "import pandas as pd # Data management tools\n",
    "import numpy as np # Mathematical operations\n",
    "import psycopg2 # Access to SQL\n",
    "import re # Regex and other lookup tools\n",
    "import datetime"
   ]
  },
  {
   "cell_type": "code",
   "execution_count": 259,
   "metadata": {},
   "outputs": [],
   "source": [
    "def fetch_table_to_df(conn, query):\n",
    "    \"\"\"\"Extracts entire table(s) from an SQL database. \n",
    "    \n",
    "    conn: Should be a connect function from psycopg2.\n",
    "    query: Tables to be extracted from the database.\n",
    "\n",
    "    \"\"\"\n",
    "    cur = conn.cursor()\n",
    "    cur.execute(query)\n",
    "    rows = cur.fetchall()\n",
    "    column_names = [desc[0] for desc in cur.description]\n",
    "    df = pd.DataFrame(rows, columns=column_names).replace({np.nan}, None)\n",
    "    cur.close()\n",
    "    return df"
   ]
  },
  {
   "cell_type": "code",
   "execution_count": 260,
   "metadata": {},
   "outputs": [],
   "source": [
    "conn = psycopg2.connect(\n",
    "    database=\"testing\",\n",
    "    user=\"postgres\",\n",
    "    password=\"forest25\",\n",
    "    host=\"localhost\",\n",
    "    port=\"5432\"\n",
    ")"
   ]
  },
  {
   "cell_type": "code",
   "execution_count": 261,
   "metadata": {},
   "outputs": [],
   "source": [
    "tables = \"tree_monitorings\", \"measurement_informations\", \"biomass_formulas\", \"tree_biomasses\", 'taxonomies', 'tree_samplings', 'plot_informations', \"site_informations\"\n",
    "for table in tables:\n",
    "    table_name = f\"{table}\"\n",
    "    globals()[table_name] = fetch_table_to_df(conn, f\"SELECT * FROM {table}\")"
   ]
  },
  {
   "cell_type": "markdown",
   "metadata": {},
   "source": [
    "# Biomass Calculation"
   ]
  },
  {
   "cell_type": "markdown",
   "metadata": {},
   "source": [
    "# Preparation"
   ]
  },
  {
   "cell_type": "markdown",
   "metadata": {},
   "source": [
    "Python supports $pow()$, only need to remove $ sign from the equation"
   ]
  },
  {
   "cell_type": "code",
   "execution_count": 262,
   "metadata": {},
   "outputs": [],
   "source": [
    "#replacements = {'pow' : '', ',' : '**'}\n",
    "#biomass_formulas['formula_python'] = biomass_formulas['formula'].replace(replacements, regex = True).str.replace('$','')\n",
    "\n",
    "biomass_formulas['formula_python'] = biomass_formulas['formula'].str.replace('$','') #Simpler, pow() exists in python as well"
   ]
  },
  {
   "cell_type": "markdown",
   "metadata": {},
   "source": [
    "Changing data types for smooth operations"
   ]
  },
  {
   "cell_type": "code",
   "execution_count": 263,
   "metadata": {},
   "outputs": [],
   "source": [
    "tree_monitorings[['tree_height', 'tree_dbh']] = tree_monitorings[['tree_height', 'tree_dbh']].astype('float')\n",
    "taxonomies['id'] = taxonomies['id'].astype('int')\n",
    "taxonomies['wood_density'] = taxonomies['wood_density'].astype('float')\n",
    "tree_monitorings['taxonomy_id'] = tree_monitorings['taxonomy_id'].astype('int')"
   ]
  },
  {
   "cell_type": "markdown",
   "metadata": {},
   "source": [
    "Current data shows combination of hasHeight+noDBH, noHeight+noDBH, hasHeight+hasDBH but no noHeight+hasDBH"
   ]
  },
  {
   "cell_type": "code",
   "execution_count": 264,
   "metadata": {},
   "outputs": [
    {
     "data": {
      "text/plain": [
       "tree_height  tree_dbh\n",
       "True         False       6301\n",
       "False        False       4193\n",
       "True         True        3234\n",
       "Name: count, dtype: int64"
      ]
     },
     "execution_count": 264,
     "metadata": {},
     "output_type": "execute_result"
    }
   ],
   "source": [
    "tree_monitorings[['tree_height','tree_dbh']].notna().value_counts()"
   ]
  },
  {
   "cell_type": "markdown",
   "metadata": {},
   "source": [
    "Standardizing tree_species names (unfinished, need to deal with NAs)"
   ]
  },
  {
   "cell_type": "code",
   "execution_count": 265,
   "metadata": {},
   "outputs": [],
   "source": [
    "tree_species = ['Suren', 'Kopi Liberika', 'Citrus', 'Casuarina','Other', 'Meranti','Soursop','Gaharu','Mango','Rosewood','Orange','Tengkurung','Durian','Cajuput','Jackfruit','Rambutan','Clove','Coffee', 'Lamtoro','Meranti Bakau', 'Meranti Bunga', 'Asam Gelugur','Avocado','Cempedak', 'Asam', 'Tampui', 'Sirsak', 'Kuras','Bitterbean','Mentangor']"
   ]
  },
  {
   "cell_type": "code",
   "execution_count": 266,
   "metadata": {},
   "outputs": [],
   "source": [
    "#x = [next(iter(x), np.nan) \n",
    "#          for x in map(lambda x: difflib.get_close_matches(x, tree_species, cutoff = 0.7), tree_monitorings['tree_species']) if x]"
   ]
  },
  {
   "cell_type": "markdown",
   "metadata": {},
   "source": [
    "## Full Census Biomass Calculation"
   ]
  },
  {
   "cell_type": "markdown",
   "metadata": {},
   "source": [
    "Adding column of biomass_formula_id for simpler referencing in upcoming operations"
   ]
  },
  {
   "cell_type": "code",
   "execution_count": 267,
   "metadata": {},
   "outputs": [],
   "source": [
    "dbh_exist = tree_monitorings['tree_dbh'].notna() # check which is not NA\n",
    "height_exist = tree_monitorings['tree_height'].notna() # check which is not NA\n",
    "\n",
    "trees_wood_density = [taxonomies.loc[taxonomies['id'] == tax_id, 'wood_density'].values[0] \n",
    "                if tax_id in taxonomies['id'].values else None\n",
    "                for tax_id in tree_monitorings['taxonomy_id']]"
   ]
  },
  {
   "cell_type": "code",
   "execution_count": 268,
   "metadata": {},
   "outputs": [],
   "source": [
    "for index, (dbh, height, wood) in enumerate(zip(dbh_exist, height_exist, trees_wood_density)):\n",
    "    if dbh == 1 and height == 1:\n",
    "        if (wood != wood or wood == None):\n",
    "            tree_monitorings.loc[index, 'biomass_formulas_id'] = 7\n",
    "        else:\n",
    "            tree_monitorings.loc[index, 'biomass_formulas_id'] = 3\n",
    "    elif (dbh == 1 and height == 0):\n",
    "        tree_monitorings.loc[index, 'biomass_formulas_id'] = 5\n",
    "    elif (dbh == 0 and height == 1):\n",
    "        tree_monitorings.loc[index, 'biomass_formulas_id'] = 4\n",
    "    else:\n",
    "        tree_monitorings.loc[index, 'biomass_formulas_id'] = None"
   ]
  },
  {
   "cell_type": "markdown",
   "metadata": {},
   "source": [
    "Filtering data from measurement_information which also exist in tree_monitorings"
   ]
  },
  {
   "cell_type": "code",
   "execution_count": 269,
   "metadata": {},
   "outputs": [],
   "source": [
    "type1_measurement = measurement_informations[(measurement_informations['monitoring_id'].isin(tree_monitorings['id'])== True) & measurement_informations['monitoring_type'] == 1]"
   ]
  },
  {
   "cell_type": "code",
   "execution_count": 270,
   "metadata": {},
   "outputs": [
    {
     "data": {
      "text/plain": [
       "tree_cond\n",
       "0       8011\n",
       "1       3084\n",
       "None    2156\n",
       "2        477\n",
       "Name: count, dtype: int64"
      ]
     },
     "execution_count": 270,
     "metadata": {},
     "output_type": "execute_result"
    }
   ],
   "source": [
    "tree_monitorings['tree_cond'].value_counts(dropna = False)"
   ]
  },
  {
   "cell_type": "code",
   "execution_count": 271,
   "metadata": {},
   "outputs": [],
   "source": [
    "#measurement = measurement_informations[(measurement_informations['monitoring_id'].isin(tree_monitorings['id'])== True)]"
   ]
  },
  {
   "cell_type": "code",
   "execution_count": 272,
   "metadata": {},
   "outputs": [],
   "source": [
    "taxonomy_dict = taxonomies.set_index('id')['wood_density'].to_dict() #Set wood identity for referral from taxonomy_id\n",
    "\n",
    "biomass_index = [] #empty list for storing valid biomass ids\n",
    "result = [] #empty list for storing results\n",
    "for index_used in type1_measurement['monitoring_id']:\n",
    "    tree_dbh     = tree_monitorings.loc[tree_monitorings['id'] == index_used,'tree_dbh'].values[0]\n",
    "    tree_height  = tree_monitorings.loc[tree_monitorings['id'] == index_used,'tree_height'].values[0]\n",
    "    biomass_id   = tree_monitorings.loc[tree_monitorings['id'] == index_used,'biomass_formulas_id'].values[0]\n",
    "    tax_id       = tree_monitorings.loc[tree_monitorings['id'] == index_used,'taxonomy_id'].values[0]\n",
    "    wood_density = taxonomy_dict.get(tax_id)\n",
    "    if (biomass_id != biomass_id or biomass_id == None):\n",
    "        continue\n",
    "    else:\n",
    "        biomass_form = biomass_formulas.loc[biomass_formulas['id'] == biomass_id, 'formula_python']\n",
    "        for biomass in biomass_form:\n",
    "            biomass_result = eval(biomass)\n",
    "            result.append(biomass_result)\n",
    "            biomass_index.append(index_used)\n",
    "#            print(\"dbh:\", tree_dbh,\n",
    "#                  \"height:\", tree_height,\n",
    "##                  \"index:\", index_used, \n",
    " #                 \"formula\", biomass_form,\n",
    " #                 \"result:\", biomass_result)"
   ]
  },
  {
   "cell_type": "markdown",
   "metadata": {},
   "source": [
    "### Creating Biomass Table/Dataframe"
   ]
  },
  {
   "cell_type": "code",
   "execution_count": 273,
   "metadata": {},
   "outputs": [],
   "source": [
    "tree_biomasses_python = type1_measurement[type1_measurement['monitoring_id'].isin(biomass_index) == True]"
   ]
  },
  {
   "cell_type": "code",
   "execution_count": 274,
   "metadata": {},
   "outputs": [],
   "source": [
    "tree_biomasses_python = tree_biomasses_python.drop(['id','timenow','start', 'end','username','notes','_xform_id','_xform_id_string','monitoring_order','month_monitoring','phase'], axis = 1)\n"
   ]
  },
  {
   "cell_type": "code",
   "execution_count": 275,
   "metadata": {},
   "outputs": [],
   "source": [
    "tree_biomasses_python['result'] = result"
   ]
  },
  {
   "cell_type": "code",
   "execution_count": 276,
   "metadata": {},
   "outputs": [],
   "source": [
    "tree_biomasses_python['taxonomy_id'] = [tree_monitorings.loc[tree_monitorings['id'] == mon_id, 'taxonomy_id'].values[0] \n",
    "                if mon_id in tree_monitorings['id'].values else None\n",
    "                for mon_id in tree_biomasses_python['monitoring_id']]"
   ]
  },
  {
   "cell_type": "code",
   "execution_count": 277,
   "metadata": {},
   "outputs": [],
   "source": [
    "tree_biomasses_python['tree_species'] = [tree_monitorings.loc[tree_monitorings['id'] == mon_id, 'tree_species'].values[0] \n",
    "                if mon_id in tree_monitorings['id'].values else None\n",
    "                for mon_id in tree_biomasses_python['monitoring_id']]"
   ]
  },
  {
   "cell_type": "code",
   "execution_count": 278,
   "metadata": {},
   "outputs": [],
   "source": [
    "tree_biomasses_python['tree_id'] = [tree_monitorings.loc[tree_monitorings['id'] == mon_id, 'tree_id'].values[0] \n",
    "                if mon_id in tree_monitorings['id'].values else None\n",
    "                for mon_id in tree_biomasses_python['monitoring_id']]"
   ]
  },
  {
   "cell_type": "code",
   "execution_count": 279,
   "metadata": {},
   "outputs": [],
   "source": [
    "tree_biomasses_python['submission_time'] = [tree_monitorings.loc[tree_monitorings['id'] == mon_id, 'submission_time'].values[0] \n",
    "                if mon_id in tree_monitorings['id'].values else None\n",
    "                for mon_id in tree_biomasses_python['monitoring_id']]"
   ]
  },
  {
   "cell_type": "code",
   "execution_count": 280,
   "metadata": {},
   "outputs": [],
   "source": [
    "tree_biomasses_python['updated_at'] = datetime.datetime.now().strftime('%Y-%m-%d %H:%M:%S')\n"
   ]
  },
  {
   "cell_type": "code",
   "execution_count": 281,
   "metadata": {},
   "outputs": [],
   "source": [
    "carbon = []\n",
    "for res in result:\n",
    "    if (res != res or res == None):\n",
    "        continue\n",
    "    else:\n",
    "        carbon.append(res * 0.5 * 3.67) # biomass * 0.5 * 3.67\n",
    "tree_biomasses_python['carbon'] = carbon"
   ]
  },
  {
   "cell_type": "code",
   "execution_count": 282,
   "metadata": {},
   "outputs": [],
   "source": [
    "tree_biomasses_python['id'] = range(1,len(tree_biomasses_python)+1)"
   ]
  },
  {
   "cell_type": "code",
   "execution_count": 283,
   "metadata": {},
   "outputs": [
    {
     "data": {
      "text/html": [
       "<div>\n",
       "<style scoped>\n",
       "    .dataframe tbody tr th:only-of-type {\n",
       "        vertical-align: middle;\n",
       "    }\n",
       "\n",
       "    .dataframe tbody tr th {\n",
       "        vertical-align: top;\n",
       "    }\n",
       "\n",
       "    .dataframe thead th {\n",
       "        text-align: right;\n",
       "    }\n",
       "</style>\n",
       "<table border=\"1\" class=\"dataframe\">\n",
       "  <thead>\n",
       "    <tr style=\"text-align: right;\">\n",
       "      <th></th>\n",
       "      <th>id</th>\n",
       "      <th>monitoring_id</th>\n",
       "      <th>tree_id</th>\n",
       "      <th>tree_species</th>\n",
       "      <th>taxonomy_id</th>\n",
       "      <th>result</th>\n",
       "      <th>carbon</th>\n",
       "      <th>date_monitoring</th>\n",
       "      <th>submission_time</th>\n",
       "      <th>created_at</th>\n",
       "      <th>updated_at</th>\n",
       "    </tr>\n",
       "  </thead>\n",
       "  <tbody>\n",
       "    <tr>\n",
       "      <th>1653</th>\n",
       "      <td>1</td>\n",
       "      <td>62</td>\n",
       "      <td>AA01T0180</td>\n",
       "      <td>Meranti</td>\n",
       "      <td>5</td>\n",
       "      <td>0.000000</td>\n",
       "      <td>0.000000</td>\n",
       "      <td>2018-04-23</td>\n",
       "      <td>2019-03-29 14:36:00</td>\n",
       "      <td>2021-08-01 20:19:02</td>\n",
       "      <td>2024-12-04 14:02:59</td>\n",
       "    </tr>\n",
       "    <tr>\n",
       "      <th>1686</th>\n",
       "      <td>2</td>\n",
       "      <td>1</td>\n",
       "      <td>AA01T0001</td>\n",
       "      <td>Gaharu</td>\n",
       "      <td>4</td>\n",
       "      <td>0.030735</td>\n",
       "      <td>0.056398</td>\n",
       "      <td>2018-02-21</td>\n",
       "      <td>2019-03-29 14:02:38</td>\n",
       "      <td>2021-08-01 20:19:01</td>\n",
       "      <td>2024-12-04 14:02:59</td>\n",
       "    </tr>\n",
       "    <tr>\n",
       "      <th>1793</th>\n",
       "      <td>3</td>\n",
       "      <td>30838</td>\n",
       "      <td>BB-01-0-0024</td>\n",
       "      <td>Suren</td>\n",
       "      <td>64</td>\n",
       "      <td>0.295311</td>\n",
       "      <td>0.541896</td>\n",
       "      <td>2024-08-15</td>\n",
       "      <td>2024-09-11 00:00:00</td>\n",
       "      <td>2024-09-11 18:13:55</td>\n",
       "      <td>2024-12-04 14:02:59</td>\n",
       "    </tr>\n",
       "    <tr>\n",
       "      <th>1794</th>\n",
       "      <td>4</td>\n",
       "      <td>30839</td>\n",
       "      <td>BB-01-0-0026</td>\n",
       "      <td>Suren</td>\n",
       "      <td>64</td>\n",
       "      <td>0.144379</td>\n",
       "      <td>0.264936</td>\n",
       "      <td>2024-08-15</td>\n",
       "      <td>2024-09-11 00:00:00</td>\n",
       "      <td>2024-09-11 18:13:55</td>\n",
       "      <td>2024-12-04 14:02:59</td>\n",
       "    </tr>\n",
       "    <tr>\n",
       "      <th>1795</th>\n",
       "      <td>5</td>\n",
       "      <td>30840</td>\n",
       "      <td>BB-01-0-0027</td>\n",
       "      <td>Suren</td>\n",
       "      <td>64</td>\n",
       "      <td>0.329164</td>\n",
       "      <td>0.604016</td>\n",
       "      <td>2024-08-15</td>\n",
       "      <td>2024-09-11 00:00:00</td>\n",
       "      <td>2024-09-11 18:13:55</td>\n",
       "      <td>2024-12-04 14:02:59</td>\n",
       "    </tr>\n",
       "    <tr>\n",
       "      <th>...</th>\n",
       "      <td>...</td>\n",
       "      <td>...</td>\n",
       "      <td>...</td>\n",
       "      <td>...</td>\n",
       "      <td>...</td>\n",
       "      <td>...</td>\n",
       "      <td>...</td>\n",
       "      <td>...</td>\n",
       "      <td>...</td>\n",
       "      <td>...</td>\n",
       "      <td>...</td>\n",
       "    </tr>\n",
       "    <tr>\n",
       "      <th>18791</th>\n",
       "      <td>10581</td>\n",
       "      <td>36980</td>\n",
       "      <td>CL-10-0-1843</td>\n",
       "      <td>suren</td>\n",
       "      <td>64</td>\n",
       "      <td>0.473252</td>\n",
       "      <td>0.868417</td>\n",
       "      <td>2023-08-21</td>\n",
       "      <td>2024-09-11 00:00:00</td>\n",
       "      <td>2024-09-11 21:22:56</td>\n",
       "      <td>2024-12-04 14:02:59</td>\n",
       "    </tr>\n",
       "    <tr>\n",
       "      <th>18792</th>\n",
       "      <td>10582</td>\n",
       "      <td>36981</td>\n",
       "      <td>CL-10-0-1844</td>\n",
       "      <td>suren</td>\n",
       "      <td>64</td>\n",
       "      <td>0.577320</td>\n",
       "      <td>1.059382</td>\n",
       "      <td>2023-08-21</td>\n",
       "      <td>2024-09-11 00:00:00</td>\n",
       "      <td>2024-09-11 21:22:56</td>\n",
       "      <td>2024-12-04 14:02:59</td>\n",
       "    </tr>\n",
       "    <tr>\n",
       "      <th>18793</th>\n",
       "      <td>10583</td>\n",
       "      <td>36982</td>\n",
       "      <td>CL-10-0-1845</td>\n",
       "      <td>suren</td>\n",
       "      <td>64</td>\n",
       "      <td>0.943740</td>\n",
       "      <td>1.731763</td>\n",
       "      <td>2023-08-21</td>\n",
       "      <td>2024-09-11 00:00:00</td>\n",
       "      <td>2024-09-11 21:22:56</td>\n",
       "      <td>2024-12-04 14:02:59</td>\n",
       "    </tr>\n",
       "    <tr>\n",
       "      <th>18794</th>\n",
       "      <td>10584</td>\n",
       "      <td>36983</td>\n",
       "      <td>CL-10-0-1846</td>\n",
       "      <td>suren</td>\n",
       "      <td>64</td>\n",
       "      <td>0.224837</td>\n",
       "      <td>0.412575</td>\n",
       "      <td>2023-08-21</td>\n",
       "      <td>2024-09-11 00:00:00</td>\n",
       "      <td>2024-09-11 21:22:56</td>\n",
       "      <td>2024-12-04 14:02:59</td>\n",
       "    </tr>\n",
       "    <tr>\n",
       "      <th>18795</th>\n",
       "      <td>10585</td>\n",
       "      <td>36984</td>\n",
       "      <td>CL-10-0-1847</td>\n",
       "      <td>suren</td>\n",
       "      <td>64</td>\n",
       "      <td>0.276688</td>\n",
       "      <td>0.507723</td>\n",
       "      <td>2023-08-21</td>\n",
       "      <td>2024-09-11 00:00:00</td>\n",
       "      <td>2024-09-11 21:22:56</td>\n",
       "      <td>2024-12-04 14:02:59</td>\n",
       "    </tr>\n",
       "  </tbody>\n",
       "</table>\n",
       "<p>10585 rows × 11 columns</p>\n",
       "</div>"
      ],
      "text/plain": [
       "          id  monitoring_id       tree_id tree_species  taxonomy_id    result  \\\n",
       "1653       1             62     AA01T0180      Meranti            5  0.000000   \n",
       "1686       2              1     AA01T0001       Gaharu            4  0.030735   \n",
       "1793       3          30838  BB-01-0-0024        Suren           64  0.295311   \n",
       "1794       4          30839  BB-01-0-0026        Suren           64  0.144379   \n",
       "1795       5          30840  BB-01-0-0027        Suren           64  0.329164   \n",
       "...      ...            ...           ...          ...          ...       ...   \n",
       "18791  10581          36980  CL-10-0-1843        suren           64  0.473252   \n",
       "18792  10582          36981  CL-10-0-1844        suren           64  0.577320   \n",
       "18793  10583          36982  CL-10-0-1845        suren           64  0.943740   \n",
       "18794  10584          36983  CL-10-0-1846        suren           64  0.224837   \n",
       "18795  10585          36984  CL-10-0-1847        suren           64  0.276688   \n",
       "\n",
       "         carbon date_monitoring     submission_time          created_at  \\\n",
       "1653   0.000000      2018-04-23 2019-03-29 14:36:00 2021-08-01 20:19:02   \n",
       "1686   0.056398      2018-02-21 2019-03-29 14:02:38 2021-08-01 20:19:01   \n",
       "1793   0.541896      2024-08-15 2024-09-11 00:00:00 2024-09-11 18:13:55   \n",
       "1794   0.264936      2024-08-15 2024-09-11 00:00:00 2024-09-11 18:13:55   \n",
       "1795   0.604016      2024-08-15 2024-09-11 00:00:00 2024-09-11 18:13:55   \n",
       "...         ...             ...                 ...                 ...   \n",
       "18791  0.868417      2023-08-21 2024-09-11 00:00:00 2024-09-11 21:22:56   \n",
       "18792  1.059382      2023-08-21 2024-09-11 00:00:00 2024-09-11 21:22:56   \n",
       "18793  1.731763      2023-08-21 2024-09-11 00:00:00 2024-09-11 21:22:56   \n",
       "18794  0.412575      2023-08-21 2024-09-11 00:00:00 2024-09-11 21:22:56   \n",
       "18795  0.507723      2023-08-21 2024-09-11 00:00:00 2024-09-11 21:22:56   \n",
       "\n",
       "                updated_at  \n",
       "1653   2024-12-04 14:02:59  \n",
       "1686   2024-12-04 14:02:59  \n",
       "1793   2024-12-04 14:02:59  \n",
       "1794   2024-12-04 14:02:59  \n",
       "1795   2024-12-04 14:02:59  \n",
       "...                    ...  \n",
       "18791  2024-12-04 14:02:59  \n",
       "18792  2024-12-04 14:02:59  \n",
       "18793  2024-12-04 14:02:59  \n",
       "18794  2024-12-04 14:02:59  \n",
       "18795  2024-12-04 14:02:59  \n",
       "\n",
       "[10585 rows x 11 columns]"
      ]
     },
     "execution_count": 283,
     "metadata": {},
     "output_type": "execute_result"
    }
   ],
   "source": [
    "tree_biomasses_python = tree_biomasses_python[['id','monitoring_id','tree_id','tree_species','taxonomy_id','result','carbon','date_monitoring','submission_time','created_at','updated_at']]\n",
    "tree_biomasses_python"
   ]
  },
  {
   "cell_type": "markdown",
   "metadata": {},
   "source": [
    "### Compare result to original table"
   ]
  },
  {
   "cell_type": "code",
   "execution_count": 284,
   "metadata": {},
   "outputs": [],
   "source": [
    "#tree_biomasses_python['tree_cond'] = [tree_monitorings.loc[tree_monitorings['id'] == mon_id, 'tree_cond'].values[0] \n",
    "#                if mon_id in tree_monitorings['id'].values else None\n",
    "#                for mon_id in tree_biomasses_python['monitoring_id']]"
   ]
  },
  {
   "cell_type": "code",
   "execution_count": 285,
   "metadata": {},
   "outputs": [
    {
     "data": {
      "text/html": [
       "<div>\n",
       "<style scoped>\n",
       "    .dataframe tbody tr th:only-of-type {\n",
       "        vertical-align: middle;\n",
       "    }\n",
       "\n",
       "    .dataframe tbody tr th {\n",
       "        vertical-align: top;\n",
       "    }\n",
       "\n",
       "    .dataframe thead th {\n",
       "        text-align: right;\n",
       "    }\n",
       "</style>\n",
       "<table border=\"1\" class=\"dataframe\">\n",
       "  <thead>\n",
       "    <tr style=\"text-align: right;\">\n",
       "      <th></th>\n",
       "      <th>result_x</th>\n",
       "      <th>result_y</th>\n",
       "    </tr>\n",
       "  </thead>\n",
       "  <tbody>\n",
       "    <tr>\n",
       "      <th>0</th>\n",
       "      <td>0.000000</td>\n",
       "      <td>None</td>\n",
       "    </tr>\n",
       "    <tr>\n",
       "      <th>1</th>\n",
       "      <td>0.000000</td>\n",
       "      <td>None</td>\n",
       "    </tr>\n",
       "    <tr>\n",
       "      <th>2</th>\n",
       "      <td>0.030735</td>\n",
       "      <td>0.03073</td>\n",
       "    </tr>\n",
       "    <tr>\n",
       "      <th>3</th>\n",
       "      <td>0.030735</td>\n",
       "      <td>0.03073</td>\n",
       "    </tr>\n",
       "    <tr>\n",
       "      <th>4</th>\n",
       "      <td>0.295311</td>\n",
       "      <td>None</td>\n",
       "    </tr>\n",
       "    <tr>\n",
       "      <th>...</th>\n",
       "      <td>...</td>\n",
       "      <td>...</td>\n",
       "    </tr>\n",
       "    <tr>\n",
       "      <th>10580</th>\n",
       "      <td>0.473252</td>\n",
       "      <td>None</td>\n",
       "    </tr>\n",
       "    <tr>\n",
       "      <th>10581</th>\n",
       "      <td>0.577320</td>\n",
       "      <td>None</td>\n",
       "    </tr>\n",
       "    <tr>\n",
       "      <th>10582</th>\n",
       "      <td>0.943740</td>\n",
       "      <td>None</td>\n",
       "    </tr>\n",
       "    <tr>\n",
       "      <th>10583</th>\n",
       "      <td>0.224837</td>\n",
       "      <td>None</td>\n",
       "    </tr>\n",
       "    <tr>\n",
       "      <th>10584</th>\n",
       "      <td>0.276688</td>\n",
       "      <td>None</td>\n",
       "    </tr>\n",
       "  </tbody>\n",
       "</table>\n",
       "<p>10585 rows × 2 columns</p>\n",
       "</div>"
      ],
      "text/plain": [
       "       result_x result_y\n",
       "0      0.000000     None\n",
       "1      0.000000     None\n",
       "2      0.030735  0.03073\n",
       "3      0.030735  0.03073\n",
       "4      0.295311     None\n",
       "...         ...      ...\n",
       "10580  0.473252     None\n",
       "10581  0.577320     None\n",
       "10582  0.943740     None\n",
       "10583  0.224837     None\n",
       "10584  0.276688     None\n",
       "\n",
       "[10585 rows x 2 columns]"
      ]
     },
     "execution_count": 285,
     "metadata": {},
     "output_type": "execute_result"
    }
   ],
   "source": [
    "tree_biomasses_python.merge(tree_biomasses, on = ['monitoring_id'], how = 'inner')[['result_x','result_y']]"
   ]
  },
  {
   "cell_type": "markdown",
   "metadata": {},
   "source": [
    "## Sampling Biomass Calculation"
   ]
  },
  {
   "cell_type": "code",
   "execution_count": 286,
   "metadata": {},
   "outputs": [],
   "source": [
    "sampling_dbh_exist = tree_samplings['tree_dbh'].notna() # check which is not NA\n",
    "sampling_height_exist = tree_samplings['tree_height'].notna() # check which is not NA\n",
    "\n",
    "sampling_trees_wood_density = [taxonomies.loc[taxonomies['id'] == tax_id, 'wood_density'].values[0] \n",
    "                if tax_id in taxonomies['id'].values else None\n",
    "                for tax_id in tree_samplings['taxonomy_id']]"
   ]
  },
  {
   "cell_type": "code",
   "execution_count": 287,
   "metadata": {},
   "outputs": [],
   "source": [
    "for index, (dbh, height, wood) in enumerate(zip(sampling_dbh_exist, sampling_height_exist, sampling_trees_wood_density)):\n",
    "    if dbh == 1 and height == 1:\n",
    "        if (wood != wood or wood == None):\n",
    "            tree_samplings.loc[index, 'biomass_formulas_id'] = 7\n",
    "        else:\n",
    "            tree_samplings.loc[index, 'biomass_formulas_id'] = 3\n",
    "    elif (dbh == 1 and height == 0):\n",
    "        tree_samplings.loc[index, 'biomass_formulas_id'] = 5\n",
    "    elif (dbh == 0 and height == 1):\n",
    "        tree_samplings.loc[index, 'biomass_formulas_id'] = 4\n",
    "    else:\n",
    "        tree_samplings.loc[index, 'biomass_formulas_id'] = None"
   ]
  },
  {
   "cell_type": "code",
   "execution_count": 288,
   "metadata": {},
   "outputs": [
    {
     "data": {
      "text/plain": [
       "biomass_formulas_id\n",
       "4       11467\n",
       "None     2378\n",
       "7           2\n",
       "Name: count, dtype: int64"
      ]
     },
     "execution_count": 288,
     "metadata": {},
     "output_type": "execute_result"
    }
   ],
   "source": [
    "tree_samplings.biomass_formulas_id.value_counts(dropna= False)"
   ]
  },
  {
   "cell_type": "code",
   "execution_count": 289,
   "metadata": {},
   "outputs": [],
   "source": [
    "tree_samplings[['tree_height','tree_dbh']] = tree_samplings[['tree_height','tree_dbh']].fillna('0')"
   ]
  },
  {
   "cell_type": "code",
   "execution_count": 290,
   "metadata": {},
   "outputs": [],
   "source": [
    "taxonomy_dict = taxonomies.set_index('id')['wood_density'].to_dict() #Set wood identity for referral from taxonomy_id\n",
    "\n",
    "sampling_results = [] #empty list for storing results\n",
    "for index, row in tree_samplings.iterrows():\n",
    "    tree_dbh     = float(row['tree_dbh'])\n",
    "    tree_height  = float(row['tree_height'])\n",
    "    biomass_id   = row['biomass_formulas_id']\n",
    "    tax_id       = row['taxonomy_id']\n",
    "    wood_density = taxonomy_dict.get(tax_id)\n",
    "    if (biomass_id != biomass_id or biomass_id == None):\n",
    "        sampling_results.append(None)\n",
    "    else:\n",
    "        biomass_form = biomass_formulas.loc[biomass_formulas['id'] == biomass_id, 'formula_python']\n",
    "        for biomass in biomass_form:\n",
    "            biomass_result = eval(biomass)\n",
    "            sampling_results.append(biomass_result)"
   ]
  },
  {
   "cell_type": "markdown",
   "metadata": {},
   "source": [
    "### Creating Sampling Biomass Table/Dataframe"
   ]
  },
  {
   "cell_type": "code",
   "execution_count": 291,
   "metadata": {},
   "outputs": [],
   "source": [
    "tree_samplings['month_monitoring'] = pd.to_datetime(tree_samplings['date_monitoring'], format=\"%Y-%M-%d\").dt.strftime(\"%b-%y\")"
   ]
  },
  {
   "cell_type": "code",
   "execution_count": 292,
   "metadata": {},
   "outputs": [],
   "source": [
    "sample_tree_biomasses_python = tree_samplings[['plot_information_id', 'subplot_id', 'tree_species', 'taxonomy_id', 'month_monitoring',\n",
    "       'created_at', 'updated_at', 'tree_id', 'tree_height', 'tree_cond']]"
   ]
  },
  {
   "cell_type": "code",
   "execution_count": 293,
   "metadata": {},
   "outputs": [
    {
     "name": "stderr",
     "output_type": "stream",
     "text": [
      "C:\\Users\\zrmuc\\AppData\\Local\\Temp\\ipykernel_11040\\777817446.py:1: SettingWithCopyWarning: \n",
      "A value is trying to be set on a copy of a slice from a DataFrame.\n",
      "Try using .loc[row_indexer,col_indexer] = value instead\n",
      "\n",
      "See the caveats in the documentation: https://pandas.pydata.org/pandas-docs/stable/user_guide/indexing.html#returning-a-view-versus-a-copy\n",
      "  sample_tree_biomasses_python['result'] = sampling_results\n"
     ]
    }
   ],
   "source": [
    "sample_tree_biomasses_python['result'] = sampling_results"
   ]
  },
  {
   "cell_type": "code",
   "execution_count": 294,
   "metadata": {},
   "outputs": [],
   "source": [
    "tree_biomasses_python['updated_at'] = datetime.datetime.now().strftime('%Y-%m-%d %H:%M:%S')\n"
   ]
  },
  {
   "cell_type": "code",
   "execution_count": 295,
   "metadata": {},
   "outputs": [
    {
     "name": "stderr",
     "output_type": "stream",
     "text": [
      "C:\\Users\\zrmuc\\AppData\\Local\\Temp\\ipykernel_11040\\1091282493.py:7: SettingWithCopyWarning: \n",
      "A value is trying to be set on a copy of a slice from a DataFrame.\n",
      "Try using .loc[row_indexer,col_indexer] = value instead\n",
      "\n",
      "See the caveats in the documentation: https://pandas.pydata.org/pandas-docs/stable/user_guide/indexing.html#returning-a-view-versus-a-copy\n",
      "  sample_tree_biomasses_python['carbon'] = carbon\n"
     ]
    }
   ],
   "source": [
    "carbon = []\n",
    "for res in sampling_results:\n",
    "    if (res != res or res == None):\n",
    "        carbon.append(None)\n",
    "    else:\n",
    "        carbon.append(res * 0.5 * 3.67) # biomass * 0.5 * 3.67\n",
    "sample_tree_biomasses_python['carbon'] = carbon"
   ]
  },
  {
   "cell_type": "code",
   "execution_count": 296,
   "metadata": {},
   "outputs": [
    {
     "name": "stderr",
     "output_type": "stream",
     "text": [
      "C:\\Users\\zrmuc\\AppData\\Local\\Temp\\ipykernel_11040\\1565942968.py:1: SettingWithCopyWarning: \n",
      "A value is trying to be set on a copy of a slice from a DataFrame.\n",
      "Try using .loc[row_indexer,col_indexer] = value instead\n",
      "\n",
      "See the caveats in the documentation: https://pandas.pydata.org/pandas-docs/stable/user_guide/indexing.html#returning-a-view-versus-a-copy\n",
      "  sample_tree_biomasses_python['id'] = range(1,len(sample_tree_biomasses_python)+1)\n"
     ]
    }
   ],
   "source": [
    "sample_tree_biomasses_python['id'] = range(1,len(sample_tree_biomasses_python)+1)"
   ]
  },
  {
   "cell_type": "code",
   "execution_count": 297,
   "metadata": {},
   "outputs": [],
   "source": [
    "sample_tree_biomasses_python = sample_tree_biomasses_python[['id', 'tree_id', 'plot_information_id', 'subplot_id', 'tree_species','taxonomy_id', 'tree_height', 'result', 'carbon','month_monitoring','created_at','updated_at']]"
   ]
  },
  {
   "cell_type": "code",
   "execution_count": 298,
   "metadata": {},
   "outputs": [],
   "source": [
    "sample_tree_biomasses_python['tree_height'] = sample_tree_biomasses_python['tree_height'].astype(float)"
   ]
  },
  {
   "cell_type": "markdown",
   "metadata": {},
   "source": [
    "BG"
   ]
  },
  {
   "cell_type": "code",
   "execution_count": 310,
   "metadata": {},
   "outputs": [],
   "source": [
    "sample_tree_biomasses_python['centi_height'] = sample_tree_biomasses_python['tree_height'] * 100"
   ]
  },
  {
   "cell_type": "code",
   "execution_count": 323,
   "metadata": {},
   "outputs": [],
   "source": [
    "sample_tree_biomasses_python['total_biomass'] = [pow(x, 3.0696) * 0.001 for x in sample_tree_biomasses_python['tree_height']]"
   ]
  },
  {
   "cell_type": "code",
   "execution_count": 324,
   "metadata": {},
   "outputs": [],
   "source": [
    "sample_tree_biomasses_python['AGB'] = [pow(x, 2.8996) * 0.001 for x in sample_tree_biomasses_python['tree_height']]"
   ]
  },
  {
   "cell_type": "code",
   "execution_count": 325,
   "metadata": {},
   "outputs": [
    {
     "data": {
      "text/html": [
       "<div>\n",
       "<style scoped>\n",
       "    .dataframe tbody tr th:only-of-type {\n",
       "        vertical-align: middle;\n",
       "    }\n",
       "\n",
       "    .dataframe tbody tr th {\n",
       "        vertical-align: top;\n",
       "    }\n",
       "\n",
       "    .dataframe thead th {\n",
       "        text-align: right;\n",
       "    }\n",
       "</style>\n",
       "<table border=\"1\" class=\"dataframe\">\n",
       "  <thead>\n",
       "    <tr style=\"text-align: right;\">\n",
       "      <th></th>\n",
       "      <th>0</th>\n",
       "      <th>1</th>\n",
       "      <th>2</th>\n",
       "      <th>3</th>\n",
       "      <th>4</th>\n",
       "      <th>5</th>\n",
       "      <th>6</th>\n",
       "      <th>7</th>\n",
       "      <th>8</th>\n",
       "      <th>9</th>\n",
       "      <th>10</th>\n",
       "      <th>11</th>\n",
       "      <th>12</th>\n",
       "      <th>13</th>\n",
       "      <th>14</th>\n",
       "    </tr>\n",
       "  </thead>\n",
       "  <tbody>\n",
       "    <tr>\n",
       "      <th>total_biomass</th>\n",
       "      <td>0.0</td>\n",
       "      <td>0.000017</td>\n",
       "      <td>0.000033</td>\n",
       "      <td>0.000080</td>\n",
       "      <td>0.000026</td>\n",
       "      <td>0.000026</td>\n",
       "      <td>0.000027</td>\n",
       "      <td>0.000011</td>\n",
       "      <td>0.000004</td>\n",
       "      <td>0.000006</td>\n",
       "      <td>0.000002</td>\n",
       "      <td>0.000008</td>\n",
       "      <td>0.000020</td>\n",
       "      <td>0.000047</td>\n",
       "      <td>0.000020</td>\n",
       "    </tr>\n",
       "    <tr>\n",
       "      <th>AGB</th>\n",
       "      <td>0.0</td>\n",
       "      <td>0.000021</td>\n",
       "      <td>0.000040</td>\n",
       "      <td>0.000092</td>\n",
       "      <td>0.000032</td>\n",
       "      <td>0.000032</td>\n",
       "      <td>0.000034</td>\n",
       "      <td>0.000014</td>\n",
       "      <td>0.000005</td>\n",
       "      <td>0.000008</td>\n",
       "      <td>0.000003</td>\n",
       "      <td>0.000011</td>\n",
       "      <td>0.000025</td>\n",
       "      <td>0.000056</td>\n",
       "      <td>0.000025</td>\n",
       "    </tr>\n",
       "  </tbody>\n",
       "</table>\n",
       "</div>"
      ],
      "text/plain": [
       "                0         1         2         3         4         5   \\\n",
       "total_biomass  0.0  0.000017  0.000033  0.000080  0.000026  0.000026   \n",
       "AGB            0.0  0.000021  0.000040  0.000092  0.000032  0.000032   \n",
       "\n",
       "                     6         7         8         9         10        11  \\\n",
       "total_biomass  0.000027  0.000011  0.000004  0.000006  0.000002  0.000008   \n",
       "AGB            0.000034  0.000014  0.000005  0.000008  0.000003  0.000011   \n",
       "\n",
       "                     12        13        14  \n",
       "total_biomass  0.000020  0.000047  0.000020  \n",
       "AGB            0.000025  0.000056  0.000025  "
      ]
     },
     "execution_count": 325,
     "metadata": {},
     "output_type": "execute_result"
    }
   ],
   "source": [
    "sample_tree_biomasses_python[sample_tree_biomasses_python['tree_species'] == 'BG'][['total_biomass', 'AGB']].head(15).reset_index(drop = True).transpose()"
   ]
  },
  {
   "cell_type": "code",
   "execution_count": 326,
   "metadata": {},
   "outputs": [],
   "source": [
    "sample_tree_biomasses_python['old_result'] = sample_tree_biomasses_python['result']"
   ]
  },
  {
   "cell_type": "code",
   "execution_count": 327,
   "metadata": {},
   "outputs": [
    {
     "data": {
      "text/plain": [
       "0             NaN\n",
       "1             NaN\n",
       "2             NaN\n",
       "3             NaN\n",
       "4             NaN\n",
       "           ...   \n",
       "13842    0.003124\n",
       "13843    0.006991\n",
       "13844    0.011738\n",
       "13845    0.005848\n",
       "13846    0.007401\n",
       "Name: old_result, Length: 13847, dtype: float64"
      ]
     },
     "execution_count": 327,
     "metadata": {},
     "output_type": "execute_result"
    }
   ],
   "source": [
    "sample_tree_biomasses_python['old_result']"
   ]
  },
  {
   "cell_type": "code",
   "execution_count": 331,
   "metadata": {},
   "outputs": [
    {
     "data": {
      "text/plain": [
       "<Axes: >"
      ]
     },
     "execution_count": 331,
     "metadata": {},
     "output_type": "execute_result"
    },
    {
     "data": {
      "image/png": "[encoded data removed]",
      "text/plain": [
       "<Figure size 640x480 with 1 Axes>"
      ]
     },
     "metadata": {},
     "output_type": "display_data"
    }
   ],
   "source": [
    "sample_tree_biomasses_python[sample_tree_biomasses_python['tree_species'] == 'BG'][['total_biomass' ,'AGB']].head(15).reset_index(drop = True).plot.bar()"
   ]
  },
  {
   "cell_type": "code",
   "execution_count": 335,
   "metadata": {},
   "outputs": [
    {
     "data": {
      "text/plain": [
       "AGB           0.000248\n",
       "old_result    0.020026\n",
       "dtype: float64"
      ]
     },
     "execution_count": 335,
     "metadata": {},
     "output_type": "execute_result"
    }
   ],
   "source": [
    "sample_tree_biomasses_python[sample_tree_biomasses_python['tree_species'] == 'BG'][['AGB', 'old_result']].mean()"
   ]
  },
  {
   "cell_type": "markdown",
   "metadata": {},
   "source": [
    "# Sampling_avgs"
   ]
  },
  {
   "cell_type": "code",
   "execution_count": 47,
   "metadata": {},
   "outputs": [],
   "source": [
    "tree_samplings[['tree_height', 'tree_dbh']] = tree_samplings[['tree_height', 'tree_dbh']].astype(float)"
   ]
  },
  {
   "cell_type": "code",
   "execution_count": 48,
   "metadata": {},
   "outputs": [],
   "source": [
    "proto_sampling_avgs = tree_samplings.groupby(['plot_information_id','taxonomy_id','month_monitoring'])[['tree_height','tree_dbh']].agg('mean').reset_index()"
   ]
  },
  {
   "cell_type": "code",
   "execution_count": 49,
   "metadata": {},
   "outputs": [
    {
     "data": {
      "text/html": [
       "<div>\n",
       "<style scoped>\n",
       "    .dataframe tbody tr th:only-of-type {\n",
       "        vertical-align: middle;\n",
       "    }\n",
       "\n",
       "    .dataframe tbody tr th {\n",
       "        vertical-align: top;\n",
       "    }\n",
       "\n",
       "    .dataframe thead th {\n",
       "        text-align: right;\n",
       "    }\n",
       "</style>\n",
       "<table border=\"1\" class=\"dataframe\">\n",
       "  <thead>\n",
       "    <tr style=\"text-align: right;\">\n",
       "      <th></th>\n",
       "      <th>plot_information_id</th>\n",
       "      <th>taxonomy_id</th>\n",
       "      <th>month_monitoring</th>\n",
       "      <th>tree_height</th>\n",
       "      <th>tree_dbh</th>\n",
       "    </tr>\n",
       "  </thead>\n",
       "  <tbody>\n",
       "    <tr>\n",
       "      <th>0</th>\n",
       "      <td>35</td>\n",
       "      <td>23</td>\n",
       "      <td>Apr-24</td>\n",
       "      <td>0.857000</td>\n",
       "      <td>0.0</td>\n",
       "    </tr>\n",
       "    <tr>\n",
       "      <th>1</th>\n",
       "      <td>35</td>\n",
       "      <td>23</td>\n",
       "      <td>Jan-24</td>\n",
       "      <td>0.822900</td>\n",
       "      <td>0.0</td>\n",
       "    </tr>\n",
       "    <tr>\n",
       "      <th>2</th>\n",
       "      <td>35</td>\n",
       "      <td>23</td>\n",
       "      <td>Jul-23</td>\n",
       "      <td>0.480500</td>\n",
       "      <td>0.0</td>\n",
       "    </tr>\n",
       "    <tr>\n",
       "      <th>3</th>\n",
       "      <td>35</td>\n",
       "      <td>23</td>\n",
       "      <td>Jul-24</td>\n",
       "      <td>0.326000</td>\n",
       "      <td>0.0</td>\n",
       "    </tr>\n",
       "    <tr>\n",
       "      <th>4</th>\n",
       "      <td>35</td>\n",
       "      <td>23</td>\n",
       "      <td>Oct-23</td>\n",
       "      <td>0.518000</td>\n",
       "      <td>0.0</td>\n",
       "    </tr>\n",
       "    <tr>\n",
       "      <th>...</th>\n",
       "      <td>...</td>\n",
       "      <td>...</td>\n",
       "      <td>...</td>\n",
       "      <td>...</td>\n",
       "      <td>...</td>\n",
       "    </tr>\n",
       "    <tr>\n",
       "      <th>67</th>\n",
       "      <td>38</td>\n",
       "      <td>25</td>\n",
       "      <td>Jan-24</td>\n",
       "      <td>0.909737</td>\n",
       "      <td>0.0</td>\n",
       "    </tr>\n",
       "    <tr>\n",
       "      <th>68</th>\n",
       "      <td>38</td>\n",
       "      <td>25</td>\n",
       "      <td>Jul-24</td>\n",
       "      <td>0.738810</td>\n",
       "      <td>0.0</td>\n",
       "    </tr>\n",
       "    <tr>\n",
       "      <th>69</th>\n",
       "      <td>38</td>\n",
       "      <td>26</td>\n",
       "      <td>Apr-24</td>\n",
       "      <td>0.804167</td>\n",
       "      <td>0.0</td>\n",
       "    </tr>\n",
       "    <tr>\n",
       "      <th>70</th>\n",
       "      <td>38</td>\n",
       "      <td>26</td>\n",
       "      <td>Jan-24</td>\n",
       "      <td>0.793750</td>\n",
       "      <td>0.0</td>\n",
       "    </tr>\n",
       "    <tr>\n",
       "      <th>71</th>\n",
       "      <td>38</td>\n",
       "      <td>26</td>\n",
       "      <td>Jul-24</td>\n",
       "      <td>0.843571</td>\n",
       "      <td>0.0</td>\n",
       "    </tr>\n",
       "  </tbody>\n",
       "</table>\n",
       "<p>72 rows × 5 columns</p>\n",
       "</div>"
      ],
      "text/plain": [
       "    plot_information_id  taxonomy_id month_monitoring  tree_height  tree_dbh\n",
       "0                    35           23           Apr-24     0.857000       0.0\n",
       "1                    35           23           Jan-24     0.822900       0.0\n",
       "2                    35           23           Jul-23     0.480500       0.0\n",
       "3                    35           23           Jul-24     0.326000       0.0\n",
       "4                    35           23           Oct-23     0.518000       0.0\n",
       "..                  ...          ...              ...          ...       ...\n",
       "67                   38           25           Jan-24     0.909737       0.0\n",
       "68                   38           25           Jul-24     0.738810       0.0\n",
       "69                   38           26           Apr-24     0.804167       0.0\n",
       "70                   38           26           Jan-24     0.793750       0.0\n",
       "71                   38           26           Jul-24     0.843571       0.0\n",
       "\n",
       "[72 rows x 5 columns]"
      ]
     },
     "execution_count": 49,
     "metadata": {},
     "output_type": "execute_result"
    }
   ],
   "source": [
    "proto_sampling_avgs"
   ]
  },
  {
   "cell_type": "code",
   "execution_count": 50,
   "metadata": {},
   "outputs": [],
   "source": [
    "sampling_avgs = fetch_table_to_df(conn, \"SELECT * FROM sampling_avgs\")"
   ]
  },
  {
   "cell_type": "code",
   "execution_count": 51,
   "metadata": {},
   "outputs": [],
   "source": [
    "yes = sampling_avgs.merge(proto_sampling_avgs)"
   ]
  },
  {
   "cell_type": "code",
   "execution_count": 52,
   "metadata": {},
   "outputs": [
    {
     "data": {
      "text/html": [
       "<div>\n",
       "<style scoped>\n",
       "    .dataframe tbody tr th:only-of-type {\n",
       "        vertical-align: middle;\n",
       "    }\n",
       "\n",
       "    .dataframe tbody tr th {\n",
       "        vertical-align: top;\n",
       "    }\n",
       "\n",
       "    .dataframe thead th {\n",
       "        text-align: right;\n",
       "    }\n",
       "</style>\n",
       "<table border=\"1\" class=\"dataframe\">\n",
       "  <thead>\n",
       "    <tr style=\"text-align: right;\">\n",
       "      <th></th>\n",
       "      <th>id</th>\n",
       "      <th>plot_information_id</th>\n",
       "      <th>tree_species</th>\n",
       "      <th>taxonomy_id</th>\n",
       "      <th>avg_h</th>\n",
       "      <th>avg_dbh</th>\n",
       "      <th>month_monitoring</th>\n",
       "      <th>created_at</th>\n",
       "      <th>updated_at</th>\n",
       "      <th>site_id</th>\n",
       "      <th>phase</th>\n",
       "      <th>tree_height</th>\n",
       "      <th>tree_dbh</th>\n",
       "    </tr>\n",
       "  </thead>\n",
       "  <tbody>\n",
       "    <tr>\n",
       "      <th>0</th>\n",
       "      <td>1</td>\n",
       "      <td>35</td>\n",
       "      <td>RA</td>\n",
       "      <td>23</td>\n",
       "      <td>0.481</td>\n",
       "      <td>None</td>\n",
       "      <td>Jul-23</td>\n",
       "      <td>2023-08-06 19:58:18</td>\n",
       "      <td>2023-08-06 19:58:18</td>\n",
       "      <td>None</td>\n",
       "      <td>1</td>\n",
       "      <td>0.480500</td>\n",
       "      <td>0.0</td>\n",
       "    </tr>\n",
       "    <tr>\n",
       "      <th>1</th>\n",
       "      <td>2</td>\n",
       "      <td>35</td>\n",
       "      <td>SC</td>\n",
       "      <td>30</td>\n",
       "      <td>0.296</td>\n",
       "      <td>None</td>\n",
       "      <td>Jul-23</td>\n",
       "      <td>2023-08-06 19:58:18</td>\n",
       "      <td>2023-08-06 19:58:18</td>\n",
       "      <td>None</td>\n",
       "      <td>1</td>\n",
       "      <td>0.295667</td>\n",
       "      <td>0.0</td>\n",
       "    </tr>\n",
       "    <tr>\n",
       "      <th>2</th>\n",
       "      <td>3</td>\n",
       "      <td>37</td>\n",
       "      <td>RA</td>\n",
       "      <td>23</td>\n",
       "      <td>0.399</td>\n",
       "      <td>None</td>\n",
       "      <td>Jul-23</td>\n",
       "      <td>2023-08-06 19:58:18</td>\n",
       "      <td>2023-08-06 19:58:18</td>\n",
       "      <td>None</td>\n",
       "      <td>1</td>\n",
       "      <td>0.399222</td>\n",
       "      <td>0.0</td>\n",
       "    </tr>\n",
       "    <tr>\n",
       "      <th>3</th>\n",
       "      <td>4</td>\n",
       "      <td>35</td>\n",
       "      <td>SA</td>\n",
       "      <td>27</td>\n",
       "      <td>0.358</td>\n",
       "      <td>None</td>\n",
       "      <td>Jul-23</td>\n",
       "      <td>2023-08-06 19:58:18</td>\n",
       "      <td>2023-08-06 19:58:18</td>\n",
       "      <td>None</td>\n",
       "      <td>1</td>\n",
       "      <td>0.358121</td>\n",
       "      <td>0.0</td>\n",
       "    </tr>\n",
       "    <tr>\n",
       "      <th>4</th>\n",
       "      <td>5</td>\n",
       "      <td>37</td>\n",
       "      <td>KC</td>\n",
       "      <td>25</td>\n",
       "      <td>0.826</td>\n",
       "      <td>None</td>\n",
       "      <td>Jul-23</td>\n",
       "      <td>2023-08-06 19:58:18</td>\n",
       "      <td>2023-08-06 19:58:18</td>\n",
       "      <td>None</td>\n",
       "      <td>1</td>\n",
       "      <td>0.826301</td>\n",
       "      <td>0.0</td>\n",
       "    </tr>\n",
       "    <tr>\n",
       "      <th>...</th>\n",
       "      <td>...</td>\n",
       "      <td>...</td>\n",
       "      <td>...</td>\n",
       "      <td>...</td>\n",
       "      <td>...</td>\n",
       "      <td>...</td>\n",
       "      <td>...</td>\n",
       "      <td>...</td>\n",
       "      <td>...</td>\n",
       "      <td>...</td>\n",
       "      <td>...</td>\n",
       "      <td>...</td>\n",
       "      <td>...</td>\n",
       "    </tr>\n",
       "    <tr>\n",
       "      <th>98</th>\n",
       "      <td>618</td>\n",
       "      <td>38</td>\n",
       "      <td>RA</td>\n",
       "      <td>23</td>\n",
       "      <td>0.424</td>\n",
       "      <td>None</td>\n",
       "      <td>Jul-24</td>\n",
       "      <td>2024-08-21 19:15:03</td>\n",
       "      <td>2024-08-21 19:15:03</td>\n",
       "      <td>None</td>\n",
       "      <td>1</td>\n",
       "      <td>0.403080</td>\n",
       "      <td>0.0</td>\n",
       "    </tr>\n",
       "    <tr>\n",
       "      <th>99</th>\n",
       "      <td>619</td>\n",
       "      <td>35</td>\n",
       "      <td>BG</td>\n",
       "      <td>24</td>\n",
       "      <td>0.556</td>\n",
       "      <td>None</td>\n",
       "      <td>Jul-24</td>\n",
       "      <td>2024-08-21 19:15:03</td>\n",
       "      <td>2024-08-21 19:15:03</td>\n",
       "      <td>None</td>\n",
       "      <td>1</td>\n",
       "      <td>0.165532</td>\n",
       "      <td>0.0</td>\n",
       "    </tr>\n",
       "    <tr>\n",
       "      <th>100</th>\n",
       "      <td>606</td>\n",
       "      <td>36</td>\n",
       "      <td>SA</td>\n",
       "      <td>27</td>\n",
       "      <td>None</td>\n",
       "      <td>None</td>\n",
       "      <td>Apr-24</td>\n",
       "      <td>2024-05-12 19:28:13</td>\n",
       "      <td>2024-08-21 19:15:03</td>\n",
       "      <td>None</td>\n",
       "      <td>1</td>\n",
       "      <td>0.000000</td>\n",
       "      <td>0.0</td>\n",
       "    </tr>\n",
       "    <tr>\n",
       "      <th>101</th>\n",
       "      <td>620</td>\n",
       "      <td>38</td>\n",
       "      <td>KC</td>\n",
       "      <td>25</td>\n",
       "      <td>0.970</td>\n",
       "      <td>None</td>\n",
       "      <td>Jul-24</td>\n",
       "      <td>2024-08-21 19:15:03</td>\n",
       "      <td>2024-08-21 19:15:03</td>\n",
       "      <td>None</td>\n",
       "      <td>1</td>\n",
       "      <td>0.738810</td>\n",
       "      <td>0.0</td>\n",
       "    </tr>\n",
       "    <tr>\n",
       "      <th>102</th>\n",
       "      <td>622</td>\n",
       "      <td>35</td>\n",
       "      <td>RA</td>\n",
       "      <td>23</td>\n",
       "      <td>1.087</td>\n",
       "      <td>None</td>\n",
       "      <td>Jul-24</td>\n",
       "      <td>2024-08-21 19:15:03</td>\n",
       "      <td>2024-08-21 19:15:03</td>\n",
       "      <td>None</td>\n",
       "      <td>1</td>\n",
       "      <td>0.326000</td>\n",
       "      <td>0.0</td>\n",
       "    </tr>\n",
       "  </tbody>\n",
       "</table>\n",
       "<p>103 rows × 13 columns</p>\n",
       "</div>"
      ],
      "text/plain": [
       "      id  plot_information_id tree_species  taxonomy_id  avg_h avg_dbh  \\\n",
       "0      1                   35           RA           23  0.481    None   \n",
       "1      2                   35           SC           30  0.296    None   \n",
       "2      3                   37           RA           23  0.399    None   \n",
       "3      4                   35           SA           27  0.358    None   \n",
       "4      5                   37           KC           25  0.826    None   \n",
       "..   ...                  ...          ...          ...    ...     ...   \n",
       "98   618                   38           RA           23  0.424    None   \n",
       "99   619                   35           BG           24  0.556    None   \n",
       "100  606                   36           SA           27   None    None   \n",
       "101  620                   38           KC           25  0.970    None   \n",
       "102  622                   35           RA           23  1.087    None   \n",
       "\n",
       "    month_monitoring          created_at          updated_at site_id  phase  \\\n",
       "0             Jul-23 2023-08-06 19:58:18 2023-08-06 19:58:18    None      1   \n",
       "1             Jul-23 2023-08-06 19:58:18 2023-08-06 19:58:18    None      1   \n",
       "2             Jul-23 2023-08-06 19:58:18 2023-08-06 19:58:18    None      1   \n",
       "3             Jul-23 2023-08-06 19:58:18 2023-08-06 19:58:18    None      1   \n",
       "4             Jul-23 2023-08-06 19:58:18 2023-08-06 19:58:18    None      1   \n",
       "..               ...                 ...                 ...     ...    ...   \n",
       "98            Jul-24 2024-08-21 19:15:03 2024-08-21 19:15:03    None      1   \n",
       "99            Jul-24 2024-08-21 19:15:03 2024-08-21 19:15:03    None      1   \n",
       "100           Apr-24 2024-05-12 19:28:13 2024-08-21 19:15:03    None      1   \n",
       "101           Jul-24 2024-08-21 19:15:03 2024-08-21 19:15:03    None      1   \n",
       "102           Jul-24 2024-08-21 19:15:03 2024-08-21 19:15:03    None      1   \n",
       "\n",
       "     tree_height  tree_dbh  \n",
       "0       0.480500       0.0  \n",
       "1       0.295667       0.0  \n",
       "2       0.399222       0.0  \n",
       "3       0.358121       0.0  \n",
       "4       0.826301       0.0  \n",
       "..           ...       ...  \n",
       "98      0.403080       0.0  \n",
       "99      0.165532       0.0  \n",
       "100     0.000000       0.0  \n",
       "101     0.738810       0.0  \n",
       "102     0.326000       0.0  \n",
       "\n",
       "[103 rows x 13 columns]"
      ]
     },
     "execution_count": 52,
     "metadata": {},
     "output_type": "execute_result"
    }
   ],
   "source": [
    "yes"
   ]
  },
  {
   "cell_type": "code",
   "execution_count": 53,
   "metadata": {},
   "outputs": [
    {
     "data": {
      "text/plain": [
       "avg_h  tree_height\n",
       "0.140  0.000000       2\n",
       "0.617  0.617333       1\n",
       "0.761  0.761000       1\n",
       "0.728  0.624410       1\n",
       "0.718  0.000000       1\n",
       "                     ..\n",
       "0.399  0.341785       1\n",
       "0.376  0.822900       1\n",
       "       0.518000       1\n",
       "0.358  0.729463       1\n",
       "1.163  1.163333       1\n",
       "Name: count, Length: 94, dtype: int64"
      ]
     },
     "execution_count": 53,
     "metadata": {},
     "output_type": "execute_result"
    }
   ],
   "source": [
    "yes[['avg_h','tree_height']].value_counts()"
   ]
  },
  {
   "cell_type": "markdown",
   "metadata": {},
   "source": [
    "# Data Analytics"
   ]
  },
  {
   "cell_type": "code",
   "execution_count": 181,
   "metadata": {},
   "outputs": [],
   "source": [
    "data_analytics = fetch_table_to_df(conn, \"SELECT * FROM data_analytics\")"
   ]
  },
  {
   "cell_type": "code",
   "execution_count": 182,
   "metadata": {},
   "outputs": [
    {
     "data": {
      "text/plain": [
       "site_id  plot_id  taxonomy_id\n",
       "AA       AA01     0              8\n",
       "         AA05     0              8\n",
       "PG       PG-0     0              8\n",
       "         PG-1     0              8\n",
       "AA       AA06     0              8\n",
       "PG       PG-3     0              8\n",
       "AA       AA04     0              8\n",
       "         AA03     0              8\n",
       "         AA02     0              8\n",
       "SS       SS-3     0              7\n",
       "         SS-1     0              7\n",
       "         SS-2     0              7\n",
       "B        B-1      0              6\n",
       "P        P-1      0              6\n",
       "K        K-1      0              6\n",
       "AA       AA01     4              5\n",
       "ER       ER-01    72             5\n",
       "P        P-1      18             5\n",
       "SS       SS-3     23             5\n",
       "LQ       LQ-01    64             5\n",
       "SS       SS-1     23             5\n",
       "CL       CL-09    64             5\n",
       "         CL-10    64             5\n",
       "         CL-04    78             5\n",
       "         CL-07    78             5\n",
       "         CL-06    64             5\n",
       "         CL-03    70             5\n",
       "         CL-02    64             5\n",
       "         CL-01    64             5\n",
       "BB       BB-06    64             5\n",
       "         BB-05    78             5\n",
       "         BB-04    64             5\n",
       "         BB-03    64             5\n",
       "         BB-02    64             5\n",
       "         BB-01    64             5\n",
       "AA       AA06     7              5\n",
       "         AA05     7              5\n",
       "         AA04     7              5\n",
       "SS       SS-2     27             5\n",
       "         SS-4     23             4\n",
       "KAP      KAP-02   0              4\n",
       "         KAP-03   0              4\n",
       "         KAP-01   0              4\n",
       "SS       SS-1     30             3\n",
       "                  27             3\n",
       "         SS-2     28             3\n",
       "                  29             3\n",
       "                  30             3\n",
       "         SS-1     24             3\n",
       "         SS-3     24             3\n",
       "                  25             3\n",
       "                  26             3\n",
       "         SS-4     0              3\n",
       "                  24             2\n",
       "                  25             2\n",
       "                  26             2\n",
       "Name: count, dtype: int64"
      ]
     },
     "execution_count": 182,
     "metadata": {},
     "output_type": "execute_result"
    }
   ],
   "source": [
    "data_analytics[['site_id','plot_id','taxonomy_id']].value_counts()"
   ]
  },
  {
   "cell_type": "code",
   "execution_count": 183,
   "metadata": {},
   "outputs": [
    {
     "data": {
      "text/plain": [
       "array(['rewetting_area', 'cseq_revegetation_annualy',\n",
       "       'cseq_revegetation_accumulative', 'revegetation_area', 'peat_area',\n",
       "       'cseq_rewetting_annualy', 'cseq_rewetting_accumulative',\n",
       "       'mineral_area', 'avg_growth_dbh', 'num_tree_species',\n",
       "       'avg_growth_height', 'subsidence_a_all', 'subsidence_a',\n",
       "       'subsidence_c', 'subsidence_c_all', 'restoration_area'],\n",
       "      dtype=object)"
      ]
     },
     "execution_count": 183,
     "metadata": {},
     "output_type": "execute_result"
    }
   ],
   "source": [
    "data_analytics.key.unique()"
   ]
  },
  {
   "cell_type": "code",
   "execution_count": 184,
   "metadata": {},
   "outputs": [
    {
     "data": {
      "text/html": [
       "<div>\n",
       "<style scoped>\n",
       "    .dataframe tbody tr th:only-of-type {\n",
       "        vertical-align: middle;\n",
       "    }\n",
       "\n",
       "    .dataframe tbody tr th {\n",
       "        vertical-align: top;\n",
       "    }\n",
       "\n",
       "    .dataframe thead th {\n",
       "        text-align: right;\n",
       "    }\n",
       "</style>\n",
       "<table border=\"1\" class=\"dataframe\">\n",
       "  <thead>\n",
       "    <tr style=\"text-align: right;\">\n",
       "      <th></th>\n",
       "      <th>id</th>\n",
       "      <th>created_at</th>\n",
       "      <th>updated_at</th>\n",
       "      <th>site_id</th>\n",
       "      <th>plot_id</th>\n",
       "      <th>taxonomy_id</th>\n",
       "      <th>monitoring_id</th>\n",
       "      <th>key</th>\n",
       "      <th>value</th>\n",
       "    </tr>\n",
       "  </thead>\n",
       "  <tbody>\n",
       "    <tr>\n",
       "      <th>0</th>\n",
       "      <td>1152</td>\n",
       "      <td>2023-08-27 15:12:48</td>\n",
       "      <td>2023-08-27 15:12:48</td>\n",
       "      <td>B</td>\n",
       "      <td>B-1</td>\n",
       "      <td>0</td>\n",
       "      <td>0</td>\n",
       "      <td>rewetting_area</td>\n",
       "      <td>0.00000</td>\n",
       "    </tr>\n",
       "    <tr>\n",
       "      <th>1</th>\n",
       "      <td>125</td>\n",
       "      <td>2023-04-16 21:36:37</td>\n",
       "      <td>2023-05-23 04:20:48</td>\n",
       "      <td>AA</td>\n",
       "      <td>AA06</td>\n",
       "      <td>7</td>\n",
       "      <td>0</td>\n",
       "      <td>cseq_revegetation_annualy</td>\n",
       "      <td>0.00203</td>\n",
       "    </tr>\n",
       "    <tr>\n",
       "      <th>2</th>\n",
       "      <td>126</td>\n",
       "      <td>2023-04-16 21:36:37</td>\n",
       "      <td>2023-05-23 04:20:48</td>\n",
       "      <td>AA</td>\n",
       "      <td>AA06</td>\n",
       "      <td>7</td>\n",
       "      <td>0</td>\n",
       "      <td>cseq_revegetation_accumulative</td>\n",
       "      <td>0.00904</td>\n",
       "    </tr>\n",
       "    <tr>\n",
       "      <th>3</th>\n",
       "      <td>1153</td>\n",
       "      <td>2023-08-27 15:12:48</td>\n",
       "      <td>2023-08-27 15:12:48</td>\n",
       "      <td>B</td>\n",
       "      <td>B-1</td>\n",
       "      <td>0</td>\n",
       "      <td>0</td>\n",
       "      <td>revegetation_area</td>\n",
       "      <td>2.05000</td>\n",
       "    </tr>\n",
       "    <tr>\n",
       "      <th>4</th>\n",
       "      <td>1154</td>\n",
       "      <td>2023-08-27 15:12:48</td>\n",
       "      <td>2023-08-27 15:12:48</td>\n",
       "      <td>B</td>\n",
       "      <td>B-1</td>\n",
       "      <td>0</td>\n",
       "      <td>0</td>\n",
       "      <td>peat_area</td>\n",
       "      <td>2.05000</td>\n",
       "    </tr>\n",
       "    <tr>\n",
       "      <th>...</th>\n",
       "      <td>...</td>\n",
       "      <td>...</td>\n",
       "      <td>...</td>\n",
       "      <td>...</td>\n",
       "      <td>...</td>\n",
       "      <td>...</td>\n",
       "      <td>...</td>\n",
       "      <td>...</td>\n",
       "      <td>...</td>\n",
       "    </tr>\n",
       "    <tr>\n",
       "      <th>280</th>\n",
       "      <td>1372</td>\n",
       "      <td>2024-08-21 19:15:12</td>\n",
       "      <td>2024-08-21 19:15:12</td>\n",
       "      <td>SS</td>\n",
       "      <td>SS-4</td>\n",
       "      <td>23</td>\n",
       "      <td>0</td>\n",
       "      <td>cseq_revegetation_accumulative</td>\n",
       "      <td>12.48891</td>\n",
       "    </tr>\n",
       "    <tr>\n",
       "      <th>281</th>\n",
       "      <td>1345</td>\n",
       "      <td>2023-11-14 03:38:38</td>\n",
       "      <td>2024-08-21 19:15:12</td>\n",
       "      <td>SS</td>\n",
       "      <td>SS-1</td>\n",
       "      <td>0</td>\n",
       "      <td>0</td>\n",
       "      <td>num_tree_species</td>\n",
       "      <td>651.00000</td>\n",
       "    </tr>\n",
       "    <tr>\n",
       "      <th>282</th>\n",
       "      <td>423</td>\n",
       "      <td>2023-08-06 15:46:16</td>\n",
       "      <td>2024-08-21 19:15:12</td>\n",
       "      <td>SS</td>\n",
       "      <td>SS-1</td>\n",
       "      <td>24</td>\n",
       "      <td>0</td>\n",
       "      <td>num_tree_species</td>\n",
       "      <td>342.00000</td>\n",
       "    </tr>\n",
       "    <tr>\n",
       "      <th>283</th>\n",
       "      <td>431</td>\n",
       "      <td>2023-08-06 15:46:16</td>\n",
       "      <td>2024-08-21 19:15:12</td>\n",
       "      <td>SS</td>\n",
       "      <td>SS-3</td>\n",
       "      <td>26</td>\n",
       "      <td>0</td>\n",
       "      <td>num_tree_species</td>\n",
       "      <td>11308.00000</td>\n",
       "    </tr>\n",
       "    <tr>\n",
       "      <th>284</th>\n",
       "      <td>1357</td>\n",
       "      <td>2024-03-04 09:25:46</td>\n",
       "      <td>2024-08-21 19:15:12</td>\n",
       "      <td>SS</td>\n",
       "      <td>SS-4</td>\n",
       "      <td>23</td>\n",
       "      <td>0</td>\n",
       "      <td>num_tree_species</td>\n",
       "      <td>5765.00000</td>\n",
       "    </tr>\n",
       "  </tbody>\n",
       "</table>\n",
       "<p>285 rows × 9 columns</p>\n",
       "</div>"
      ],
      "text/plain": [
       "       id          created_at          updated_at site_id plot_id  \\\n",
       "0    1152 2023-08-27 15:12:48 2023-08-27 15:12:48       B     B-1   \n",
       "1     125 2023-04-16 21:36:37 2023-05-23 04:20:48      AA    AA06   \n",
       "2     126 2023-04-16 21:36:37 2023-05-23 04:20:48      AA    AA06   \n",
       "3    1153 2023-08-27 15:12:48 2023-08-27 15:12:48       B     B-1   \n",
       "4    1154 2023-08-27 15:12:48 2023-08-27 15:12:48       B     B-1   \n",
       "..    ...                 ...                 ...     ...     ...   \n",
       "280  1372 2024-08-21 19:15:12 2024-08-21 19:15:12      SS    SS-4   \n",
       "281  1345 2023-11-14 03:38:38 2024-08-21 19:15:12      SS    SS-1   \n",
       "282   423 2023-08-06 15:46:16 2024-08-21 19:15:12      SS    SS-1   \n",
       "283   431 2023-08-06 15:46:16 2024-08-21 19:15:12      SS    SS-3   \n",
       "284  1357 2024-03-04 09:25:46 2024-08-21 19:15:12      SS    SS-4   \n",
       "\n",
       "     taxonomy_id  monitoring_id                             key        value  \n",
       "0              0              0                  rewetting_area      0.00000  \n",
       "1              7              0       cseq_revegetation_annualy      0.00203  \n",
       "2              7              0  cseq_revegetation_accumulative      0.00904  \n",
       "3              0              0               revegetation_area      2.05000  \n",
       "4              0              0                       peat_area      2.05000  \n",
       "..           ...            ...                             ...          ...  \n",
       "280           23              0  cseq_revegetation_accumulative     12.48891  \n",
       "281            0              0                num_tree_species    651.00000  \n",
       "282           24              0                num_tree_species    342.00000  \n",
       "283           26              0                num_tree_species  11308.00000  \n",
       "284           23              0                num_tree_species   5765.00000  \n",
       "\n",
       "[285 rows x 9 columns]"
      ]
     },
     "execution_count": 184,
     "metadata": {},
     "output_type": "execute_result"
    }
   ],
   "source": [
    "data_analytics"
   ]
  },
  {
   "cell_type": "code",
   "execution_count": 185,
   "metadata": {},
   "outputs": [
    {
     "data": {
      "text/plain": [
       "tree_species\n",
       "RA     2636\n",
       "BG     1142\n",
       "RM      124\n",
       "KC      122\n",
       "n/a       2\n",
       "Name: count, dtype: int64"
      ]
     },
     "execution_count": 185,
     "metadata": {},
     "output_type": "execute_result"
    }
   ],
   "source": [
    "tree_samplings[tree_samplings['plot_information_id'] == 38]['tree_species'].value_counts()"
   ]
  },
  {
   "cell_type": "code",
   "execution_count": 186,
   "metadata": {},
   "outputs": [
    {
     "data": {
      "text/html": [
       "<div>\n",
       "<style scoped>\n",
       "    .dataframe tbody tr th:only-of-type {\n",
       "        vertical-align: middle;\n",
       "    }\n",
       "\n",
       "    .dataframe tbody tr th {\n",
       "        vertical-align: top;\n",
       "    }\n",
       "\n",
       "    .dataframe thead th {\n",
       "        text-align: right;\n",
       "    }\n",
       "</style>\n",
       "<table border=\"1\" class=\"dataframe\">\n",
       "  <thead>\n",
       "    <tr style=\"text-align: right;\">\n",
       "      <th></th>\n",
       "      <th>id</th>\n",
       "      <th>created_at</th>\n",
       "      <th>updated_at</th>\n",
       "      <th>site_id</th>\n",
       "      <th>plot_id</th>\n",
       "      <th>taxonomy_id</th>\n",
       "      <th>monitoring_id</th>\n",
       "      <th>key</th>\n",
       "      <th>value</th>\n",
       "    </tr>\n",
       "  </thead>\n",
       "  <tbody>\n",
       "    <tr>\n",
       "      <th>254</th>\n",
       "      <td>1355</td>\n",
       "      <td>2024-03-04 09:25:45</td>\n",
       "      <td>2024-05-13 12:10:41</td>\n",
       "      <td>SS</td>\n",
       "      <td>SS-4</td>\n",
       "      <td>0</td>\n",
       "      <td>0</td>\n",
       "      <td>cseq_revegetation_accumulative</td>\n",
       "      <td>7.84775</td>\n",
       "    </tr>\n",
       "    <tr>\n",
       "      <th>258</th>\n",
       "      <td>1354</td>\n",
       "      <td>2024-03-04 09:25:45</td>\n",
       "      <td>2024-05-13 12:10:41</td>\n",
       "      <td>SS</td>\n",
       "      <td>SS-4</td>\n",
       "      <td>0</td>\n",
       "      <td>0</td>\n",
       "      <td>cseq_revegetation_annualy</td>\n",
       "      <td>6.52490</td>\n",
       "    </tr>\n",
       "    <tr>\n",
       "      <th>266</th>\n",
       "      <td>1356</td>\n",
       "      <td>2024-03-04 09:25:46</td>\n",
       "      <td>2024-08-21 19:15:12</td>\n",
       "      <td>SS</td>\n",
       "      <td>SS-4</td>\n",
       "      <td>0</td>\n",
       "      <td>0</td>\n",
       "      <td>num_tree_species</td>\n",
       "      <td>7517.00000</td>\n",
       "    </tr>\n",
       "    <tr>\n",
       "      <th>267</th>\n",
       "      <td>1358</td>\n",
       "      <td>2024-03-04 09:25:46</td>\n",
       "      <td>2024-08-21 19:15:12</td>\n",
       "      <td>SS</td>\n",
       "      <td>SS-4</td>\n",
       "      <td>24</td>\n",
       "      <td>0</td>\n",
       "      <td>num_tree_species</td>\n",
       "      <td>1358.00000</td>\n",
       "    </tr>\n",
       "    <tr>\n",
       "      <th>268</th>\n",
       "      <td>1359</td>\n",
       "      <td>2024-03-04 09:25:46</td>\n",
       "      <td>2024-08-21 19:15:12</td>\n",
       "      <td>SS</td>\n",
       "      <td>SS-4</td>\n",
       "      <td>25</td>\n",
       "      <td>0</td>\n",
       "      <td>num_tree_species</td>\n",
       "      <td>142.00000</td>\n",
       "    </tr>\n",
       "    <tr>\n",
       "      <th>269</th>\n",
       "      <td>1360</td>\n",
       "      <td>2024-03-04 09:25:46</td>\n",
       "      <td>2024-08-21 19:15:12</td>\n",
       "      <td>SS</td>\n",
       "      <td>SS-4</td>\n",
       "      <td>26</td>\n",
       "      <td>0</td>\n",
       "      <td>num_tree_species</td>\n",
       "      <td>252.00000</td>\n",
       "    </tr>\n",
       "    <tr>\n",
       "      <th>272</th>\n",
       "      <td>1361</td>\n",
       "      <td>2024-03-04 09:25:46</td>\n",
       "      <td>2024-08-21 19:15:12</td>\n",
       "      <td>SS</td>\n",
       "      <td>SS-4</td>\n",
       "      <td>26</td>\n",
       "      <td>0</td>\n",
       "      <td>avg_growth_height</td>\n",
       "      <td>0.14038</td>\n",
       "    </tr>\n",
       "    <tr>\n",
       "      <th>273</th>\n",
       "      <td>1362</td>\n",
       "      <td>2024-03-04 09:25:46</td>\n",
       "      <td>2024-08-21 19:15:12</td>\n",
       "      <td>SS</td>\n",
       "      <td>SS-4</td>\n",
       "      <td>25</td>\n",
       "      <td>0</td>\n",
       "      <td>avg_growth_height</td>\n",
       "      <td>0.12033</td>\n",
       "    </tr>\n",
       "    <tr>\n",
       "      <th>274</th>\n",
       "      <td>1363</td>\n",
       "      <td>2024-03-04 09:25:46</td>\n",
       "      <td>2024-08-21 19:15:12</td>\n",
       "      <td>SS</td>\n",
       "      <td>SS-4</td>\n",
       "      <td>23</td>\n",
       "      <td>0</td>\n",
       "      <td>avg_growth_height</td>\n",
       "      <td>0.35698</td>\n",
       "    </tr>\n",
       "    <tr>\n",
       "      <th>275</th>\n",
       "      <td>1364</td>\n",
       "      <td>2024-03-04 09:25:46</td>\n",
       "      <td>2024-08-21 19:15:12</td>\n",
       "      <td>SS</td>\n",
       "      <td>SS-4</td>\n",
       "      <td>24</td>\n",
       "      <td>0</td>\n",
       "      <td>avg_growth_height</td>\n",
       "      <td>0.29280</td>\n",
       "    </tr>\n",
       "    <tr>\n",
       "      <th>279</th>\n",
       "      <td>1371</td>\n",
       "      <td>2024-08-21 19:15:12</td>\n",
       "      <td>2024-08-21 19:15:12</td>\n",
       "      <td>SS</td>\n",
       "      <td>SS-4</td>\n",
       "      <td>23</td>\n",
       "      <td>0</td>\n",
       "      <td>cseq_revegetation_annualy</td>\n",
       "      <td>8.45724</td>\n",
       "    </tr>\n",
       "    <tr>\n",
       "      <th>280</th>\n",
       "      <td>1372</td>\n",
       "      <td>2024-08-21 19:15:12</td>\n",
       "      <td>2024-08-21 19:15:12</td>\n",
       "      <td>SS</td>\n",
       "      <td>SS-4</td>\n",
       "      <td>23</td>\n",
       "      <td>0</td>\n",
       "      <td>cseq_revegetation_accumulative</td>\n",
       "      <td>12.48891</td>\n",
       "    </tr>\n",
       "    <tr>\n",
       "      <th>284</th>\n",
       "      <td>1357</td>\n",
       "      <td>2024-03-04 09:25:46</td>\n",
       "      <td>2024-08-21 19:15:12</td>\n",
       "      <td>SS</td>\n",
       "      <td>SS-4</td>\n",
       "      <td>23</td>\n",
       "      <td>0</td>\n",
       "      <td>num_tree_species</td>\n",
       "      <td>5765.00000</td>\n",
       "    </tr>\n",
       "  </tbody>\n",
       "</table>\n",
       "</div>"
      ],
      "text/plain": [
       "       id          created_at          updated_at site_id plot_id  \\\n",
       "254  1355 2024-03-04 09:25:45 2024-05-13 12:10:41      SS    SS-4   \n",
       "258  1354 2024-03-04 09:25:45 2024-05-13 12:10:41      SS    SS-4   \n",
       "266  1356 2024-03-04 09:25:46 2024-08-21 19:15:12      SS    SS-4   \n",
       "267  1358 2024-03-04 09:25:46 2024-08-21 19:15:12      SS    SS-4   \n",
       "268  1359 2024-03-04 09:25:46 2024-08-21 19:15:12      SS    SS-4   \n",
       "269  1360 2024-03-04 09:25:46 2024-08-21 19:15:12      SS    SS-4   \n",
       "272  1361 2024-03-04 09:25:46 2024-08-21 19:15:12      SS    SS-4   \n",
       "273  1362 2024-03-04 09:25:46 2024-08-21 19:15:12      SS    SS-4   \n",
       "274  1363 2024-03-04 09:25:46 2024-08-21 19:15:12      SS    SS-4   \n",
       "275  1364 2024-03-04 09:25:46 2024-08-21 19:15:12      SS    SS-4   \n",
       "279  1371 2024-08-21 19:15:12 2024-08-21 19:15:12      SS    SS-4   \n",
       "280  1372 2024-08-21 19:15:12 2024-08-21 19:15:12      SS    SS-4   \n",
       "284  1357 2024-03-04 09:25:46 2024-08-21 19:15:12      SS    SS-4   \n",
       "\n",
       "     taxonomy_id  monitoring_id                             key       value  \n",
       "254            0              0  cseq_revegetation_accumulative     7.84775  \n",
       "258            0              0       cseq_revegetation_annualy     6.52490  \n",
       "266            0              0                num_tree_species  7517.00000  \n",
       "267           24              0                num_tree_species  1358.00000  \n",
       "268           25              0                num_tree_species   142.00000  \n",
       "269           26              0                num_tree_species   252.00000  \n",
       "272           26              0               avg_growth_height     0.14038  \n",
       "273           25              0               avg_growth_height     0.12033  \n",
       "274           23              0               avg_growth_height     0.35698  \n",
       "275           24              0               avg_growth_height     0.29280  \n",
       "279           23              0       cseq_revegetation_annualy     8.45724  \n",
       "280           23              0  cseq_revegetation_accumulative    12.48891  \n",
       "284           23              0                num_tree_species  5765.00000  "
      ]
     },
     "execution_count": 186,
     "metadata": {},
     "output_type": "execute_result"
    }
   ],
   "source": [
    "data_analytics[data_analytics['plot_id'] == 'SS-4']"
   ]
  },
  {
   "cell_type": "markdown",
   "metadata": {},
   "source": [
    "## Update tree_monitorings components"
   ]
  },
  {
   "cell_type": "code",
   "execution_count": 187,
   "metadata": {},
   "outputs": [],
   "source": [
    "tree_monitorings['plot_id'] = tree_monitorings['tree_id'].apply(lambda x: [y for y in plot_informations['plot_id'] if y in x]).str.get(0)"
   ]
  },
  {
   "cell_type": "code",
   "execution_count": 188,
   "metadata": {},
   "outputs": [],
   "source": [
    "site_dict = site_informations.set_index('id')['site_id'].to_dict() \n",
    "\n",
    "tree_monitorings['site_id'] = [plot_informations.loc[plot_informations['plot_id'] == plot_id, 'site_information_id'].values[0] \n",
    "                if plot_id in plot_informations['plot_id'].values else None\n",
    "                for plot_id in tree_monitorings['plot_id']]\n",
    "\n",
    "tree_monitorings['site_id'] = tree_monitorings['site_id'].map(site_dict)"
   ]
  },
  {
   "cell_type": "code",
   "execution_count": 189,
   "metadata": {},
   "outputs": [],
   "source": [
    "monitoring_height_mean = pd.Series.to_frame(tree_monitorings.groupby(['site_id', 'plot_id'])['tree_height'].agg(\"mean\")).reset_index()"
   ]
  },
  {
   "cell_type": "code",
   "execution_count": 190,
   "metadata": {},
   "outputs": [],
   "source": [
    "monitoring_dbh_mean = pd.Series.to_frame(tree_monitorings.groupby(['site_id', 'plot_id'])['tree_dbh'].agg(\"mean\")).reset_index()"
   ]
  },
  {
   "cell_type": "code",
   "execution_count": 194,
   "metadata": {},
   "outputs": [
    {
     "ename": "KeyError",
     "evalue": "'site_id'",
     "output_type": "error",
     "traceback": [
      "\u001b[1;31m---------------------------------------------------------------------------\u001b[0m",
      "\u001b[1;31mKeyError\u001b[0m                                  Traceback (most recent call last)",
      "Cell \u001b[1;32mIn[194], line 1\u001b[0m\n\u001b[1;32m----> 1\u001b[0m monitoring_result_mean \u001b[38;5;241m=\u001b[39m pd\u001b[38;5;241m.\u001b[39mSeries\u001b[38;5;241m.\u001b[39mto_frame(\u001b[43mtree_biomasses_python\u001b[49m\u001b[38;5;241;43m.\u001b[39;49m\u001b[43mgroupby\u001b[49m\u001b[43m(\u001b[49m\u001b[43m[\u001b[49m\u001b[38;5;124;43m'\u001b[39;49m\u001b[38;5;124;43msite_id\u001b[39;49m\u001b[38;5;124;43m'\u001b[39;49m\u001b[43m,\u001b[49m\u001b[38;5;124;43m'\u001b[39;49m\u001b[38;5;124;43mplot_id\u001b[39;49m\u001b[38;5;124;43m'\u001b[39;49m\u001b[43m]\u001b[49m\u001b[43m)\u001b[49m[\u001b[38;5;124m'\u001b[39m\u001b[38;5;124mcarbon\u001b[39m\u001b[38;5;124m'\u001b[39m]\u001b[38;5;241m.\u001b[39magg(\u001b[38;5;124m'\u001b[39m\u001b[38;5;124mmean\u001b[39m\u001b[38;5;124m'\u001b[39m))\u001b[38;5;241m.\u001b[39mreset_index()\n",
      "File \u001b[1;32mc:\\Users\\zrmuc\\Codes\\testing\\lib\\site-packages\\pandas\\core\\frame.py:8869\u001b[0m, in \u001b[0;36mDataFrame.groupby\u001b[1;34m(self, by, axis, level, as_index, sort, group_keys, observed, dropna)\u001b[0m\n\u001b[0;32m   8866\u001b[0m \u001b[38;5;28;01mif\u001b[39;00m level \u001b[38;5;129;01mis\u001b[39;00m \u001b[38;5;28;01mNone\u001b[39;00m \u001b[38;5;129;01mand\u001b[39;00m by \u001b[38;5;129;01mis\u001b[39;00m \u001b[38;5;28;01mNone\u001b[39;00m:\n\u001b[0;32m   8867\u001b[0m     \u001b[38;5;28;01mraise\u001b[39;00m \u001b[38;5;167;01mTypeError\u001b[39;00m(\u001b[38;5;124m\"\u001b[39m\u001b[38;5;124mYou have to supply one of \u001b[39m\u001b[38;5;124m'\u001b[39m\u001b[38;5;124mby\u001b[39m\u001b[38;5;124m'\u001b[39m\u001b[38;5;124m and \u001b[39m\u001b[38;5;124m'\u001b[39m\u001b[38;5;124mlevel\u001b[39m\u001b[38;5;124m'\u001b[39m\u001b[38;5;124m\"\u001b[39m)\n\u001b[1;32m-> 8869\u001b[0m \u001b[38;5;28;01mreturn\u001b[39;00m \u001b[43mDataFrameGroupBy\u001b[49m\u001b[43m(\u001b[49m\n\u001b[0;32m   8870\u001b[0m \u001b[43m    \u001b[49m\u001b[43mobj\u001b[49m\u001b[38;5;241;43m=\u001b[39;49m\u001b[38;5;28;43mself\u001b[39;49m\u001b[43m,\u001b[49m\n\u001b[0;32m   8871\u001b[0m \u001b[43m    \u001b[49m\u001b[43mkeys\u001b[49m\u001b[38;5;241;43m=\u001b[39;49m\u001b[43mby\u001b[49m\u001b[43m,\u001b[49m\n\u001b[0;32m   8872\u001b[0m \u001b[43m    \u001b[49m\u001b[43maxis\u001b[49m\u001b[38;5;241;43m=\u001b[39;49m\u001b[43maxis\u001b[49m\u001b[43m,\u001b[49m\n\u001b[0;32m   8873\u001b[0m \u001b[43m    \u001b[49m\u001b[43mlevel\u001b[49m\u001b[38;5;241;43m=\u001b[39;49m\u001b[43mlevel\u001b[49m\u001b[43m,\u001b[49m\n\u001b[0;32m   8874\u001b[0m \u001b[43m    \u001b[49m\u001b[43mas_index\u001b[49m\u001b[38;5;241;43m=\u001b[39;49m\u001b[43mas_index\u001b[49m\u001b[43m,\u001b[49m\n\u001b[0;32m   8875\u001b[0m \u001b[43m    \u001b[49m\u001b[43msort\u001b[49m\u001b[38;5;241;43m=\u001b[39;49m\u001b[43msort\u001b[49m\u001b[43m,\u001b[49m\n\u001b[0;32m   8876\u001b[0m \u001b[43m    \u001b[49m\u001b[43mgroup_keys\u001b[49m\u001b[38;5;241;43m=\u001b[39;49m\u001b[43mgroup_keys\u001b[49m\u001b[43m,\u001b[49m\n\u001b[0;32m   8877\u001b[0m \u001b[43m    \u001b[49m\u001b[43mobserved\u001b[49m\u001b[38;5;241;43m=\u001b[39;49m\u001b[43mobserved\u001b[49m\u001b[43m,\u001b[49m\n\u001b[0;32m   8878\u001b[0m \u001b[43m    \u001b[49m\u001b[43mdropna\u001b[49m\u001b[38;5;241;43m=\u001b[39;49m\u001b[43mdropna\u001b[49m\u001b[43m,\u001b[49m\n\u001b[0;32m   8879\u001b[0m \u001b[43m\u001b[49m\u001b[43m)\u001b[49m\n",
      "File \u001b[1;32mc:\\Users\\zrmuc\\Codes\\testing\\lib\\site-packages\\pandas\\core\\groupby\\groupby.py:1278\u001b[0m, in \u001b[0;36mGroupBy.__init__\u001b[1;34m(self, obj, keys, axis, level, grouper, exclusions, selection, as_index, sort, group_keys, observed, dropna)\u001b[0m\n\u001b[0;32m   1275\u001b[0m \u001b[38;5;28mself\u001b[39m\u001b[38;5;241m.\u001b[39mdropna \u001b[38;5;241m=\u001b[39m dropna\n\u001b[0;32m   1277\u001b[0m \u001b[38;5;28;01mif\u001b[39;00m grouper \u001b[38;5;129;01mis\u001b[39;00m \u001b[38;5;28;01mNone\u001b[39;00m:\n\u001b[1;32m-> 1278\u001b[0m     grouper, exclusions, obj \u001b[38;5;241m=\u001b[39m \u001b[43mget_grouper\u001b[49m\u001b[43m(\u001b[49m\n\u001b[0;32m   1279\u001b[0m \u001b[43m        \u001b[49m\u001b[43mobj\u001b[49m\u001b[43m,\u001b[49m\n\u001b[0;32m   1280\u001b[0m \u001b[43m        \u001b[49m\u001b[43mkeys\u001b[49m\u001b[43m,\u001b[49m\n\u001b[0;32m   1281\u001b[0m \u001b[43m        \u001b[49m\u001b[43maxis\u001b[49m\u001b[38;5;241;43m=\u001b[39;49m\u001b[43maxis\u001b[49m\u001b[43m,\u001b[49m\n\u001b[0;32m   1282\u001b[0m \u001b[43m        \u001b[49m\u001b[43mlevel\u001b[49m\u001b[38;5;241;43m=\u001b[39;49m\u001b[43mlevel\u001b[49m\u001b[43m,\u001b[49m\n\u001b[0;32m   1283\u001b[0m \u001b[43m        \u001b[49m\u001b[43msort\u001b[49m\u001b[38;5;241;43m=\u001b[39;49m\u001b[43msort\u001b[49m\u001b[43m,\u001b[49m\n\u001b[0;32m   1284\u001b[0m \u001b[43m        \u001b[49m\u001b[43mobserved\u001b[49m\u001b[38;5;241;43m=\u001b[39;49m\u001b[38;5;28;43;01mFalse\u001b[39;49;00m\u001b[43m \u001b[49m\u001b[38;5;28;43;01mif\u001b[39;49;00m\u001b[43m \u001b[49m\u001b[43mobserved\u001b[49m\u001b[43m \u001b[49m\u001b[38;5;129;43;01mis\u001b[39;49;00m\u001b[43m \u001b[49m\u001b[43mlib\u001b[49m\u001b[38;5;241;43m.\u001b[39;49m\u001b[43mno_default\u001b[49m\u001b[43m \u001b[49m\u001b[38;5;28;43;01melse\u001b[39;49;00m\u001b[43m \u001b[49m\u001b[43mobserved\u001b[49m\u001b[43m,\u001b[49m\n\u001b[0;32m   1285\u001b[0m \u001b[43m        \u001b[49m\u001b[43mdropna\u001b[49m\u001b[38;5;241;43m=\u001b[39;49m\u001b[38;5;28;43mself\u001b[39;49m\u001b[38;5;241;43m.\u001b[39;49m\u001b[43mdropna\u001b[49m\u001b[43m,\u001b[49m\n\u001b[0;32m   1286\u001b[0m \u001b[43m    \u001b[49m\u001b[43m)\u001b[49m\n\u001b[0;32m   1288\u001b[0m \u001b[38;5;28;01mif\u001b[39;00m observed \u001b[38;5;129;01mis\u001b[39;00m lib\u001b[38;5;241m.\u001b[39mno_default:\n\u001b[0;32m   1289\u001b[0m     \u001b[38;5;28;01mif\u001b[39;00m \u001b[38;5;28many\u001b[39m(ping\u001b[38;5;241m.\u001b[39m_passed_categorical \u001b[38;5;28;01mfor\u001b[39;00m ping \u001b[38;5;129;01min\u001b[39;00m grouper\u001b[38;5;241m.\u001b[39mgroupings):\n",
      "File \u001b[1;32mc:\\Users\\zrmuc\\Codes\\testing\\lib\\site-packages\\pandas\\core\\groupby\\grouper.py:1009\u001b[0m, in \u001b[0;36mget_grouper\u001b[1;34m(obj, key, axis, level, sort, observed, validate, dropna)\u001b[0m\n\u001b[0;32m   1007\u001b[0m         in_axis, level, gpr \u001b[38;5;241m=\u001b[39m \u001b[38;5;28;01mFalse\u001b[39;00m, gpr, \u001b[38;5;28;01mNone\u001b[39;00m\n\u001b[0;32m   1008\u001b[0m     \u001b[38;5;28;01melse\u001b[39;00m:\n\u001b[1;32m-> 1009\u001b[0m         \u001b[38;5;28;01mraise\u001b[39;00m \u001b[38;5;167;01mKeyError\u001b[39;00m(gpr)\n\u001b[0;32m   1010\u001b[0m \u001b[38;5;28;01melif\u001b[39;00m \u001b[38;5;28misinstance\u001b[39m(gpr, Grouper) \u001b[38;5;129;01mand\u001b[39;00m gpr\u001b[38;5;241m.\u001b[39mkey \u001b[38;5;129;01mis\u001b[39;00m \u001b[38;5;129;01mnot\u001b[39;00m \u001b[38;5;28;01mNone\u001b[39;00m:\n\u001b[0;32m   1011\u001b[0m     \u001b[38;5;66;03m# Add key to exclusions\u001b[39;00m\n\u001b[0;32m   1012\u001b[0m     exclusions\u001b[38;5;241m.\u001b[39madd(gpr\u001b[38;5;241m.\u001b[39mkey)\n",
      "\u001b[1;31mKeyError\u001b[0m: 'site_id'"
     ]
    }
   ],
   "source": [
    "monitoring_result_mean = pd.Series.to_frame(tree_biomasses_python.groupby(['site_id','plot_id'])['carbon'].agg('mean')).reset_index()"
   ]
  },
  {
   "cell_type": "code",
   "execution_count": null,
   "metadata": {},
   "outputs": [],
   "source": []
  },
  {
   "cell_type": "code",
   "execution_count": 191,
   "metadata": {},
   "outputs": [
    {
     "data": {
      "text/plain": [
       "109    0.00623\n",
       "110    0.03587\n",
       "129    1.00000\n",
       "144    0.29350\n",
       "162    0.90135\n",
       "Name: value, dtype: object"
      ]
     },
     "execution_count": 191,
     "metadata": {},
     "output_type": "execute_result"
    }
   ],
   "source": [
    "data_analytics[(data_analytics['plot_id'] == 'BB-04') & (data_analytics['site_id'] == 'BB')]['value']"
   ]
  },
  {
   "cell_type": "code",
   "execution_count": null,
   "metadata": {},
   "outputs": [],
   "source": []
  }
 ],
 "metadata": {
  "kernelspec": {
   "display_name": "testing",
   "language": "python",
   "name": "python3"
  },
  "language_info": {
   "codemirror_mode": {
    "name": "ipython",
    "version": 3
   },
   "file_extension": ".py",
   "mimetype": "text/x-python",
   "name": "python",
   "nbconvert_exporter": "python",
   "pygments_lexer": "ipython3",
   "version": "3.10.14"
  }
 },
 "nbformat": 4,
 "nbformat_minor": 2
}
